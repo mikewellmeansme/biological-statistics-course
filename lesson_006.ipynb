{
 "cells": [
  {
   "cell_type": "markdown",
   "metadata": {},
   "source": [
    "# F-строки"
   ]
  },
  {
   "cell_type": "markdown",
   "metadata": {},
   "source": [
    "Иногда у нас возникает потребность в конструированиии строк из других переменных, например:"
   ]
  },
  {
   "cell_type": "code",
   "execution_count": 1,
   "metadata": {},
   "outputs": [
    {
     "name": "stdout",
     "output_type": "stream",
     "text": [
      "Меня зовут Василий. Мне 46 лет.\n"
     ]
    }
   ],
   "source": [
    "name = \"Василий\"\n",
    "age = 46\n",
    "print(\"Меня зовут \" + name + \". Мне \" + str(age) + \" лет.\")"
   ]
  },
  {
   "cell_type": "markdown",
   "metadata": {},
   "source": [
    "Однако предложенный выше способ крайне громоздкий и сложночитаемый. Кроме того, он не эффективен по производительности.\n",
    "\n",
    "Более простое и элегантное решение: f-строки"
   ]
  },
  {
   "cell_type": "code",
   "execution_count": 2,
   "metadata": {},
   "outputs": [
    {
     "name": "stdout",
     "output_type": "stream",
     "text": [
      "Меня зовут Василий. Мне 46 лет.\n"
     ]
    }
   ],
   "source": [
    "print(f\"Меня зовут {name}. Мне {age} лет.\")"
   ]
  },
  {
   "cell_type": "markdown",
   "metadata": {},
   "source": [
    "Мы пишем обычную строку, перед которой ставим символ \"f\", а внутри строки, в фигурных скобках, пишем имя переменной, которую хотим добавить в строку на это место"
   ]
  },
  {
   "cell_type": "markdown",
   "metadata": {},
   "source": [
    "Усли нам внезапно потребуется использовать внутри f-строки символы фигурных скобок, то просто пишем их дважды:"
   ]
  },
  {
   "cell_type": "code",
   "execution_count": 3,
   "metadata": {},
   "outputs": [
    {
     "name": "stdout",
     "output_type": "stream",
     "text": [
      "Я всё ещё Василий, вот вам фигурная скобка: {\n",
      "И ещё одна: }\n",
      "И сразу две: {}\n"
     ]
    }
   ],
   "source": [
    "print(f'Я всё ещё {name}, вот вам фигурная скобка: {{')\n",
    "print(f'И ещё одна: }}')\n",
    "print(f'И сразу две: {{}}')"
   ]
  },
  {
   "cell_type": "markdown",
   "metadata": {},
   "source": [
    "f-строки могут быть удобны для того, чтобы менять выводимый текст в цикле:"
   ]
  },
  {
   "cell_type": "code",
   "execution_count": 4,
   "metadata": {},
   "outputs": [
    {
     "name": "stdout",
     "output_type": "stream",
     "text": [
      "2 в 0-ой степени равняется 1\n",
      "2 в 1-ой степени равняется 2\n",
      "2 в 2-ой степени равняется 4\n",
      "2 в 3-ой степени равняется 8\n",
      "2 в 4-ой степени равняется 16\n",
      "2 в 5-ой степени равняется 32\n",
      "2 в 6-ой степени равняется 64\n",
      "2 в 7-ой степени равняется 128\n",
      "2 в 8-ой степени равняется 256\n",
      "2 в 9-ой степени равняется 512\n"
     ]
    }
   ],
   "source": [
    "for i in range(0, 10):\n",
    "    print(f'{2} в {i}-ой степени равняется {2 ** i}')"
   ]
  },
  {
   "cell_type": "markdown",
   "metadata": {},
   "source": [
    "# Списковые включения (List comprehension)"
   ]
  },
  {
   "cell_type": "markdown",
   "metadata": {},
   "source": [
    "Иногда нам потребуется создавать списки или словари, с элементами, заданными по одному и тому же правилу — например список имён колонок, отличающихся только номером:\n",
    "\n",
    "Мы можем это сделать следующим образом:"
   ]
  },
  {
   "cell_type": "code",
   "execution_count": 5,
   "metadata": {},
   "outputs": [
    {
     "name": "stdout",
     "output_type": "stream",
     "text": [
      "['D1', 'D2', 'D3', 'D4', 'D5']\n"
     ]
    }
   ],
   "source": [
    "columns = []                    # Создаём пустой список columns,\n",
    "for i in range(1, 6):           # а затем в цикле от 1 до 6 (не включая 6)\n",
    "    columns.append(f'D{i}')     # добавляем в конец списка columns, строки с текстом 'D1', 'D2', ...,  'D5'.\n",
    "\n",
    "print(columns)"
   ]
  },
  {
   "cell_type": "markdown",
   "metadata": {},
   "source": [
    "Однако на создание простого списка, мы потратили целых три строки. Это длинно и неудобно.\n",
    "\n",
    "Куда более простой способ создавать списки по правилам: Списковые включения (list comprehensions)!"
   ]
  },
  {
   "cell_type": "code",
   "execution_count": 6,
   "metadata": {},
   "outputs": [
    {
     "name": "stdout",
     "output_type": "stream",
     "text": [
      "['D1', 'D2', 'D3', 'D4', 'D5']\n"
     ]
    }
   ],
   "source": [
    "columns = [f'D{i}' for i in range(1, 6)]\n",
    "print(columns)"
   ]
  },
  {
   "cell_type": "markdown",
   "metadata": {},
   "source": [
    "Как мы видим, результат точно такой же, как и при использования цикла и метода append, но кода мы написали меньше."
   ]
  },
  {
   "cell_type": "markdown",
   "metadata": {},
   "source": [
    "С помощью включений мы можем создавать и словари:"
   ]
  },
  {
   "cell_type": "code",
   "execution_count": 7,
   "metadata": {},
   "outputs": [
    {
     "data": {
      "text/plain": [
       "{0: 1, 1: 2, 2: 4, 3: 8, 4: 16, 5: 32, 6: 64, 7: 128, 8: 256, 9: 512}"
      ]
     },
     "execution_count": 7,
     "metadata": {},
     "output_type": "execute_result"
    }
   ],
   "source": [
    "# Словарь, где в качестве ключей выступают степени\n",
    "# А в качестве значений — два, возведённая в конкретную степень:\n",
    "\n",
    "{i: 2**i for i in range(10)}    "
   ]
  },
  {
   "cell_type": "markdown",
   "metadata": {},
   "source": [
    "Или мы можем применять условия к добавляемым элементам:"
   ]
  },
  {
   "cell_type": "code",
   "execution_count": 8,
   "metadata": {},
   "outputs": [
    {
     "data": {
      "text/plain": [
       "[0, 2, 4, 6, 8, 10]"
      ]
     },
     "execution_count": 8,
     "metadata": {},
     "output_type": "execute_result"
    }
   ],
   "source": [
    "# Список только чётных элементов от 0 до 10:\n",
    "\n",
    "[i for i in range(11) if i % 2 == 0]"
   ]
  },
  {
   "cell_type": "markdown",
   "metadata": {},
   "source": [
    "# Группировка данных"
   ]
  },
  {
   "cell_type": "markdown",
   "metadata": {},
   "source": [
    "Подключаем библиотеки для работы с таблицами и графиками соответственно:"
   ]
  },
  {
   "cell_type": "code",
   "execution_count": 9,
   "metadata": {},
   "outputs": [],
   "source": [
    "import pandas as pd\n",
    "import matplotlib.pyplot as plt"
   ]
  },
  {
   "cell_type": "markdown",
   "metadata": {},
   "source": [
    "Считываем новую таблицу по ссылке и сохраняем её в переменную df:"
   ]
  },
  {
   "cell_type": "code",
   "execution_count": 10,
   "metadata": {},
   "outputs": [],
   "source": [
    "df = pd.read_csv('https://raw.githubusercontent.com/mikewellmeansme/biological-statistics-course/master/data/002.csv')"
   ]
  },
  {
   "cell_type": "markdown",
   "metadata": {},
   "source": [
    "Смотрим на имеющиеся данные:"
   ]
  },
  {
   "cell_type": "code",
   "execution_count": 11,
   "metadata": {},
   "outputs": [
    {
     "data": {
      "text/html": [
       "<div>\n",
       "<style scoped>\n",
       "    .dataframe tbody tr th:only-of-type {\n",
       "        vertical-align: middle;\n",
       "    }\n",
       "\n",
       "    .dataframe tbody tr th {\n",
       "        vertical-align: top;\n",
       "    }\n",
       "\n",
       "    .dataframe thead th {\n",
       "        text-align: right;\n",
       "    }\n",
       "</style>\n",
       "<table border=\"1\" class=\"dataframe\">\n",
       "  <thead>\n",
       "    <tr style=\"text-align: right;\">\n",
       "      <th></th>\n",
       "      <th>Year</th>\n",
       "      <th>№</th>\n",
       "      <th>D1</th>\n",
       "      <th>CWT1</th>\n",
       "      <th>D2</th>\n",
       "      <th>CWT2</th>\n",
       "      <th>D3</th>\n",
       "      <th>CWT3</th>\n",
       "      <th>D4</th>\n",
       "      <th>CWT4</th>\n",
       "      <th>D5</th>\n",
       "      <th>CWT5</th>\n",
       "    </tr>\n",
       "  </thead>\n",
       "  <tbody>\n",
       "    <tr>\n",
       "      <th>0</th>\n",
       "      <td>1900</td>\n",
       "      <td>1</td>\n",
       "      <td>29.732192</td>\n",
       "      <td>1.978620</td>\n",
       "      <td>30.939511</td>\n",
       "      <td>2.380663</td>\n",
       "      <td>52.044985</td>\n",
       "      <td>2.718184</td>\n",
       "      <td>50.164903</td>\n",
       "      <td>2.054598</td>\n",
       "      <td>43.016125</td>\n",
       "      <td>2.584435</td>\n",
       "    </tr>\n",
       "    <tr>\n",
       "      <th>1</th>\n",
       "      <td>1900</td>\n",
       "      <td>2</td>\n",
       "      <td>34.759909</td>\n",
       "      <td>2.044564</td>\n",
       "      <td>45.206381</td>\n",
       "      <td>2.415747</td>\n",
       "      <td>38.693274</td>\n",
       "      <td>2.553285</td>\n",
       "      <td>42.980751</td>\n",
       "      <td>2.126673</td>\n",
       "      <td>58.212753</td>\n",
       "      <td>2.488130</td>\n",
       "    </tr>\n",
       "    <tr>\n",
       "      <th>2</th>\n",
       "      <td>1900</td>\n",
       "      <td>3</td>\n",
       "      <td>33.963835</td>\n",
       "      <td>2.127454</td>\n",
       "      <td>40.888162</td>\n",
       "      <td>2.517027</td>\n",
       "      <td>52.128155</td>\n",
       "      <td>2.242873</td>\n",
       "      <td>37.238511</td>\n",
       "      <td>2.169035</td>\n",
       "      <td>53.150593</td>\n",
       "      <td>2.397679</td>\n",
       "    </tr>\n",
       "    <tr>\n",
       "      <th>3</th>\n",
       "      <td>1900</td>\n",
       "      <td>4</td>\n",
       "      <td>34.589675</td>\n",
       "      <td>2.054913</td>\n",
       "      <td>39.816332</td>\n",
       "      <td>2.356675</td>\n",
       "      <td>35.326948</td>\n",
       "      <td>2.497427</td>\n",
       "      <td>39.923438</td>\n",
       "      <td>1.855345</td>\n",
       "      <td>46.979475</td>\n",
       "      <td>2.324768</td>\n",
       "    </tr>\n",
       "    <tr>\n",
       "      <th>4</th>\n",
       "      <td>1900</td>\n",
       "      <td>5</td>\n",
       "      <td>39.908020</td>\n",
       "      <td>2.084306</td>\n",
       "      <td>45.551745</td>\n",
       "      <td>2.088117</td>\n",
       "      <td>42.807431</td>\n",
       "      <td>2.338421</td>\n",
       "      <td>48.159986</td>\n",
       "      <td>2.032776</td>\n",
       "      <td>45.456906</td>\n",
       "      <td>2.422898</td>\n",
       "    </tr>\n",
       "  </tbody>\n",
       "</table>\n",
       "</div>"
      ],
      "text/plain": [
       "   Year  №         D1      CWT1         D2      CWT2         D3      CWT3  \\\n",
       "0  1900  1  29.732192  1.978620  30.939511  2.380663  52.044985  2.718184   \n",
       "1  1900  2  34.759909  2.044564  45.206381  2.415747  38.693274  2.553285   \n",
       "2  1900  3  33.963835  2.127454  40.888162  2.517027  52.128155  2.242873   \n",
       "3  1900  4  34.589675  2.054913  39.816332  2.356675  35.326948  2.497427   \n",
       "4  1900  5  39.908020  2.084306  45.551745  2.088117  42.807431  2.338421   \n",
       "\n",
       "          D4      CWT4         D5      CWT5  \n",
       "0  50.164903  2.054598  43.016125  2.584435  \n",
       "1  42.980751  2.126673  58.212753  2.488130  \n",
       "2  37.238511  2.169035  53.150593  2.397679  \n",
       "3  39.923438  1.855345  46.979475  2.324768  \n",
       "4  48.159986  2.032776  45.456906  2.422898  "
      ]
     },
     "execution_count": 11,
     "metadata": {},
     "output_type": "execute_result"
    }
   ],
   "source": [
    "df.head()"
   ]
  },
  {
   "cell_type": "markdown",
   "metadata": {},
   "source": [
    "Добавляем колонки средних диаметра и толщины клеточной стенки (вместо того, чтобы писать все имена колонок, просто пишем списковое включение на основе f-строк):"
   ]
  },
  {
   "cell_type": "code",
   "execution_count": 12,
   "metadata": {},
   "outputs": [],
   "source": [
    "df['Dmean'] = df[[f'D{i}' for i in range(1, 6)]].mean(axis=1)\n",
    "df['CWTmean'] = df[[f'CWT{i}' for i in range(1, 6)]].mean(axis=1)"
   ]
  },
  {
   "cell_type": "code",
   "execution_count": 13,
   "metadata": {},
   "outputs": [
    {
     "data": {
      "text/html": [
       "<div>\n",
       "<style scoped>\n",
       "    .dataframe tbody tr th:only-of-type {\n",
       "        vertical-align: middle;\n",
       "    }\n",
       "\n",
       "    .dataframe tbody tr th {\n",
       "        vertical-align: top;\n",
       "    }\n",
       "\n",
       "    .dataframe thead th {\n",
       "        text-align: right;\n",
       "    }\n",
       "</style>\n",
       "<table border=\"1\" class=\"dataframe\">\n",
       "  <thead>\n",
       "    <tr style=\"text-align: right;\">\n",
       "      <th></th>\n",
       "      <th>Year</th>\n",
       "      <th>№</th>\n",
       "      <th>D1</th>\n",
       "      <th>CWT1</th>\n",
       "      <th>D2</th>\n",
       "      <th>CWT2</th>\n",
       "      <th>D3</th>\n",
       "      <th>CWT3</th>\n",
       "      <th>D4</th>\n",
       "      <th>CWT4</th>\n",
       "      <th>D5</th>\n",
       "      <th>CWT5</th>\n",
       "      <th>Dmean</th>\n",
       "      <th>CWTmean</th>\n",
       "    </tr>\n",
       "  </thead>\n",
       "  <tbody>\n",
       "    <tr>\n",
       "      <th>0</th>\n",
       "      <td>1900</td>\n",
       "      <td>1</td>\n",
       "      <td>29.732192</td>\n",
       "      <td>1.978620</td>\n",
       "      <td>30.939511</td>\n",
       "      <td>2.380663</td>\n",
       "      <td>52.044985</td>\n",
       "      <td>2.718184</td>\n",
       "      <td>50.164903</td>\n",
       "      <td>2.054598</td>\n",
       "      <td>43.016125</td>\n",
       "      <td>2.584435</td>\n",
       "      <td>41.179543</td>\n",
       "      <td>2.343300</td>\n",
       "    </tr>\n",
       "    <tr>\n",
       "      <th>1</th>\n",
       "      <td>1900</td>\n",
       "      <td>2</td>\n",
       "      <td>34.759909</td>\n",
       "      <td>2.044564</td>\n",
       "      <td>45.206381</td>\n",
       "      <td>2.415747</td>\n",
       "      <td>38.693274</td>\n",
       "      <td>2.553285</td>\n",
       "      <td>42.980751</td>\n",
       "      <td>2.126673</td>\n",
       "      <td>58.212753</td>\n",
       "      <td>2.488130</td>\n",
       "      <td>43.970614</td>\n",
       "      <td>2.325680</td>\n",
       "    </tr>\n",
       "    <tr>\n",
       "      <th>2</th>\n",
       "      <td>1900</td>\n",
       "      <td>3</td>\n",
       "      <td>33.963835</td>\n",
       "      <td>2.127454</td>\n",
       "      <td>40.888162</td>\n",
       "      <td>2.517027</td>\n",
       "      <td>52.128155</td>\n",
       "      <td>2.242873</td>\n",
       "      <td>37.238511</td>\n",
       "      <td>2.169035</td>\n",
       "      <td>53.150593</td>\n",
       "      <td>2.397679</td>\n",
       "      <td>43.473851</td>\n",
       "      <td>2.290813</td>\n",
       "    </tr>\n",
       "    <tr>\n",
       "      <th>3</th>\n",
       "      <td>1900</td>\n",
       "      <td>4</td>\n",
       "      <td>34.589675</td>\n",
       "      <td>2.054913</td>\n",
       "      <td>39.816332</td>\n",
       "      <td>2.356675</td>\n",
       "      <td>35.326948</td>\n",
       "      <td>2.497427</td>\n",
       "      <td>39.923438</td>\n",
       "      <td>1.855345</td>\n",
       "      <td>46.979475</td>\n",
       "      <td>2.324768</td>\n",
       "      <td>39.327174</td>\n",
       "      <td>2.217826</td>\n",
       "    </tr>\n",
       "    <tr>\n",
       "      <th>4</th>\n",
       "      <td>1900</td>\n",
       "      <td>5</td>\n",
       "      <td>39.908020</td>\n",
       "      <td>2.084306</td>\n",
       "      <td>45.551745</td>\n",
       "      <td>2.088117</td>\n",
       "      <td>42.807431</td>\n",
       "      <td>2.338421</td>\n",
       "      <td>48.159986</td>\n",
       "      <td>2.032776</td>\n",
       "      <td>45.456906</td>\n",
       "      <td>2.422898</td>\n",
       "      <td>44.376818</td>\n",
       "      <td>2.193304</td>\n",
       "    </tr>\n",
       "  </tbody>\n",
       "</table>\n",
       "</div>"
      ],
      "text/plain": [
       "   Year  №         D1      CWT1         D2      CWT2         D3      CWT3  \\\n",
       "0  1900  1  29.732192  1.978620  30.939511  2.380663  52.044985  2.718184   \n",
       "1  1900  2  34.759909  2.044564  45.206381  2.415747  38.693274  2.553285   \n",
       "2  1900  3  33.963835  2.127454  40.888162  2.517027  52.128155  2.242873   \n",
       "3  1900  4  34.589675  2.054913  39.816332  2.356675  35.326948  2.497427   \n",
       "4  1900  5  39.908020  2.084306  45.551745  2.088117  42.807431  2.338421   \n",
       "\n",
       "          D4      CWT4         D5      CWT5      Dmean   CWTmean  \n",
       "0  50.164903  2.054598  43.016125  2.584435  41.179543  2.343300  \n",
       "1  42.980751  2.126673  58.212753  2.488130  43.970614  2.325680  \n",
       "2  37.238511  2.169035  53.150593  2.397679  43.473851  2.290813  \n",
       "3  39.923438  1.855345  46.979475  2.324768  39.327174  2.217826  \n",
       "4  48.159986  2.032776  45.456906  2.422898  44.376818  2.193304  "
      ]
     },
     "execution_count": 13,
     "metadata": {},
     "output_type": "execute_result"
    }
   ],
   "source": [
    "df.head()"
   ]
  },
  {
   "cell_type": "markdown",
   "metadata": {},
   "source": [
    "Далее по ходу работы нам не потребуются индивидуальные измерения. Отбросим их:"
   ]
  },
  {
   "cell_type": "code",
   "execution_count": 14,
   "metadata": {},
   "outputs": [],
   "source": [
    "df = df.drop(columns=[f'D{i}' for i in range(1, 6)])\n",
    "df = df.drop(columns=[f'CWT{i}' for i in range(1, 6)])"
   ]
  },
  {
   "cell_type": "markdown",
   "metadata": {},
   "source": [
    "Теперь наша таблица стала чище:"
   ]
  },
  {
   "cell_type": "code",
   "execution_count": 15,
   "metadata": {},
   "outputs": [
    {
     "data": {
      "text/html": [
       "<div>\n",
       "<style scoped>\n",
       "    .dataframe tbody tr th:only-of-type {\n",
       "        vertical-align: middle;\n",
       "    }\n",
       "\n",
       "    .dataframe tbody tr th {\n",
       "        vertical-align: top;\n",
       "    }\n",
       "\n",
       "    .dataframe thead th {\n",
       "        text-align: right;\n",
       "    }\n",
       "</style>\n",
       "<table border=\"1\" class=\"dataframe\">\n",
       "  <thead>\n",
       "    <tr style=\"text-align: right;\">\n",
       "      <th></th>\n",
       "      <th>Year</th>\n",
       "      <th>№</th>\n",
       "      <th>Dmean</th>\n",
       "      <th>CWTmean</th>\n",
       "    </tr>\n",
       "  </thead>\n",
       "  <tbody>\n",
       "    <tr>\n",
       "      <th>0</th>\n",
       "      <td>1900</td>\n",
       "      <td>1</td>\n",
       "      <td>41.179543</td>\n",
       "      <td>2.343300</td>\n",
       "    </tr>\n",
       "    <tr>\n",
       "      <th>1</th>\n",
       "      <td>1900</td>\n",
       "      <td>2</td>\n",
       "      <td>43.970614</td>\n",
       "      <td>2.325680</td>\n",
       "    </tr>\n",
       "    <tr>\n",
       "      <th>2</th>\n",
       "      <td>1900</td>\n",
       "      <td>3</td>\n",
       "      <td>43.473851</td>\n",
       "      <td>2.290813</td>\n",
       "    </tr>\n",
       "    <tr>\n",
       "      <th>3</th>\n",
       "      <td>1900</td>\n",
       "      <td>4</td>\n",
       "      <td>39.327174</td>\n",
       "      <td>2.217826</td>\n",
       "    </tr>\n",
       "    <tr>\n",
       "      <th>4</th>\n",
       "      <td>1900</td>\n",
       "      <td>5</td>\n",
       "      <td>44.376818</td>\n",
       "      <td>2.193304</td>\n",
       "    </tr>\n",
       "  </tbody>\n",
       "</table>\n",
       "</div>"
      ],
      "text/plain": [
       "   Year  №      Dmean   CWTmean\n",
       "0  1900  1  41.179543  2.343300\n",
       "1  1900  2  43.970614  2.325680\n",
       "2  1900  3  43.473851  2.290813\n",
       "3  1900  4  39.327174  2.217826\n",
       "4  1900  5  44.376818  2.193304"
      ]
     },
     "execution_count": 15,
     "metadata": {},
     "output_type": "execute_result"
    }
   ],
   "source": [
    "df.head()"
   ]
  },
  {
   "cell_type": "markdown",
   "metadata": {},
   "source": [
    "Чтобы сгруппировать данные, прибегнем к методу \"groupby\":"
   ]
  },
  {
   "cell_type": "code",
   "execution_count": 16,
   "metadata": {},
   "outputs": [
    {
     "data": {
      "text/plain": [
       "<pandas.core.groupby.generic.DataFrameGroupBy object at 0x0000029FF4C02BE0>"
      ]
     },
     "execution_count": 16,
     "metadata": {},
     "output_type": "execute_result"
    }
   ],
   "source": [
    "df.groupby('Year')"
   ]
  },
  {
   "cell_type": "markdown",
   "metadata": {},
   "source": [
    "Видим, что у нас вывелась информация об объекте групп, лежащем в памяти по адрес — нас это не интересует\n",
    "\n",
    "Мы сгруппировали данные, но ничего с ними не делали.\n",
    "\n",
    "Предположим, мы хотим найти максимальный элемент в каждом году:"
   ]
  },
  {
   "cell_type": "code",
   "execution_count": 17,
   "metadata": {},
   "outputs": [
    {
     "data": {
      "text/html": [
       "<div>\n",
       "<style scoped>\n",
       "    .dataframe tbody tr th:only-of-type {\n",
       "        vertical-align: middle;\n",
       "    }\n",
       "\n",
       "    .dataframe tbody tr th {\n",
       "        vertical-align: top;\n",
       "    }\n",
       "\n",
       "    .dataframe thead th {\n",
       "        text-align: right;\n",
       "    }\n",
       "</style>\n",
       "<table border=\"1\" class=\"dataframe\">\n",
       "  <thead>\n",
       "    <tr style=\"text-align: right;\">\n",
       "      <th></th>\n",
       "      <th>№</th>\n",
       "      <th>Dmean</th>\n",
       "      <th>CWTmean</th>\n",
       "    </tr>\n",
       "    <tr>\n",
       "      <th>Year</th>\n",
       "      <th></th>\n",
       "      <th></th>\n",
       "      <th></th>\n",
       "    </tr>\n",
       "  </thead>\n",
       "  <tbody>\n",
       "    <tr>\n",
       "      <th>1900</th>\n",
       "      <td>25</td>\n",
       "      <td>45.675826</td>\n",
       "      <td>3.321200</td>\n",
       "    </tr>\n",
       "    <tr>\n",
       "      <th>1901</th>\n",
       "      <td>59</td>\n",
       "      <td>48.852504</td>\n",
       "      <td>3.490298</td>\n",
       "    </tr>\n",
       "    <tr>\n",
       "      <th>1902</th>\n",
       "      <td>37</td>\n",
       "      <td>45.551206</td>\n",
       "      <td>4.679759</td>\n",
       "    </tr>\n",
       "    <tr>\n",
       "      <th>1903</th>\n",
       "      <td>39</td>\n",
       "      <td>43.509881</td>\n",
       "      <td>4.714577</td>\n",
       "    </tr>\n",
       "    <tr>\n",
       "      <th>1904</th>\n",
       "      <td>64</td>\n",
       "      <td>39.215885</td>\n",
       "      <td>4.736352</td>\n",
       "    </tr>\n",
       "    <tr>\n",
       "      <th>...</th>\n",
       "      <td>...</td>\n",
       "      <td>...</td>\n",
       "      <td>...</td>\n",
       "    </tr>\n",
       "    <tr>\n",
       "      <th>1996</th>\n",
       "      <td>36</td>\n",
       "      <td>46.025063</td>\n",
       "      <td>4.497044</td>\n",
       "    </tr>\n",
       "    <tr>\n",
       "      <th>1997</th>\n",
       "      <td>8</td>\n",
       "      <td>42.359593</td>\n",
       "      <td>2.403692</td>\n",
       "    </tr>\n",
       "    <tr>\n",
       "      <th>1998</th>\n",
       "      <td>26</td>\n",
       "      <td>38.210444</td>\n",
       "      <td>3.390793</td>\n",
       "    </tr>\n",
       "    <tr>\n",
       "      <th>1999</th>\n",
       "      <td>17</td>\n",
       "      <td>39.579784</td>\n",
       "      <td>3.789398</td>\n",
       "    </tr>\n",
       "    <tr>\n",
       "      <th>2000</th>\n",
       "      <td>24</td>\n",
       "      <td>47.784672</td>\n",
       "      <td>2.457094</td>\n",
       "    </tr>\n",
       "  </tbody>\n",
       "</table>\n",
       "<p>101 rows × 3 columns</p>\n",
       "</div>"
      ],
      "text/plain": [
       "       №      Dmean   CWTmean\n",
       "Year                         \n",
       "1900  25  45.675826  3.321200\n",
       "1901  59  48.852504  3.490298\n",
       "1902  37  45.551206  4.679759\n",
       "1903  39  43.509881  4.714577\n",
       "1904  64  39.215885  4.736352\n",
       "...   ..        ...       ...\n",
       "1996  36  46.025063  4.497044\n",
       "1997   8  42.359593  2.403692\n",
       "1998  26  38.210444  3.390793\n",
       "1999  17  39.579784  3.789398\n",
       "2000  24  47.784672  2.457094\n",
       "\n",
       "[101 rows x 3 columns]"
      ]
     },
     "execution_count": 17,
     "metadata": {},
     "output_type": "execute_result"
    }
   ],
   "source": [
    "df.groupby('Year').max()"
   ]
  },
  {
   "cell_type": "markdown",
   "metadata": {},
   "source": [
    "Видим, что после группировки у нас немного поплыла индекация.\n",
    "\n",
    "Давайте вернём её в норму:"
   ]
  },
  {
   "cell_type": "code",
   "execution_count": 18,
   "metadata": {},
   "outputs": [
    {
     "data": {
      "text/html": [
       "<div>\n",
       "<style scoped>\n",
       "    .dataframe tbody tr th:only-of-type {\n",
       "        vertical-align: middle;\n",
       "    }\n",
       "\n",
       "    .dataframe tbody tr th {\n",
       "        vertical-align: top;\n",
       "    }\n",
       "\n",
       "    .dataframe thead th {\n",
       "        text-align: right;\n",
       "    }\n",
       "</style>\n",
       "<table border=\"1\" class=\"dataframe\">\n",
       "  <thead>\n",
       "    <tr style=\"text-align: right;\">\n",
       "      <th></th>\n",
       "      <th>Year</th>\n",
       "      <th>№</th>\n",
       "      <th>Dmean</th>\n",
       "      <th>CWTmean</th>\n",
       "    </tr>\n",
       "  </thead>\n",
       "  <tbody>\n",
       "    <tr>\n",
       "      <th>0</th>\n",
       "      <td>1900</td>\n",
       "      <td>25</td>\n",
       "      <td>45.675826</td>\n",
       "      <td>3.321200</td>\n",
       "    </tr>\n",
       "    <tr>\n",
       "      <th>1</th>\n",
       "      <td>1901</td>\n",
       "      <td>59</td>\n",
       "      <td>48.852504</td>\n",
       "      <td>3.490298</td>\n",
       "    </tr>\n",
       "    <tr>\n",
       "      <th>2</th>\n",
       "      <td>1902</td>\n",
       "      <td>37</td>\n",
       "      <td>45.551206</td>\n",
       "      <td>4.679759</td>\n",
       "    </tr>\n",
       "    <tr>\n",
       "      <th>3</th>\n",
       "      <td>1903</td>\n",
       "      <td>39</td>\n",
       "      <td>43.509881</td>\n",
       "      <td>4.714577</td>\n",
       "    </tr>\n",
       "    <tr>\n",
       "      <th>4</th>\n",
       "      <td>1904</td>\n",
       "      <td>64</td>\n",
       "      <td>39.215885</td>\n",
       "      <td>4.736352</td>\n",
       "    </tr>\n",
       "    <tr>\n",
       "      <th>...</th>\n",
       "      <td>...</td>\n",
       "      <td>...</td>\n",
       "      <td>...</td>\n",
       "      <td>...</td>\n",
       "    </tr>\n",
       "    <tr>\n",
       "      <th>96</th>\n",
       "      <td>1996</td>\n",
       "      <td>36</td>\n",
       "      <td>46.025063</td>\n",
       "      <td>4.497044</td>\n",
       "    </tr>\n",
       "    <tr>\n",
       "      <th>97</th>\n",
       "      <td>1997</td>\n",
       "      <td>8</td>\n",
       "      <td>42.359593</td>\n",
       "      <td>2.403692</td>\n",
       "    </tr>\n",
       "    <tr>\n",
       "      <th>98</th>\n",
       "      <td>1998</td>\n",
       "      <td>26</td>\n",
       "      <td>38.210444</td>\n",
       "      <td>3.390793</td>\n",
       "    </tr>\n",
       "    <tr>\n",
       "      <th>99</th>\n",
       "      <td>1999</td>\n",
       "      <td>17</td>\n",
       "      <td>39.579784</td>\n",
       "      <td>3.789398</td>\n",
       "    </tr>\n",
       "    <tr>\n",
       "      <th>100</th>\n",
       "      <td>2000</td>\n",
       "      <td>24</td>\n",
       "      <td>47.784672</td>\n",
       "      <td>2.457094</td>\n",
       "    </tr>\n",
       "  </tbody>\n",
       "</table>\n",
       "<p>101 rows × 4 columns</p>\n",
       "</div>"
      ],
      "text/plain": [
       "     Year   №      Dmean   CWTmean\n",
       "0    1900  25  45.675826  3.321200\n",
       "1    1901  59  48.852504  3.490298\n",
       "2    1902  37  45.551206  4.679759\n",
       "3    1903  39  43.509881  4.714577\n",
       "4    1904  64  39.215885  4.736352\n",
       "..    ...  ..        ...       ...\n",
       "96   1996  36  46.025063  4.497044\n",
       "97   1997   8  42.359593  2.403692\n",
       "98   1998  26  38.210444  3.390793\n",
       "99   1999  17  39.579784  3.789398\n",
       "100  2000  24  47.784672  2.457094\n",
       "\n",
       "[101 rows x 4 columns]"
      ]
     },
     "execution_count": 18,
     "metadata": {},
     "output_type": "execute_result"
    }
   ],
   "source": [
    "df.groupby('Year').max().reset_index()"
   ]
  },
  {
   "cell_type": "markdown",
   "metadata": {},
   "source": [
    "И сохраним новую таблицу под новым именем:"
   ]
  },
  {
   "cell_type": "code",
   "execution_count": 19,
   "metadata": {},
   "outputs": [],
   "source": [
    "grouped_data = df.groupby('Year').max().reset_index()"
   ]
  },
  {
   "cell_type": "code",
   "execution_count": 20,
   "metadata": {},
   "outputs": [
    {
     "data": {
      "text/html": [
       "<div>\n",
       "<style scoped>\n",
       "    .dataframe tbody tr th:only-of-type {\n",
       "        vertical-align: middle;\n",
       "    }\n",
       "\n",
       "    .dataframe tbody tr th {\n",
       "        vertical-align: top;\n",
       "    }\n",
       "\n",
       "    .dataframe thead th {\n",
       "        text-align: right;\n",
       "    }\n",
       "</style>\n",
       "<table border=\"1\" class=\"dataframe\">\n",
       "  <thead>\n",
       "    <tr style=\"text-align: right;\">\n",
       "      <th></th>\n",
       "      <th>Year</th>\n",
       "      <th>№</th>\n",
       "      <th>Dmean</th>\n",
       "      <th>CWTmean</th>\n",
       "    </tr>\n",
       "  </thead>\n",
       "  <tbody>\n",
       "    <tr>\n",
       "      <th>0</th>\n",
       "      <td>1900</td>\n",
       "      <td>25</td>\n",
       "      <td>45.675826</td>\n",
       "      <td>3.321200</td>\n",
       "    </tr>\n",
       "    <tr>\n",
       "      <th>1</th>\n",
       "      <td>1901</td>\n",
       "      <td>59</td>\n",
       "      <td>48.852504</td>\n",
       "      <td>3.490298</td>\n",
       "    </tr>\n",
       "    <tr>\n",
       "      <th>2</th>\n",
       "      <td>1902</td>\n",
       "      <td>37</td>\n",
       "      <td>45.551206</td>\n",
       "      <td>4.679759</td>\n",
       "    </tr>\n",
       "    <tr>\n",
       "      <th>3</th>\n",
       "      <td>1903</td>\n",
       "      <td>39</td>\n",
       "      <td>43.509881</td>\n",
       "      <td>4.714577</td>\n",
       "    </tr>\n",
       "    <tr>\n",
       "      <th>4</th>\n",
       "      <td>1904</td>\n",
       "      <td>64</td>\n",
       "      <td>39.215885</td>\n",
       "      <td>4.736352</td>\n",
       "    </tr>\n",
       "  </tbody>\n",
       "</table>\n",
       "</div>"
      ],
      "text/plain": [
       "   Year   №      Dmean   CWTmean\n",
       "0  1900  25  45.675826  3.321200\n",
       "1  1901  59  48.852504  3.490298\n",
       "2  1902  37  45.551206  4.679759\n",
       "3  1903  39  43.509881  4.714577\n",
       "4  1904  64  39.215885  4.736352"
      ]
     },
     "execution_count": 20,
     "metadata": {},
     "output_type": "execute_result"
    }
   ],
   "source": [
    "grouped_data.head()"
   ]
  },
  {
   "cell_type": "markdown",
   "metadata": {},
   "source": [
    "Однако теперь у нас не подходяще названы колонки, поскольку у нас больше не средние значения, а максимальные. А колонка \"№\" и вовсе показывает число клеток в году."
   ]
  },
  {
   "cell_type": "code",
   "execution_count": 21,
   "metadata": {},
   "outputs": [],
   "source": [
    "grouped_data = grouped_data.rename(columns={'№':'Cells', 'Dmean': 'Dmax', 'CWTmean': 'CWTmax'})"
   ]
  },
  {
   "cell_type": "code",
   "execution_count": 22,
   "metadata": {},
   "outputs": [
    {
     "data": {
      "text/html": [
       "<div>\n",
       "<style scoped>\n",
       "    .dataframe tbody tr th:only-of-type {\n",
       "        vertical-align: middle;\n",
       "    }\n",
       "\n",
       "    .dataframe tbody tr th {\n",
       "        vertical-align: top;\n",
       "    }\n",
       "\n",
       "    .dataframe thead th {\n",
       "        text-align: right;\n",
       "    }\n",
       "</style>\n",
       "<table border=\"1\" class=\"dataframe\">\n",
       "  <thead>\n",
       "    <tr style=\"text-align: right;\">\n",
       "      <th></th>\n",
       "      <th>Year</th>\n",
       "      <th>Cells</th>\n",
       "      <th>Dmax</th>\n",
       "      <th>CWTmax</th>\n",
       "    </tr>\n",
       "  </thead>\n",
       "  <tbody>\n",
       "    <tr>\n",
       "      <th>0</th>\n",
       "      <td>1900</td>\n",
       "      <td>25</td>\n",
       "      <td>45.675826</td>\n",
       "      <td>3.321200</td>\n",
       "    </tr>\n",
       "    <tr>\n",
       "      <th>1</th>\n",
       "      <td>1901</td>\n",
       "      <td>59</td>\n",
       "      <td>48.852504</td>\n",
       "      <td>3.490298</td>\n",
       "    </tr>\n",
       "    <tr>\n",
       "      <th>2</th>\n",
       "      <td>1902</td>\n",
       "      <td>37</td>\n",
       "      <td>45.551206</td>\n",
       "      <td>4.679759</td>\n",
       "    </tr>\n",
       "    <tr>\n",
       "      <th>3</th>\n",
       "      <td>1903</td>\n",
       "      <td>39</td>\n",
       "      <td>43.509881</td>\n",
       "      <td>4.714577</td>\n",
       "    </tr>\n",
       "    <tr>\n",
       "      <th>4</th>\n",
       "      <td>1904</td>\n",
       "      <td>64</td>\n",
       "      <td>39.215885</td>\n",
       "      <td>4.736352</td>\n",
       "    </tr>\n",
       "  </tbody>\n",
       "</table>\n",
       "</div>"
      ],
      "text/plain": [
       "   Year  Cells       Dmax    CWTmax\n",
       "0  1900     25  45.675826  3.321200\n",
       "1  1901     59  48.852504  3.490298\n",
       "2  1902     37  45.551206  4.679759\n",
       "3  1903     39  43.509881  4.714577\n",
       "4  1904     64  39.215885  4.736352"
      ]
     },
     "execution_count": 22,
     "metadata": {},
     "output_type": "execute_result"
    }
   ],
   "source": [
    "grouped_data.head()"
   ]
  },
  {
   "cell_type": "markdown",
   "metadata": {},
   "source": [
    "Теперь, когда имена соответствуют колонкам, давайте добавим новую колонку — TRW (Tree Ring Width — Ширина Годичного Кольца (ШГК))\n",
    "\n",
    "Как можно понять из названия, TRW складывается из всех элементов, составляющих годичное кольцо. То есть, из диаметров всех клеток и двойной клеточной стенки всех клеток (у каждой клетки же две стенки).\n",
    "\n",
    "Для этого давайте сначала найдём сумму всех элементов в каждом году и схохраним во временную таблицу:"
   ]
  },
  {
   "cell_type": "code",
   "execution_count": 23,
   "metadata": {},
   "outputs": [],
   "source": [
    "temp = df.groupby('Year').sum().reset_index()"
   ]
  },
  {
   "cell_type": "code",
   "execution_count": 24,
   "metadata": {},
   "outputs": [
    {
     "data": {
      "text/html": [
       "<div>\n",
       "<style scoped>\n",
       "    .dataframe tbody tr th:only-of-type {\n",
       "        vertical-align: middle;\n",
       "    }\n",
       "\n",
       "    .dataframe tbody tr th {\n",
       "        vertical-align: top;\n",
       "    }\n",
       "\n",
       "    .dataframe thead th {\n",
       "        text-align: right;\n",
       "    }\n",
       "</style>\n",
       "<table border=\"1\" class=\"dataframe\">\n",
       "  <thead>\n",
       "    <tr style=\"text-align: right;\">\n",
       "      <th></th>\n",
       "      <th>Year</th>\n",
       "      <th>№</th>\n",
       "      <th>Dmean</th>\n",
       "      <th>CWTmean</th>\n",
       "    </tr>\n",
       "  </thead>\n",
       "  <tbody>\n",
       "    <tr>\n",
       "      <th>0</th>\n",
       "      <td>1900</td>\n",
       "      <td>325</td>\n",
       "      <td>868.245102</td>\n",
       "      <td>61.232673</td>\n",
       "    </tr>\n",
       "    <tr>\n",
       "      <th>1</th>\n",
       "      <td>1901</td>\n",
       "      <td>1770</td>\n",
       "      <td>1788.240298</td>\n",
       "      <td>142.288486</td>\n",
       "    </tr>\n",
       "    <tr>\n",
       "      <th>2</th>\n",
       "      <td>1902</td>\n",
       "      <td>703</td>\n",
       "      <td>1242.799926</td>\n",
       "      <td>103.708730</td>\n",
       "    </tr>\n",
       "    <tr>\n",
       "      <th>3</th>\n",
       "      <td>1903</td>\n",
       "      <td>780</td>\n",
       "      <td>1212.895952</td>\n",
       "      <td>104.602083</td>\n",
       "    </tr>\n",
       "    <tr>\n",
       "      <th>4</th>\n",
       "      <td>1904</td>\n",
       "      <td>2080</td>\n",
       "      <td>1717.449835</td>\n",
       "      <td>163.077161</td>\n",
       "    </tr>\n",
       "  </tbody>\n",
       "</table>\n",
       "</div>"
      ],
      "text/plain": [
       "   Year     №        Dmean     CWTmean\n",
       "0  1900   325   868.245102   61.232673\n",
       "1  1901  1770  1788.240298  142.288486\n",
       "2  1902   703  1242.799926  103.708730\n",
       "3  1903   780  1212.895952  104.602083\n",
       "4  1904  2080  1717.449835  163.077161"
      ]
     },
     "execution_count": 24,
     "metadata": {},
     "output_type": "execute_result"
    }
   ],
   "source": [
    "temp.head()"
   ]
  },
  {
   "cell_type": "markdown",
   "metadata": {},
   "source": [
    "А теперь в нашу основную таблицу добавим колонку TRW:"
   ]
  },
  {
   "cell_type": "code",
   "execution_count": 25,
   "metadata": {},
   "outputs": [],
   "source": [
    "grouped_data['TRW'] = temp['Dmean'] + 2 * temp['CWTmean']"
   ]
  },
  {
   "cell_type": "markdown",
   "metadata": {},
   "source": [
    "Посмотрим на получившуюся таблицу:"
   ]
  },
  {
   "cell_type": "code",
   "execution_count": 26,
   "metadata": {},
   "outputs": [
    {
     "data": {
      "text/html": [
       "<div>\n",
       "<style scoped>\n",
       "    .dataframe tbody tr th:only-of-type {\n",
       "        vertical-align: middle;\n",
       "    }\n",
       "\n",
       "    .dataframe tbody tr th {\n",
       "        vertical-align: top;\n",
       "    }\n",
       "\n",
       "    .dataframe thead th {\n",
       "        text-align: right;\n",
       "    }\n",
       "</style>\n",
       "<table border=\"1\" class=\"dataframe\">\n",
       "  <thead>\n",
       "    <tr style=\"text-align: right;\">\n",
       "      <th></th>\n",
       "      <th>Year</th>\n",
       "      <th>Cells</th>\n",
       "      <th>Dmax</th>\n",
       "      <th>CWTmax</th>\n",
       "      <th>TRW</th>\n",
       "    </tr>\n",
       "  </thead>\n",
       "  <tbody>\n",
       "    <tr>\n",
       "      <th>0</th>\n",
       "      <td>1900</td>\n",
       "      <td>25</td>\n",
       "      <td>45.675826</td>\n",
       "      <td>3.321200</td>\n",
       "      <td>990.710448</td>\n",
       "    </tr>\n",
       "    <tr>\n",
       "      <th>1</th>\n",
       "      <td>1901</td>\n",
       "      <td>59</td>\n",
       "      <td>48.852504</td>\n",
       "      <td>3.490298</td>\n",
       "      <td>2072.817269</td>\n",
       "    </tr>\n",
       "    <tr>\n",
       "      <th>2</th>\n",
       "      <td>1902</td>\n",
       "      <td>37</td>\n",
       "      <td>45.551206</td>\n",
       "      <td>4.679759</td>\n",
       "      <td>1450.217386</td>\n",
       "    </tr>\n",
       "    <tr>\n",
       "      <th>3</th>\n",
       "      <td>1903</td>\n",
       "      <td>39</td>\n",
       "      <td>43.509881</td>\n",
       "      <td>4.714577</td>\n",
       "      <td>1422.100119</td>\n",
       "    </tr>\n",
       "    <tr>\n",
       "      <th>4</th>\n",
       "      <td>1904</td>\n",
       "      <td>64</td>\n",
       "      <td>39.215885</td>\n",
       "      <td>4.736352</td>\n",
       "      <td>2043.604157</td>\n",
       "    </tr>\n",
       "  </tbody>\n",
       "</table>\n",
       "</div>"
      ],
      "text/plain": [
       "   Year  Cells       Dmax    CWTmax          TRW\n",
       "0  1900     25  45.675826  3.321200   990.710448\n",
       "1  1901     59  48.852504  3.490298  2072.817269\n",
       "2  1902     37  45.551206  4.679759  1450.217386\n",
       "3  1903     39  43.509881  4.714577  1422.100119\n",
       "4  1904     64  39.215885  4.736352  2043.604157"
      ]
     },
     "execution_count": 26,
     "metadata": {},
     "output_type": "execute_result"
    }
   ],
   "source": [
    "grouped_data.head()"
   ]
  },
  {
   "cell_type": "markdown",
   "metadata": {},
   "source": [
    "Даже сохраним её, на будущее (не забудьте, что работая в Google Colab у вас не будет папки `data`, уберите её из пути):"
   ]
  },
  {
   "cell_type": "code",
   "execution_count": 27,
   "metadata": {},
   "outputs": [],
   "source": [
    "grouped_data.to_csv('data/grouped_002.csv', index=False)"
   ]
  },
  {
   "cell_type": "markdown",
   "metadata": {},
   "source": [
    "# Созависимость величин"
   ]
  },
  {
   "cell_type": "markdown",
   "metadata": {},
   "source": [
    "Теперь, когда у нас есть агррегированные данные по годам, нам бы хотелось найти какие-нибудь зависимости в наших данных.\n",
    "\n",
    "Например проверить, как ширина годичного кольца зависит от числа клеток в году.\n",
    "\n",
    "Чтобы проверить это, для начала, можем просто построить диаграмму рассеяния для этих двух велечин:"
   ]
  },
  {
   "cell_type": "code",
   "execution_count": 28,
   "metadata": {},
   "outputs": [
    {
     "data": {
      "image/png": "[encoded data removed]",
      "text/plain": [
       "<Figure size 432x288 with 1 Axes>"
      ]
     },
     "metadata": {
      "needs_background": "light"
     },
     "output_type": "display_data"
    }
   ],
   "source": [
    "plt.scatter(\n",
    "    grouped_data['Cells'],\n",
    "    grouped_data['TRW'],\n",
    "    color='white',\n",
    "    edgecolor='black'\n",
    ")\n",
    "plt.xlabel('Количество клеток (шт)')\n",
    "plt.ylabel('Ширина годичного кольца ($\\mu$m)')\n",
    "plt.title('Зависимость ШГК от числа клеток в году')\n",
    "plt.show()"
   ]
  },
  {
   "cell_type": "markdown",
   "metadata": {},
   "source": [
    "Мы видим, что чем больше число клеток, тем больше ШГК. Можно даже сказать, что зависимость линейная. Однако как нам выразить конкретным числом, а не абстрактным пониманием?"
   ]
  },
  {
   "cell_type": "markdown",
   "metadata": {},
   "source": [
    "## Ковариация ($cov$)"
   ]
  },
  {
   "cell_type": "markdown",
   "metadata": {},
   "source": [
    "Ковариация — парный аналог дисперсии. Но если в дисперсии мы считали \"отклонение от среднего\", то в ковариациимы смотрим насколько изменения в одной величине ведут к изменениям в другой.\n",
    "\n",
    "Формула для ковариации двух величин $X$ и $Y$ одинаковой длины $n$ выглядит следующим образом:"
   ]
  },
  {
   "cell_type": "markdown",
   "metadata": {},
   "source": [
    "$$cov(X, Y) = \\frac{(X - X_{mean}) \\cdot (Y - Y_{mean})}{n-1}$$"
   ]
  },
  {
   "cell_type": "markdown",
   "metadata": {},
   "source": [
    "Где символ \"$\\cdot$\" обозначает скалярное произведение двух векторов (то есть — сумма попарных произведений элементов векторов)."
   ]
  },
  {
   "cell_type": "markdown",
   "metadata": {},
   "source": [
    "Когда соответствующие элементы обоих векторов (колонок) $X$ и $Y$ одновременно выше или ниже своих средних, то в сумму входит положительное число.\n",
    "\n",
    "Когда один из них находится выше среднего, а другой ниже, то в сумму входит отрицательное число.\n",
    "\n",
    "Следовательно, \"большая\" положительная ковариация означает, что $X$ стремится принимать большие значения при больших $Y$, и малые значения при малых $Y$. \n",
    "\n",
    "\"Большая\" отрицательная ковариация означает обратное — $X$ стремится принимать малые значения при большом $Y$ и наоборот.\n",
    "\n",
    "Ковариация близкая к нулю означает, что такой связи не существует."
   ]
  },
  {
   "cell_type": "markdown",
   "metadata": {},
   "source": [
    "Посчитать это можно при помощи формулы:"
   ]
  },
  {
   "cell_type": "code",
   "execution_count": 29,
   "metadata": {},
   "outputs": [
    {
     "data": {
      "text/plain": [
       "8001.464933250375"
      ]
     },
     "execution_count": 29,
     "metadata": {},
     "output_type": "execute_result"
    }
   ],
   "source": [
    "def cov(x, y):\n",
    "    return ((x - x.mean()) * (y - y.mean())).sum() / (len(x) - 1 )\n",
    "\n",
    "cov(grouped_data['TRW'], grouped_data['Cells'])"
   ]
  },
  {
   "cell_type": "markdown",
   "metadata": {},
   "source": [
    "Или используя встроенный метод DataFrame'ов `cov()`:"
   ]
  },
  {
   "cell_type": "code",
   "execution_count": 30,
   "metadata": {},
   "outputs": [
    {
     "data": {
      "text/html": [
       "<div>\n",
       "<style scoped>\n",
       "    .dataframe tbody tr th:only-of-type {\n",
       "        vertical-align: middle;\n",
       "    }\n",
       "\n",
       "    .dataframe tbody tr th {\n",
       "        vertical-align: top;\n",
       "    }\n",
       "\n",
       "    .dataframe thead th {\n",
       "        text-align: right;\n",
       "    }\n",
       "</style>\n",
       "<table border=\"1\" class=\"dataframe\">\n",
       "  <thead>\n",
       "    <tr style=\"text-align: right;\">\n",
       "      <th></th>\n",
       "      <th>Cells</th>\n",
       "      <th>TRW</th>\n",
       "    </tr>\n",
       "  </thead>\n",
       "  <tbody>\n",
       "    <tr>\n",
       "      <th>Cells</th>\n",
       "      <td>223.018416</td>\n",
       "      <td>8001.464933</td>\n",
       "    </tr>\n",
       "    <tr>\n",
       "      <th>TRW</th>\n",
       "      <td>8001.464933</td>\n",
       "      <td>295613.494555</td>\n",
       "    </tr>\n",
       "  </tbody>\n",
       "</table>\n",
       "</div>"
      ],
      "text/plain": [
       "             Cells            TRW\n",
       "Cells   223.018416    8001.464933\n",
       "TRW    8001.464933  295613.494555"
      ]
     },
     "execution_count": 30,
     "metadata": {},
     "output_type": "execute_result"
    }
   ],
   "source": [
    "grouped_data[['Cells', 'TRW']].cov()"
   ]
  },
  {
   "cell_type": "markdown",
   "metadata": {},
   "source": [
    "Нетрудно убедиться, что и формула и метод дают идентичные результаты."
   ]
  },
  {
   "cell_type": "markdown",
   "metadata": {},
   "source": [
    "Однако возникает две проблемы:\n",
    "\n",
    "* Единицами измерения ковариации являются произведения единиц входящих переменных (в нашем случае это количество клеток в штуках и ШГК в микронах), которые трудно понять — что такое \"Штука в микрон\"?\n",
    "\n",
    "* Если бы ШГК было в два раза больше (но число клеток в году то же), то ковариация была бы в два раза больше. Однако, в некотором смысле, степень взаимосвязи между величинамы осталась бы той же самой. Говоря иначе, трудно лпределить, что считать \"большой\" ковариацией. "
   ]
  },
  {
   "cell_type": "markdown",
   "metadata": {},
   "source": [
    "## Корреляция ($R$)"
   ]
  },
  {
   "cell_type": "markdown",
   "metadata": {},
   "source": [
    "Из-за перечисленных выше проблем, чаще всего прибегают к корреляции, в которой ковариация делится на произведение стандартных отклонений отдельных переменных:"
   ]
  },
  {
   "cell_type": "markdown",
   "metadata": {},
   "source": [
    "$$ R(X, Y) = \\frac{cov(X,Y)}{std(X)std(Y)}$$"
   ]
  },
  {
   "cell_type": "markdown",
   "metadata": {},
   "source": [
    "Корреляция является безразмерной и лежит в диапазоне от $-1$ (идеальная антикорреляция) до $1$ (идеальная корреляция)"
   ]
  },
  {
   "cell_type": "markdown",
   "metadata": {},
   "source": [
    "Посчитать корреляцию, можно с помощью функции:"
   ]
  },
  {
   "cell_type": "code",
   "execution_count": 31,
   "metadata": {},
   "outputs": [
    {
     "data": {
      "text/plain": [
       "0.9854554944300064"
      ]
     },
     "execution_count": 31,
     "metadata": {},
     "output_type": "execute_result"
    }
   ],
   "source": [
    "def corr(x, y):\n",
    "    return cov(x, y) / (x.std() * y.std())\n",
    "\n",
    "corr(grouped_data['TRW'], grouped_data['Cells'])"
   ]
  },
  {
   "cell_type": "markdown",
   "metadata": {},
   "source": [
    "Либо, используя встроенный метод `corr()`:"
   ]
  },
  {
   "cell_type": "code",
   "execution_count": 32,
   "metadata": {},
   "outputs": [
    {
     "data": {
      "text/html": [
       "<div>\n",
       "<style scoped>\n",
       "    .dataframe tbody tr th:only-of-type {\n",
       "        vertical-align: middle;\n",
       "    }\n",
       "\n",
       "    .dataframe tbody tr th {\n",
       "        vertical-align: top;\n",
       "    }\n",
       "\n",
       "    .dataframe thead th {\n",
       "        text-align: right;\n",
       "    }\n",
       "</style>\n",
       "<table border=\"1\" class=\"dataframe\">\n",
       "  <thead>\n",
       "    <tr style=\"text-align: right;\">\n",
       "      <th></th>\n",
       "      <th>Cells</th>\n",
       "      <th>TRW</th>\n",
       "    </tr>\n",
       "  </thead>\n",
       "  <tbody>\n",
       "    <tr>\n",
       "      <th>Cells</th>\n",
       "      <td>1.000000</td>\n",
       "      <td>0.985455</td>\n",
       "    </tr>\n",
       "    <tr>\n",
       "      <th>TRW</th>\n",
       "      <td>0.985455</td>\n",
       "      <td>1.000000</td>\n",
       "    </tr>\n",
       "  </tbody>\n",
       "</table>\n",
       "</div>"
      ],
      "text/plain": [
       "          Cells       TRW\n",
       "Cells  1.000000  0.985455\n",
       "TRW    0.985455  1.000000"
      ]
     },
     "execution_count": 32,
     "metadata": {},
     "output_type": "execute_result"
    }
   ],
   "source": [
    "grouped_data[['Cells', 'TRW']].corr()"
   ]
  },
  {
   "cell_type": "markdown",
   "metadata": {},
   "source": [
    "Мы видим, что корреляция между числом клеток в году и ШГК у нас больше $0.98$, то есть, очень близка к единице, то есть можно сказать, что корреляция \"очень высока\".\n",
    "\n",
    "Однако что именно означает \"очень высокая корреляция\"?\n",
    "\n",
    "Насколько корреляция $0.7$ лучше корреляции $0.5$?\n",
    "\n",
    "В какой момент корреляция начинает быть высокой?\n",
    "\n",
    "Эти и другие вопросы мы рассмотрим на следующих семинарах."
   ]
  }
 ],
 "metadata": {
  "kernelspec": {
   "display_name": "Python 3.9.7 64-bit",
   "language": "python",
   "name": "python3"
  },
  "language_info": {
   "codemirror_mode": {
    "name": "ipython",
    "version": 3
   },
   "file_extension": ".py",
   "mimetype": "text/x-python",
   "name": "python",
   "nbconvert_exporter": "python",
   "pygments_lexer": "ipython3",
   "version": "3.9.7"
  },
  "orig_nbformat": 4,
  "vscode": {
   "interpreter": {
    "hash": "aac4e10b784c8b68847773aa91e5a338c2143a5789fe517934784a07fa1bd409"
   }
  }
 },
 "nbformat": 4,
 "nbformat_minor": 2
}
