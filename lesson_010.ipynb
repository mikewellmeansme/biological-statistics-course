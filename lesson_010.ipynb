{
 "cells": [
  {
   "cell_type": "markdown",
   "metadata": {},
   "source": [
    "# Линейная регрессия"
   ]
  },
  {
   "cell_type": "markdown",
   "metadata": {},
   "source": [
    "Подключим библиотеку `pandas` для работы с табличными данными:"
   ]
  },
  {
   "cell_type": "code",
   "execution_count": 1,
   "metadata": {},
   "outputs": [],
   "source": [
    "import pandas as pd"
   ]
  },
  {
   "cell_type": "markdown",
   "metadata": {},
   "source": [
    "Считаем таблицу, полученную на [шестом семинаре](lesson_006.ipynb):"
   ]
  },
  {
   "cell_type": "code",
   "execution_count": 2,
   "metadata": {},
   "outputs": [],
   "source": [
    "df = pd.read_csv('https://raw.githubusercontent.com/mikewellmeansme/biological-statistics-course/master/data/grouped_002.csv')"
   ]
  },
  {
   "cell_type": "markdown",
   "metadata": {},
   "source": [
    "Вспомним, как она выглядит:"
   ]
  },
  {
   "cell_type": "code",
   "execution_count": 3,
   "metadata": {},
   "outputs": [
    {
     "data": {
      "text/html": [
       "<div>\n",
       "<style scoped>\n",
       "    .dataframe tbody tr th:only-of-type {\n",
       "        vertical-align: middle;\n",
       "    }\n",
       "\n",
       "    .dataframe tbody tr th {\n",
       "        vertical-align: top;\n",
       "    }\n",
       "\n",
       "    .dataframe thead th {\n",
       "        text-align: right;\n",
       "    }\n",
       "</style>\n",
       "<table border=\"1\" class=\"dataframe\">\n",
       "  <thead>\n",
       "    <tr style=\"text-align: right;\">\n",
       "      <th></th>\n",
       "      <th>Year</th>\n",
       "      <th>Cells</th>\n",
       "      <th>Dmax</th>\n",
       "      <th>CWTmax</th>\n",
       "      <th>TRW</th>\n",
       "    </tr>\n",
       "  </thead>\n",
       "  <tbody>\n",
       "    <tr>\n",
       "      <th>0</th>\n",
       "      <td>1900</td>\n",
       "      <td>25</td>\n",
       "      <td>45.675826</td>\n",
       "      <td>3.321200</td>\n",
       "      <td>868.245102</td>\n",
       "    </tr>\n",
       "    <tr>\n",
       "      <th>1</th>\n",
       "      <td>1901</td>\n",
       "      <td>59</td>\n",
       "      <td>48.852504</td>\n",
       "      <td>3.490298</td>\n",
       "      <td>1788.240298</td>\n",
       "    </tr>\n",
       "    <tr>\n",
       "      <th>2</th>\n",
       "      <td>1902</td>\n",
       "      <td>37</td>\n",
       "      <td>45.551206</td>\n",
       "      <td>4.679759</td>\n",
       "      <td>1242.799926</td>\n",
       "    </tr>\n",
       "    <tr>\n",
       "      <th>3</th>\n",
       "      <td>1903</td>\n",
       "      <td>39</td>\n",
       "      <td>43.509881</td>\n",
       "      <td>4.714577</td>\n",
       "      <td>1212.895952</td>\n",
       "    </tr>\n",
       "    <tr>\n",
       "      <th>4</th>\n",
       "      <td>1904</td>\n",
       "      <td>64</td>\n",
       "      <td>39.215885</td>\n",
       "      <td>4.736352</td>\n",
       "      <td>1717.449835</td>\n",
       "    </tr>\n",
       "  </tbody>\n",
       "</table>\n",
       "</div>"
      ],
      "text/plain": [
       "   Year  Cells       Dmax    CWTmax          TRW\n",
       "0  1900     25  45.675826  3.321200   868.245102\n",
       "1  1901     59  48.852504  3.490298  1788.240298\n",
       "2  1902     37  45.551206  4.679759  1242.799926\n",
       "3  1903     39  43.509881  4.714577  1212.895952\n",
       "4  1904     64  39.215885  4.736352  1717.449835"
      ]
     },
     "execution_count": 3,
     "metadata": {},
     "output_type": "execute_result"
    }
   ],
   "source": [
    "df.head()"
   ]
  },
  {
   "cell_type": "markdown",
   "metadata": {},
   "source": [
    "Создадим переменные `x` и `y`, в которые поместим данные по числу клеток в годичном кольце и по ширине этого кольца соответсвенно:"
   ]
  },
  {
   "cell_type": "code",
   "execution_count": 4,
   "metadata": {},
   "outputs": [],
   "source": [
    "x = df['Cells']\n",
    "y = df['TRW']"
   ]
  },
  {
   "cell_type": "markdown",
   "metadata": {},
   "source": [
    "Подключим библиотеку `matplotlib` для визуализации данных:"
   ]
  },
  {
   "cell_type": "code",
   "execution_count": 5,
   "metadata": {},
   "outputs": [],
   "source": [
    "import matplotlib.pyplot as plt"
   ]
  },
  {
   "cell_type": "markdown",
   "metadata": {},
   "source": [
    "И вспомним, как выглядит зависимость TRW от Cells:"
   ]
  },
  {
   "cell_type": "code",
   "execution_count": 6,
   "metadata": {},
   "outputs": [
    {
     "data": {
      "image/png": "[encoded data removed]",
      "text/plain": [
       "<Figure size 432x288 with 1 Axes>"
      ]
     },
     "metadata": {
      "needs_background": "light"
     },
     "output_type": "display_data"
    }
   ],
   "source": [
    "plt.scatter(x, y, color='white', edgecolor='black')\n",
    "plt.xlabel('Cells')\n",
    "plt.ylabel('TRW')\n",
    "plt.show()"
   ]
  },
  {
   "cell_type": "markdown",
   "metadata": {},
   "source": [
    "Мы видим, что, грубо говоря, TRW от Cells зависит **линейно**, то есть с ростом Cells равномерно растёт и TRW. И на полученном графике мы мысленно можем провести прямую линию, которая будет описывать эту зависимость.\n",
    "\n",
    "Мо можем провести эту линию \"на глаз\", но степень обоснованности такого действия близится к нулю.\n",
    "\n",
    "Нам бы хотелось иметь какой-нибудь легитимный метод описывать линейные зависимости одной единственной прямой линией, пусть даже и не идеально их описывающей. Для этого прибегнем к функциям аппроксимации из бибоиотекм `numpy`."
   ]
  },
  {
   "cell_type": "markdown",
   "metadata": {},
   "source": [
    "Импортируем их в наш проект:"
   ]
  },
  {
   "cell_type": "code",
   "execution_count": 7,
   "metadata": {},
   "outputs": [],
   "source": [
    "from numpy import (\n",
    "    poly1d,\n",
    "    polyfit\n",
    ")"
   ]
  },
  {
   "cell_type": "markdown",
   "metadata": {},
   "source": [
    "Теперь, при помощи функции `polyfit` из пакета `numpy` получим коэффициенты для лучшей аппроксимации линейной функцией первой степени:"
   ]
  },
  {
   "cell_type": "code",
   "execution_count": 8,
   "metadata": {},
   "outputs": [],
   "source": [
    "coeffs = polyfit(x, y, deg=1)"
   ]
  },
  {
   "cell_type": "markdown",
   "metadata": {},
   "source": [
    "Посмотрим на то, что мы получили:"
   ]
  },
  {
   "cell_type": "code",
   "execution_count": 9,
   "metadata": {},
   "outputs": [
    {
     "data": {
      "text/plain": [
       "array([ 30.48953227, -29.42154051])"
      ]
     },
     "execution_count": 9,
     "metadata": {},
     "output_type": "execute_result"
    }
   ],
   "source": [
    "coeffs"
   ]
  },
  {
   "cell_type": "markdown",
   "metadata": {},
   "source": [
    "При помощи класса `poly1d` из пакета `numpy` создадим линейную функцию на основе этих коэффициентов:"
   ]
  },
  {
   "cell_type": "code",
   "execution_count": 10,
   "metadata": {},
   "outputs": [],
   "source": [
    "f = poly1d(coeffs)"
   ]
  },
  {
   "cell_type": "markdown",
   "metadata": {},
   "source": [
    "По факту, теперь `f` представляет собою функцию следующего вида:"
   ]
  },
  {
   "cell_type": "markdown",
   "metadata": {},
   "source": [
    "$f(x) = 30.48953227 \\cdot x -29.42154051$"
   ]
  },
  {
   "cell_type": "markdown",
   "metadata": {},
   "source": [
    "И мы можем вызывать её от различных `x`:"
   ]
  },
  {
   "cell_type": "code",
   "execution_count": 11,
   "metadata": {},
   "outputs": [
    {
     "data": {
      "text/plain": [
       "-29.421540513454936"
      ]
     },
     "execution_count": 11,
     "metadata": {},
     "output_type": "execute_result"
    }
   ],
   "source": [
    "f(0)"
   ]
  },
  {
   "cell_type": "markdown",
   "metadata": {},
   "source": [
    "Мы также можем передавать в неё сразу список значений `x` и она вернёт нам значение функции для каждого из них:"
   ]
  },
  {
   "cell_type": "code",
   "execution_count": 12,
   "metadata": {},
   "outputs": [
    {
     "data": {
      "text/plain": [
       "array([-29.42154051,   1.06799176,  31.55752404,  62.04705631,\n",
       "        92.53658859, 123.02612086])"
      ]
     },
     "execution_count": 12,
     "metadata": {},
     "output_type": "execute_result"
    }
   ],
   "source": [
    "f([0,1,2,3,4,5])"
   ]
  },
  {
   "cell_type": "markdown",
   "metadata": {},
   "source": [
    "Давайте нарисуем полученную линию поверх наших данных:"
   ]
  },
  {
   "cell_type": "code",
   "execution_count": 13,
   "metadata": {},
   "outputs": [
    {
     "data": {
      "image/png": "[encoded data removed]",
      "text/plain": [
       "<Figure size 432x288 with 1 Axes>"
      ]
     },
     "metadata": {
      "needs_background": "light"
     },
     "output_type": "display_data"
    }
   ],
   "source": [
    "plt.scatter(x, y, color='white', edgecolor='black')\n",
    "plt.plot(x, f(x), color='black')\n",
    "plt.xlabel('Cells')\n",
    "plt.ylabel('TRW')\n",
    "plt.show()"
   ]
  },
  {
   "cell_type": "markdown",
   "metadata": {},
   "source": [
    "Видим, что она действительно \"очень хорошо\" их описывает."
   ]
  },
  {
   "cell_type": "markdown",
   "metadata": {},
   "source": [
    "Мы можем даже вывести уравнение прямой на этот график:"
   ]
  },
  {
   "cell_type": "code",
   "execution_count": 14,
   "metadata": {},
   "outputs": [],
   "source": [
    "equation = f'${coeffs[0]:.2f}\\cdot x {\"+\" if coeffs[1]>0 else \"\"}{coeffs[1]:.2f}$'"
   ]
  },
  {
   "cell_type": "markdown",
   "metadata": {},
   "source": [
    "В результате получим следующую строку:"
   ]
  },
  {
   "cell_type": "code",
   "execution_count": 15,
   "metadata": {},
   "outputs": [
    {
     "data": {
      "text/plain": [
       "'$30.49\\\\cdot x -29.42$'"
      ]
     },
     "execution_count": 15,
     "metadata": {},
     "output_type": "execute_result"
    }
   ],
   "source": [
    "equation"
   ]
  },
  {
   "cell_type": "markdown",
   "metadata": {},
   "source": [
    "(по окаймляющим её знакам доллара, можно понять, что внутри используется $\\LaTeX$ для красивой отрисовки уравнения)"
   ]
  },
  {
   "cell_type": "code",
   "execution_count": 16,
   "metadata": {},
   "outputs": [
    {
     "data": {
      "image/png": "[encoded data removed]",
      "text/plain": [
       "<Figure size 432x288 with 1 Axes>"
      ]
     },
     "metadata": {
      "needs_background": "light"
     },
     "output_type": "display_data"
    }
   ],
   "source": [
    "plt.scatter(x, y, color='white', edgecolor='black')\n",
    "plt.plot(x, f(x), color='black', label=equation)\n",
    "plt.xlabel('Cells')\n",
    "plt.ylabel('TRW')\n",
    "plt.legend()\n",
    "plt.show()"
   ]
  },
  {
   "cell_type": "markdown",
   "metadata": {},
   "source": [
    "Выше мы сказали, что эта линия \"очень хорошо\" описывает наши данные. Напомним, что мы имеем в виду под \"очень хорошей линейной зависимостью\". Для этого добавим в наш проект функцию расчёта коэффициента корреляции Пирсона и его p-значения:"
   ]
  },
  {
   "cell_type": "code",
   "execution_count": 17,
   "metadata": {},
   "outputs": [],
   "source": [
    "from scipy.stats import pearsonr"
   ]
  },
  {
   "cell_type": "markdown",
   "metadata": {},
   "source": [
    "И посчитаем корреляцию (и её p-значение) для наших данных:"
   ]
  },
  {
   "cell_type": "code",
   "execution_count": 18,
   "metadata": {},
   "outputs": [],
   "source": [
    "r, p_value = pearsonr(x, y)"
   ]
  },
  {
   "cell_type": "code",
   "execution_count": 19,
   "metadata": {},
   "outputs": [
    {
     "name": "stdout",
     "output_type": "stream",
     "text": [
      "0.9812822189101578 1.2203975628160528e-72\n"
     ]
    }
   ],
   "source": [
    "print(r, p_value)"
   ]
  },
  {
   "cell_type": "markdown",
   "metadata": {},
   "source": [
    "Мы видим, что коэффициент корреляции близок к $1$, а p-значение меньше, чем все обсуждаемые нами ранее пороги ($0.05$, $0.01$, $0.001$), следовательно линейная корреляция между значениями TRW и Cells статистически значима."
   ]
  },
  {
   "cell_type": "markdown",
   "metadata": {},
   "source": [
    "Однако что именно говорит наша большая корреляция? Трактовать её как-то иначе, чем наличие линейной зависимости у нас не получается, мы не можем сказать, насколько линейная функция описывает нашу зависимость."
   ]
  },
  {
   "cell_type": "markdown",
   "metadata": {},
   "source": [
    "Для лучшей трактовки степени линейной зависимости прибегнем к новому показателю."
   ]
  },
  {
   "attachments": {},
   "cell_type": "markdown",
   "metadata": {},
   "source": [
    "# $R ^ 2$  — коэффициент детерминации"
   ]
  },
  {
   "cell_type": "markdown",
   "metadata": {},
   "source": [
    "[StatQuest](https://www.youtube.com/watch?v=2AQKmw14mHM&ab_channel=StatQuestwithJoshStarmer)"
   ]
  },
  {
   "cell_type": "markdown",
   "metadata": {},
   "source": [
    "![r2_001](images/r2_001.png)"
   ]
  },
  {
   "cell_type": "markdown",
   "metadata": {},
   "source": [
    "![r2_002](images/r2_002.png)"
   ]
  },
  {
   "cell_type": "markdown",
   "metadata": {},
   "source": [
    "![r2_003](images/r2_003.png)"
   ]
  },
  {
   "cell_type": "markdown",
   "metadata": {},
   "source": [
    "![r2_004](images/r2_004.png)"
   ]
  },
  {
   "cell_type": "markdown",
   "metadata": {},
   "source": [
    "![r2_005](images/r2_005.png)"
   ]
  },
  {
   "cell_type": "markdown",
   "metadata": {},
   "source": [
    "![r2_006](images/r2_006.png)"
   ]
  },
  {
   "cell_type": "markdown",
   "metadata": {},
   "source": [
    "![r2_007](images/r2_007.png)"
   ]
  },
  {
   "cell_type": "markdown",
   "metadata": {},
   "source": [
    "![r2_008](images/r2_008.png)"
   ]
  },
  {
   "cell_type": "markdown",
   "metadata": {},
   "source": [
    "![r2_009](images/r2_009.png)"
   ]
  },
  {
   "cell_type": "markdown",
   "metadata": {},
   "source": [
    "![r2_010](images/r2_010.png)"
   ]
  },
  {
   "cell_type": "markdown",
   "metadata": {},
   "source": [
    "![r2_011](images/r2_011.png)"
   ]
  },
  {
   "cell_type": "markdown",
   "metadata": {},
   "source": [
    "![r2_012](images/r2_012.png)"
   ]
  },
  {
   "cell_type": "markdown",
   "metadata": {},
   "source": [
    "![r2_013](images/r2_013.png)"
   ]
  },
  {
   "cell_type": "markdown",
   "metadata": {},
   "source": [
    "Посчитаем $R^2$ на наших данных. Для начала посчитаем среднее значение по TRW:"
   ]
  },
  {
   "cell_type": "code",
   "execution_count": 20,
   "metadata": {},
   "outputs": [
    {
     "data": {
      "image/png": "[encoded data removed]",
      "text/plain": [
       "<Figure size 432x288 with 1 Axes>"
      ]
     },
     "metadata": {
      "needs_background": "light"
     },
     "output_type": "display_data"
    }
   ],
   "source": [
    "plt.scatter(x, y, color='red')\n",
    "plt.plot(x, f(x), label=equation)\n",
    "plt.axhline(y.mean(), label='Mean TRW',  color='black')\n",
    "plt.xlabel('Cells')\n",
    "plt.ylabel('TRW')\n",
    "plt.legend()\n",
    "plt.show()"
   ]
  },
  {
   "cell_type": "markdown",
   "metadata": {},
   "source": [
    "Затем напишем функцию для расчёта дисперсии для ряда чисел `X` вокруг ряда чисел `M`:"
   ]
  },
  {
   "cell_type": "code",
   "execution_count": 26,
   "metadata": {},
   "outputs": [],
   "source": [
    "def var_rel(X, M):\n",
    "    return ((X - M) ** 2).sum() / (len(X) - 1)"
   ]
  },
  {
   "cell_type": "markdown",
   "metadata": {},
   "source": [
    "(мы видим, что функция аналогична таковой из [четёртого семинара](lesson_004.ipynb), только вместо среднего значения мы подставлем в неё список значений `M`)"
   ]
  },
  {
   "cell_type": "markdown",
   "metadata": {},
   "source": [
    "И считаем дисперсию вокруг среднего для TRW:"
   ]
  },
  {
   "cell_type": "code",
   "execution_count": 27,
   "metadata": {},
   "outputs": [],
   "source": [
    "var_mean = var_rel(y, y.mean())"
   ]
  },
  {
   "cell_type": "markdown",
   "metadata": {},
   "source": [
    "Визуально говоря, мы усреднили сумму квадратов всех этих отрезков:"
   ]
  },
  {
   "cell_type": "code",
   "execution_count": 28,
   "metadata": {},
   "outputs": [
    {
     "data": {
      "image/png": "[encoded data removed]",
      "text/plain": [
       "<Figure size 432x288 with 1 Axes>"
      ]
     },
     "metadata": {
      "needs_background": "light"
     },
     "output_type": "display_data"
    }
   ],
   "source": [
    "plt.scatter(x, y, color='red', zorder=2)\n",
    "plt.plot(x, f(x), label=equation)\n",
    "plt.axhline(y.mean(), label='Mean',  color='black')\n",
    "for i, j in zip(x, y):\n",
    "    plt.plot([i, i], [j, y.mean()], c='grey')\n",
    "plt.xlabel('Cells')\n",
    "plt.ylabel('TRW')\n",
    "plt.legend()\n",
    "plt.show()"
   ]
  },
  {
   "cell_type": "markdown",
   "metadata": {},
   "source": [
    "И получили следующее значение:"
   ]
  },
  {
   "cell_type": "code",
   "execution_count": 29,
   "metadata": {},
   "outputs": [
    {
     "data": {
      "text/plain": [
       "215305.13709159291"
      ]
     },
     "execution_count": 29,
     "metadata": {},
     "output_type": "execute_result"
    }
   ],
   "source": [
    "var_mean"
   ]
  },
  {
   "cell_type": "markdown",
   "metadata": {},
   "source": [
    "Теперь посчитаем дисперсию вокруг нашей линии:"
   ]
  },
  {
   "cell_type": "code",
   "execution_count": 30,
   "metadata": {},
   "outputs": [],
   "source": [
    "var_line = var_rel(y, f(x))"
   ]
  },
  {
   "cell_type": "markdown",
   "metadata": {},
   "source": [
    "Глядя на визуальное представление, сразу видно, что суммарная длина отрезков (а следовательно и среднее число их квадратов), меньше, чем было:"
   ]
  },
  {
   "cell_type": "code",
   "execution_count": 31,
   "metadata": {},
   "outputs": [
    {
     "data": {
      "image/png": "[encoded data removed]",
      "text/plain": [
       "<Figure size 432x288 with 1 Axes>"
      ]
     },
     "metadata": {
      "needs_background": "light"
     },
     "output_type": "display_data"
    }
   ],
   "source": [
    "plt.scatter(x, y, color='red', zorder=2)\n",
    "plt.plot(x, f(x), label=equation)\n",
    "plt.axhline(y.mean(), label='Mean',  color='black')\n",
    "for i, j in zip(x, y):\n",
    "    plt.plot([i, i], [j, f(i)], c='grey')\n",
    "plt.xlabel('Cells')\n",
    "plt.ylabel('TRW')\n",
    "plt.legend()\n",
    "plt.show()"
   ]
  },
  {
   "cell_type": "markdown",
   "metadata": {},
   "source": [
    "И значение дисперсии вокруг этой линии равно:"
   ]
  },
  {
   "cell_type": "code",
   "execution_count": 32,
   "metadata": {},
   "outputs": [
    {
     "data": {
      "text/plain": [
       "7984.635545072436"
      ]
     },
     "execution_count": 32,
     "metadata": {},
     "output_type": "execute_result"
    }
   ],
   "source": [
    "var_line"
   ]
  },
  {
   "cell_type": "markdown",
   "metadata": {},
   "source": [
    "То есть, **дисперсия вокруг линии меньше, чем дисперсия вокруг среднего**"
   ]
  },
  {
   "cell_type": "markdown",
   "metadata": {},
   "source": [
    "И, наконец, считаем $R^2$:"
   ]
  },
  {
   "cell_type": "code",
   "execution_count": 33,
   "metadata": {},
   "outputs": [],
   "source": [
    "r2 = (var_mean - var_line) / var_mean "
   ]
  },
  {
   "cell_type": "markdown",
   "metadata": {},
   "source": [
    "Получаем наше значение:"
   ]
  },
  {
   "cell_type": "code",
   "execution_count": 36,
   "metadata": {},
   "outputs": [
    {
     "data": {
      "text/plain": [
       "0.9629147931492424"
      ]
     },
     "execution_count": 36,
     "metadata": {},
     "output_type": "execute_result"
    }
   ],
   "source": [
    "r2"
   ]
  },
  {
   "cell_type": "markdown",
   "metadata": {},
   "source": [
    "Можно оформить это вычисление в виде функции:"
   ]
  },
  {
   "cell_type": "code",
   "execution_count": 34,
   "metadata": {},
   "outputs": [],
   "source": [
    "def get_r2(y1, y2):\n",
    "    var_mean = var_rel(y1, y1.mean())\n",
    "    var_line = var_rel(y1, y2)\n",
    "    return (var_mean - var_line) / var_mean"
   ]
  },
  {
   "cell_type": "markdown",
   "metadata": {},
   "source": [
    "Результат будет точно таким же:"
   ]
  },
  {
   "cell_type": "code",
   "execution_count": 35,
   "metadata": {},
   "outputs": [
    {
     "data": {
      "text/plain": [
       "0.9629147931492424"
      ]
     },
     "execution_count": 35,
     "metadata": {},
     "output_type": "execute_result"
    }
   ],
   "source": [
    "get_r2(y, f(x))"
   ]
  },
  {
   "cell_type": "markdown",
   "metadata": {},
   "source": [
    "$0.96$ или $96\\%$.\n",
    "\n",
    "Иными словами, вокруг линии на $96\\%$ меьше дисперсии, чем вокруг среднего.\n",
    "\n",
    "То есть, эта линия объясняет $96\\%$ всей дисперсии в данных."
   ]
  },
  {
   "attachments": {},
   "cell_type": "markdown",
   "metadata": {},
   "source": [
    "## Минутка безумия"
   ]
  },
  {
   "attachments": {},
   "cell_type": "markdown",
   "metadata": {},
   "source": [
    "Несмотря на то, что коэффициент детерминации обозначается как $R^2$, по определению он вовсе **НЕ РАВЕН КВАДРАТУ КОЭФФИЦИЕНТА КОРРЕЛЯЦИИ**."
   ]
  },
  {
   "attachments": {},
   "cell_type": "markdown",
   "metadata": {},
   "source": [
    "Коэффициент детерминации и квадрат коэффициента корреляции равны только тогда, когда мы работаем с **ЛИНЕЙНЫМИ МОДЕЛЯМИ**"
   ]
  },
  {
   "attachments": {},
   "cell_type": "markdown",
   "metadata": {},
   "source": [
    "В нашем случае, мы строили линейный тренд наших данных, поэтому для него квадрат коэффициента корреляции будет равен коэффициенту детерминации:"
   ]
  },
  {
   "cell_type": "code",
   "execution_count": null,
   "metadata": {},
   "outputs": [
    {
     "data": {
      "text/plain": [
       "0.9629147931492428"
      ]
     },
     "execution_count": 29,
     "metadata": {},
     "output_type": "execute_result"
    }
   ],
   "source": [
    "r ** 2"
   ]
  },
  {
   "attachments": {},
   "cell_type": "markdown",
   "metadata": {},
   "source": [
    "Но если мы построим любой нелинейный тренд (параболический, экспоненциальный и т.д.), то мы увидим, что в этих случаях $(R)^2 \\ne R^2$! В этом вы можете убедиться выполняя задание."
   ]
  },
  {
   "attachments": {},
   "cell_type": "markdown",
   "metadata": {},
   "source": [
    "Однако, поскольку чаще всего работа идёт с линейными трендами, в этих случаях для расчёта $R^2$ нам не нужно каждый раз считать дисперсии, а можно просто возвести в квадрат обычный коэффициент корреляции.\n",
    "\n",
    "**Но нужно помнить, что в ситуациях, когда мы оцениваем НЕЛИНЕЙНЫЕ зависимости, нам стоит использовать специальные функции для расчёта $R^2$!**"
   ]
  },
  {
   "attachments": {},
   "cell_type": "markdown",
   "metadata": {},
   "source": [
    "$R^2$ куда проще трактовать — это просто процент объяснённой дисперсии.\n",
    "\n",
    "При этом сравнивать между собою различные $R^2$ гораздо проще, чем простые $R$ — очевидно, что $49\\%$ ($R^2 = 0.49$) объяснёной дисперсии в два раза лучше, чем $25\\%$ ($R^2 = 0.25$)! А вот тот факт, что $R=0.7$ в два раза более информативен, чем $R=0.5$ не очевиден.\n",
    "\n",
    "Поэтому в контексте, когда нам важно показать, что какая-либо **ПРЯМАЯ** линия хорошо описывает наши данные, лучше использовать $R^2$, а не $R$."
   ]
  },
  {
   "cell_type": "markdown",
   "metadata": {},
   "source": [
    "## Замечание"
   ]
  },
  {
   "attachments": {},
   "cell_type": "markdown",
   "metadata": {},
   "source": [
    "Для $R^2$ не установлена оценка значимости, в отличие от $R$.\n",
    "\n",
    "Для трактовки показателя, всегда лучше обращаться к особенностям предментной области.\n",
    "\n",
    "Выше мы обнаружили, что число клеток в году объясняет $96\\%$ дисперсии Ширины Годичного Кольца — это очевидно хороший показатель, особенно в условиях, когда у нас изначально имеется всего один параметр (число клеток в году).\n",
    "\n",
    "Если бы мы получили значение в $5\\%$, то однозначно бы сочли такой результат не удовлетворительным и мало что объясняющим.\n",
    "\n",
    "Но если бы мы работали, например, с диагностикой заболеваний, где всегда имеется крайне много параметров, и обнаружили, что один из сотни параметров объясняет $5\\%$ дисперсии факта заболевания — тогда бы мы сочли этот результат благоприятным, ведь помимо этого параметра, у нас имелось бы ещё под сотню, каждый из которых мог бы объяснять по несколько процентов дисперсии.\n",
    "\n",
    "Всегда смотрите на количество ваших параметров при трактовке $R^2$."
   ]
  },
  {
   "cell_type": "markdown",
   "metadata": {},
   "source": [
    "# Задание"
   ]
  },
  {
   "attachments": {},
   "cell_type": "markdown",
   "metadata": {},
   "source": [
    "1. Возьмите за `x` колонку `Cells` из таблицы `df`, а за `y` колонку `CWTmax`;\n",
    "2. Постройте для них линейную аппроксимацию полиномом первой степени (прямой линией);\n",
    "3. Постройте график с диаграммой рассеяния этих точек и линию тренда;\n",
    "4. Вычислите при помощу функции `get_r2` объяснённую дисперсию `y` вокруг этой прямой линии;\n",
    "5. Вычислите корреляцию между `x` и `y` при помощи функции `pearsonr` из пакета `scipy.stats`. Возведите её в квадрат. Убедитесь, что она равна вычисленному ранее коэффициенту детерминации;\n",
    "6. Постройте для `x` и `y` линейную аппроксимацию полиномом второй степени (параболой);\n",
    "7. Постройте график с диаграммой рассеяния этих точек и кривую тренда;\n",
    "8. Вычислите при помощу функции `get_r2` объяснённую `y` вокруг этой параболы;\n",
    "9. Убедитесь, что квадрат корреляции между `x` и `y`, вычисленный в пункте 5 не равен новому коэффициенту детерминации;\n",
    "10. Сравните, какая аппроксимация лучше и во сколько раз."
   ]
  },
  {
   "cell_type": "markdown",
   "metadata": {},
   "source": [
    "**Замечание**: для нормального отображения графика параболы, подавайте на вход функции аппроксимации отсортированный при помощу функции `sorted` список. То есть: \n",
    "\n",
    "`plt.plot(sorted(x), f(sorted(x)))`\n",
    "\n",
    "вместо \n",
    "\n",
    "`plt.plot(x, f(x))`.\n",
    "\n",
    "Иначе у вас будет выходить страшная ломанная."
   ]
  }
 ],
 "metadata": {
  "kernelspec": {
   "display_name": "Python 3",
   "language": "python",
   "name": "python3"
  },
  "language_info": {
   "codemirror_mode": {
    "name": "ipython",
    "version": 3
   },
   "file_extension": ".py",
   "mimetype": "text/x-python",
   "name": "python",
   "nbconvert_exporter": "python",
   "pygments_lexer": "ipython3",
   "version": "3.9.7"
  },
  "orig_nbformat": 4,
  "vscode": {
   "interpreter": {
    "hash": "aac4e10b784c8b68847773aa91e5a338c2143a5789fe517934784a07fa1bd409"
   }
  }
 },
 "nbformat": 4,
 "nbformat_minor": 2
}
