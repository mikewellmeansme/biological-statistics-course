{
 "cells": [
  {
   "cell_type": "markdown",
   "metadata": {},
   "source": [
    "# P-значение (P-value)"
   ]
  },
  {
   "cell_type": "markdown",
   "metadata": {},
   "source": [
    "В конце прошлого секминара мы задали вопрос: \"В какой момент корреляция начинает быть высокой?\"\n",
    "\n",
    "Хоть мы и знаем, что чем ближе коэффициент корреляции к единице (либо к минус единице), тем \"лучше\", так как это означает, что у нас имеется некая зависимость между двумя величинами.\n",
    "\n",
    "Однако каким образом нам определить величину корреляции, на которой мы можем уверенно сказать, что её достаточно, чтобы говорить о зависимости?"
   ]
  },
  {
   "cell_type": "markdown",
   "metadata": {},
   "source": [
    "Для того, чтобы ответить на этот вопрос в ведём понятие ошибки.\n",
    "\n",
    "Ошибка — это когда наше предположение не совпадает с действительностью.\n",
    "\n",
    "Предположим, есть какой-то вопрос, на который можно ответить либо \"Да\", либо \"Нет\". Например — \"Является ли человек беременным?\".\n",
    "\n",
    "И у нас есть лишь два способа ошибиться в этом случае:\n",
    "\n",
    "Сказать не беременному человеку, что он беременный, — это называется \"ошибкой первого рода\", либо же ложноположительным результатом;\n",
    "\n",
    "И наоборот, сказать беременному человеку, что он не беременный, — это называется \"ошибкой второго рода\", либо же ложноотрицательным результатом;."
   ]
  },
  {
   "cell_type": "markdown",
   "metadata": {},
   "source": [
    "![error_types](images/error_types.png)"
   ]
  },
  {
   "cell_type": "markdown",
   "metadata": {},
   "source": [
    "Как мы видим из данной ситуации — ошибки второго рода, чаще всего, более опасны, чем ошибки первого рода.\n",
    "\n",
    "Сказать больному человеку, что он здоров зачастую бывает гораздо хуже, нежели чем сказать здоровому, что он болен, ведь в первом случае мы гарантированно не станем лечить того, кто в лечении однозначно нуждался. Именно поэтому ложноотрицательные срабатывания наиболее нежелательны как в медицине, так и в науке — представьте, что вы проводили большой, дорогой и сложный эксперимент, а потом решили, что он не имеет никакого смысла, в то время как на самом деле он очень даже имел. Вы мало того, что потратили время, силы и ресурсы, так ещё и упустили желаемый результат.\n",
    "\n",
    "Конечно, если мы очень боимся пропустить по-настоящему больных, было бы куда безопаснее говорить всем приходящим к врачу, что они больны и немедленно начинать лечение, в надежде, что пройдясь по всем пациентам широким фронтом, мы точно не упустим ни одного больного. Одако в реальности у нас нет столько ресурсов, чтобы так поступать.\n",
    "\n",
    "Однако \"перебдеть\" всё ещё лучше, чем \"недобдеть\", именно поэтому в статистике принято фиксировать процент ошибок первого рода (т.е. количество ложноположительных срабатываний), с которыми мы согласны смириться.\n",
    "\n",
    "Процент ошибок первого рода, мы называем P-значением (P-value).\n",
    "\n",
    "Исторически сложилось, что пороговыми значениями P-значения в большинстве работ являются $0.05$, $0.01$ и $0.001$, то есть, соответственно, допускаются $5\\%$, $1\\%$ или $0.1\\%$ ошибок первого рода. Если в конкретном случае P-значение не превышает выбранный порог, то считается, что наше утверждение скорее всего не ошибочное. В ином же случае, быть уверенным в правдивости утверждения мы не можем"
   ]
  },
  {
   "cell_type": "markdown",
   "metadata": {},
   "source": [
    "# Статистическая значимость корреляции"
   ]
  },
  {
   "cell_type": "markdown",
   "metadata": {},
   "source": [
    "Как всё выше сказанное связано с изначальным вопросом?\n",
    "\n",
    "\"В какой момент корреляция начинает быть высокой?\"\n",
    "\n",
    "Самым прямым: корреляция начинает быть высокой в тот момент, когда её p-значение меньше, чем установленный нами порог ошибки первого рода.\n",
    "\n",
    "Каким же образом нам вычислять p-значение для нашей корреляции? Всё, что у нас имеется — это два ряда чисел, для которых мы, по формуле, считаем корреляцию. Мы не знаем — есть ли в реальности зависимость между этими двумя рядами или нет, как мы можем говорить о том, ошиблись мы, сказав, что корреляция высокая (или, ещё говорят, статистически значимая) и два ряда зависят друг от друга, или нет?"
   ]
  },
  {
   "cell_type": "markdown",
   "metadata": {},
   "source": [
    "Чтобы решить эту проблему — пойдём от обратного.\n",
    "\n",
    "Создадим такую ситуацию, в которой мы гарантированно знаем, что никакой корреляции нет: сгенерируем два ряда случайных чисел.\n",
    "\n",
    "И посчитаем для них корреляцию.\n",
    "\n",
    "И сделаем так очень много раз.\n",
    "\n",
    "А потом проверим насколько часто в такой ситуации возникает статистически значимая корреляция\n",
    "\n",
    "(то есть, как часто у нас появляются достаточно большие коэффициенты корреляции в ситуации, когда гарантированно никаких зависимостей нет). "
   ]
  },
  {
   "cell_type": "markdown",
   "metadata": {},
   "source": [
    "Реализуем всё в виде программы.\n",
    "\n",
    "Для начала подключим требуемые пакеты: `matplotlib.pyplot` для работы с графиками"
   ]
  },
  {
   "cell_type": "code",
   "execution_count": 2,
   "metadata": {},
   "outputs": [],
   "source": [
    "import matplotlib.pyplot as plt"
   ]
  },
  {
   "cell_type": "markdown",
   "metadata": {},
   "source": [
    "И математический пакет `numpy`, для генерации рядов случайных чисел и вычисления их корреляции:"
   ]
  },
  {
   "cell_type": "code",
   "execution_count": 3,
   "metadata": {},
   "outputs": [],
   "source": [
    "import numpy as np"
   ]
  },
  {
   "cell_type": "markdown",
   "metadata": {},
   "source": [
    "Пр помощи функции `np.random.rand`, мы можем генерировать ряды случайных чисел заданной длины:"
   ]
  },
  {
   "cell_type": "code",
   "execution_count": 4,
   "metadata": {},
   "outputs": [
    {
     "data": {
      "text/plain": [
       "array([0.71631856, 0.25390284, 0.65333086])"
      ]
     },
     "execution_count": 4,
     "metadata": {},
     "output_type": "execute_result"
    }
   ],
   "source": [
    "np.random.rand(3)"
   ]
  },
  {
   "cell_type": "markdown",
   "metadata": {},
   "source": [
    "А при помощи функции `np.corrcoef(x, y)` мы получаем корреляционную матрицу между величинами:"
   ]
  },
  {
   "cell_type": "code",
   "execution_count": 5,
   "metadata": {},
   "outputs": [
    {
     "data": {
      "text/plain": [
       "array([[1.        , 0.99447516],\n",
       "       [0.99447516, 1.        ]])"
      ]
     },
     "execution_count": 5,
     "metadata": {},
     "output_type": "execute_result"
    }
   ],
   "source": [
    "np.corrcoef(\n",
    "    [0.1, 0.2, 0.3, 0.4, 0.5, 0.6],\n",
    "    [1.1, 1.9, 3.3, 3.9, 4.8, 6.2]\n",
    ")"
   ]
  },
  {
   "cell_type": "markdown",
   "metadata": {},
   "source": [
    "Поскольку у нас всего два ряда чисел, нас интересует только корреляция между первым рядом и вторым. Как видим, она расположена либо в первой сроке и втором столбце корреляционной матрицы, либо во второй строке и первом столбце (корреляционная матрица симметрична — корреляция между $X$ и $Y$ равна корреляции между $Y$ и $X$. А корреляция между $X$ и $X$ равна единице, так же как и между $Y$ и $Y$).\n",
    "\n",
    "Поэтому, будем брать только элемент матрицы с индексами [0, 1] (первая строка, второй столбец — помним, что нумерация в Python идёт с нуля):"
   ]
  },
  {
   "cell_type": "code",
   "execution_count": 6,
   "metadata": {},
   "outputs": [
    {
     "data": {
      "text/plain": [
       "0.9944751561687871"
      ]
     },
     "execution_count": 6,
     "metadata": {},
     "output_type": "execute_result"
    }
   ],
   "source": [
    "np.corrcoef(\n",
    "    [0.1, 0.2, 0.3, 0.4, 0.5, 0.6],\n",
    "    [1.1, 1.9, 3.3, 3.9, 4.8, 6.2]\n",
    ")[0, 1]"
   ]
  },
  {
   "cell_type": "markdown",
   "metadata": {},
   "source": [
    "Напишем функцию, которая будет считать корреляцию, между двумя рядами случайных чисел, длины $n$:"
   ]
  },
  {
   "cell_type": "code",
   "execution_count": 7,
   "metadata": {},
   "outputs": [],
   "source": [
    "def get_random_corr(n=3):\n",
    "    return np.corrcoef(np.random.rand(n), np.random.rand(n))[0,1]"
   ]
  },
  {
   "cell_type": "markdown",
   "metadata": {},
   "source": [
    "А теперь $10000$ раз сгенерируем по два ряда состоящих из трёх случайных чисел, каждый раз посчитаем для них корреляцию и запишем полученные коэффициенты корреляции в список `random_corrs`:"
   ]
  },
  {
   "cell_type": "code",
   "execution_count": 8,
   "metadata": {},
   "outputs": [],
   "source": [
    "n = 3\n",
    "\n",
    "random_corrs = [get_random_corr(n) for el in range(10000)]"
   ]
  },
  {
   "cell_type": "markdown",
   "metadata": {},
   "source": [
    "И построим гистограмму для списка коэффициентов корреляции:"
   ]
  },
  {
   "cell_type": "code",
   "execution_count": 27,
   "metadata": {},
   "outputs": [
    {
     "data": {
      "image/png": "[encoded data removed]",
      "text/plain": [
       "<Figure size 432x288 with 1 Axes>"
      ]
     },
     "metadata": {
      "needs_background": "light"
     },
     "output_type": "display_data"
    }
   ],
   "source": [
    "plt.hist(random_corrs, bins=100)\n",
    "plt.title('Распределение коэффициентов корреляции \\n между двумя рядами из $3$ случайных чисел')\n",
    "plt.xlabel('Значение корреляции')\n",
    "plt.show()"
   ]
  },
  {
   "cell_type": "markdown",
   "metadata": {},
   "source": [
    "Мы видим, что у нас получилось очень много \"больших\" по модулю коэффициентов корреляции (то есть, близких к $1$ или $-1$)\n",
    "\n",
    "Давайте посмотрим насколько много у нас коэффициентов корреляции больших или равных, чем $0.95$. Ипользуем для этого списковые включения с условием:"
   ]
  },
  {
   "cell_type": "code",
   "execution_count": 40,
   "metadata": {},
   "outputs": [],
   "source": [
    "# Выбрать из random_corrs такие r, что они больше или равны 0.95\n",
    "\n",
    "very_big_rs = [r for r in random_corrs if r >= 0.95]"
   ]
  },
  {
   "cell_type": "markdown",
   "metadata": {},
   "source": [
    "Посмотрим, что у нас получилось:"
   ]
  },
  {
   "cell_type": "code",
   "execution_count": 42,
   "metadata": {},
   "outputs": [
    {
     "data": {
      "text/plain": [
       "[0.9995427251718378,\n",
       " 0.9996380351145336,\n",
       " 0.9864676313494769,\n",
       " 0.9777788871479435,\n",
       " 0.986952374280945]"
      ]
     },
     "execution_count": 42,
     "metadata": {},
     "output_type": "execute_result"
    }
   ],
   "source": [
    "very_big_rs[:5]"
   ]
  },
  {
   "cell_type": "code",
   "execution_count": 43,
   "metadata": {},
   "outputs": [
    {
     "data": {
      "text/plain": [
       "1034"
      ]
     },
     "execution_count": 43,
     "metadata": {},
     "output_type": "execute_result"
    }
   ],
   "source": [
    "len(very_big_rs)"
   ]
  },
  {
   "cell_type": "markdown",
   "metadata": {},
   "source": [
    "Как мы убедились выше, мы поместили в список `very_big_rs` только коэфициенты корреляции большие или равные $0.95$. И таковых коэффициентов у нас набралось 1034 штуки.\n",
    "\n",
    "А сколько это процентов от всех сгенерированных коэффициентов корреляции?\n",
    "\n",
    "Возьмём это число и разделим на $10000$ (именно столько мы сгенерировали коэфициентов выше):"
   ]
  },
  {
   "cell_type": "code",
   "execution_count": 30,
   "metadata": {},
   "outputs": [
    {
     "data": {
      "text/plain": [
       "0.1034"
      ]
     },
     "execution_count": 30,
     "metadata": {},
     "output_type": "execute_result"
    }
   ],
   "source": [
    "len(very_big_rs) / 10000"
   ]
  },
  {
   "cell_type": "markdown",
   "metadata": {},
   "source": [
    "Или $10.34\\%$ процента.\n",
    "\n",
    "То есть, вероятность того, что два списка из трёх случайных величин имеют корреляцию равную или большую чем $0.95$, равна примерно $10\\%$"
   ]
  },
  {
   "cell_type": "markdown",
   "metadata": {},
   "source": [
    "Только что мы посчитали так называемое \"одностороннее p-значение\", даже \"правостороннее\". Давайте посчитаем \"левостороннее\".\n",
    "\n",
    "Для этого сделаем всё то же самое, но выберем коэфициенты корреляции меньшие или равные $-0.95$:"
   ]
  },
  {
   "cell_type": "code",
   "execution_count": 45,
   "metadata": {},
   "outputs": [],
   "source": [
    "very_small_rs = [r for r in random_corrs if r <= -0.95]"
   ]
  },
  {
   "cell_type": "code",
   "execution_count": 46,
   "metadata": {},
   "outputs": [
    {
     "data": {
      "text/plain": [
       "0.1024"
      ]
     },
     "execution_count": 46,
     "metadata": {},
     "output_type": "execute_result"
    }
   ],
   "source": [
    "len(very_small_rs)/10000"
   ]
  },
  {
   "cell_type": "markdown",
   "metadata": {},
   "source": [
    "Как видим, вероятность того, что два списка из трёх случайных величин имеют корреляцию $\\le -0.95$ также равна примерно $10\\%$."
   ]
  },
  {
   "cell_type": "markdown",
   "metadata": {},
   "source": [
    "Можно построить вертикальные линии на нашей гистограмме в точках $-0.95$ и $0.95$ и убедиться, что в принципе гистограмма у нас симметрична и вероятность получить большие отрицательные значения равна вероятности получить большие положительные:"
   ]
  },
  {
   "cell_type": "code",
   "execution_count": 64,
   "metadata": {},
   "outputs": [
    {
     "data": {
      "image/png": "[encoded data removed]",
      "text/plain": [
       "<Figure size 432x288 with 1 Axes>"
      ]
     },
     "metadata": {
      "needs_background": "light"
     },
     "output_type": "display_data"
    }
   ],
   "source": [
    "plt.hist(random_corrs, bins=100)\n",
    "plt.title(f'Распределение коэффициентов корреляции \\n между двумя рядами из ${n}$ случайных чисел')\n",
    "plt.xlabel('Значение корреляции')\n",
    "plt.axvline(-0.95, c='red')\n",
    "plt.axvline(0.95, c='red', label='$|R|>=0.95$')\n",
    "plt.legend()\n",
    "plt.show()"
   ]
  },
  {
   "cell_type": "markdown",
   "metadata": {},
   "source": [
    "Мы посчитали два односторонних p-значения, однако нас интересует \"двустороннее\".\n",
    "\n",
    "Конечно, мы можем просто сложить два двусторонних, но надёжнее поступить так:\n",
    "\n",
    "Выберем из нашего списка коэфициентов корреляции только те, которые по модулю больше, чем $0.95$:"
   ]
  },
  {
   "cell_type": "code",
   "execution_count": 47,
   "metadata": {},
   "outputs": [],
   "source": [
    "very_big_and_very_small_rs = [r for r in random_corrs if abs(r) >= 0.95]"
   ]
  },
  {
   "cell_type": "markdown",
   "metadata": {},
   "source": [
    "И разделим их количество на общее число коэфициентов корреляции:"
   ]
  },
  {
   "cell_type": "code",
   "execution_count": 49,
   "metadata": {},
   "outputs": [
    {
     "data": {
      "text/plain": [
       "0.2058"
      ]
     },
     "execution_count": 49,
     "metadata": {},
     "output_type": "execute_result"
    }
   ],
   "source": [
    "len(very_big_and_very_small_rs) / 10000"
   ]
  },
  {
   "cell_type": "markdown",
   "metadata": {},
   "source": [
    "$0.20$ — это и есть интересующее нас двустороннее p-значение для коэффициента корреляции $0.95$ и списков длины $3$."
   ]
  },
  {
   "cell_type": "markdown",
   "metadata": {},
   "source": [
    "Конечно, для того, чтобы посчитать p-значение для иного значения коэфициента корреляции и иного числа элементов в списках, нам не обязательно каждый раз проделывать всё вышеописанное. Мы можем воспользоваться либо небольшой математической магией, которая буквально проделвет это за нас:"
   ]
  },
  {
   "cell_type": "code",
   "execution_count": 55,
   "metadata": {},
   "outputs": [],
   "source": [
    "from scipy.stats import t\n",
    "\n",
    "\n",
    "def get_t_stat(r: float, n: int) -> float:\n",
    "    return (r * np.sqrt(n - 2)) / (np.sqrt(1 - r ** 2))\n",
    "\n",
    "\n",
    "def get_p_value(r: float, n: int) -> float:\n",
    "    r = abs(r)\n",
    "    t_stat = get_t_stat(r, n)\n",
    "    return t.sf(t_stat, n - 2) * 2"
   ]
  },
  {
   "cell_type": "code",
   "execution_count": 56,
   "metadata": {},
   "outputs": [
    {
     "data": {
      "text/plain": [
       "0.20216524820851975"
      ]
     },
     "execution_count": 56,
     "metadata": {},
     "output_type": "execute_result"
    }
   ],
   "source": [
    "get_p_value(0.95, 3)"
   ]
  },
  {
   "cell_type": "markdown",
   "metadata": {},
   "source": [
    "Как мы видим, полученное нами p-значение не сильно отличается от полученного при помощи \"математической магии\"."
   ]
  },
  {
   "cell_type": "markdown",
   "metadata": {},
   "source": [
    "Либо же мы и вовсе можем использовать готовую функцию вычисления коэффициента корреляции из пакета `scipy.stats`:"
   ]
  },
  {
   "cell_type": "code",
   "execution_count": 50,
   "metadata": {},
   "outputs": [],
   "source": [
    "from scipy.stats import pearsonr"
   ]
  },
  {
   "cell_type": "markdown",
   "metadata": {},
   "source": [
    "Она называется `pearsonr` так как корреляцию, считаемую по той формуле, которую мы с вами приводили на шестом занятии, ещё называют \"коэффициентом корреляции Пирсона\".\n",
    "\n",
    "Функци `pearsonr` принимает два значения — два ряда чисел, между которыми считается корреляция, и возвращает два значения — первое это коэффициент корреляции между двумя рядами, а второе — соответствующее ему p-значение:"
   ]
  },
  {
   "cell_type": "code",
   "execution_count": 61,
   "metadata": {},
   "outputs": [],
   "source": [
    "r, p = pearsonr(\n",
    "    [0.97065661, 0.61383435, 0.26693135],\n",
    "    [0.95895777, 0.32514086, 0.159267]\n",
    ")"
   ]
  },
  {
   "cell_type": "code",
   "execution_count": 63,
   "metadata": {},
   "outputs": [
    {
     "name": "stdout",
     "output_type": "stream",
     "text": [
      "Корреляция: 0.95, p-value: 0.20\n"
     ]
    }
   ],
   "source": [
    "print(f'Корреляция: {r:.2f}, p-value: {p:.2f}')"
   ]
  },
  {
   "cell_type": "markdown",
   "metadata": {},
   "source": [
    "Как мы видим, и тут для коэффициента корреляции $0.95$ нам выдалось значение $0.20$."
   ]
  },
  {
   "cell_type": "markdown",
   "metadata": {},
   "source": [
    "О чём говорит это значение?\n",
    "\n",
    "О том, что у нас имеется двадцатипроцентая вероятность получить высокое значение корреляции между думя рядами состоящиз из трёх совершенно случайных чисел.\n",
    "\n",
    "А раз $20\\%$ превышает все установленные нами пороги ($5\\%$, $1\\%$ или $0.1\\%$), то мы не можем называть корреляцию $0.95$ значимой для списков из трёх значений."
   ]
  },
  {
   "cell_type": "markdown",
   "metadata": {},
   "source": [
    "Почему мы постоянно оговариваемся про длины наших рядов? Давайте проделаем всё то же самое, но с рядами из пяти случайных чисел:"
   ]
  },
  {
   "cell_type": "code",
   "execution_count": 65,
   "metadata": {},
   "outputs": [],
   "source": [
    "n = 5\n",
    "\n",
    "random_corrs = [get_random_corr(n) for el in range(10000)]"
   ]
  },
  {
   "cell_type": "code",
   "execution_count": 67,
   "metadata": {},
   "outputs": [
    {
     "data": {
      "image/png": "[encoded data removed]",
      "text/plain": [
       "<Figure size 432x288 with 1 Axes>"
      ]
     },
     "metadata": {
      "needs_background": "light"
     },
     "output_type": "display_data"
    }
   ],
   "source": [
    "plt.hist(random_corrs, bins=100)\n",
    "plt.title(f'Распределение коэффициентов корреляции \\n между двумя рядами из ${n}$ случайных чисел')\n",
    "plt.xlabel('Значение корреляции')\n",
    "plt.axvline(-0.95, c='red')\n",
    "plt.axvline(0.95, c='red', label='$|R|>=0.95$')\n",
    "plt.show()"
   ]
  },
  {
   "cell_type": "code",
   "execution_count": 68,
   "metadata": {},
   "outputs": [
    {
     "data": {
      "text/plain": [
       "0.0156"
      ]
     },
     "execution_count": 68,
     "metadata": {},
     "output_type": "execute_result"
    }
   ],
   "source": [
    "very_big_and_very_small_rs = [r for r in random_corrs if abs(r) >= 0.95]\n",
    "len(very_big_and_very_small_rs) / 10000"
   ]
  },
  {
   "cell_type": "markdown",
   "metadata": {},
   "source": [
    "(ну или просто используем реализованную функцию)"
   ]
  },
  {
   "cell_type": "code",
   "execution_count": 69,
   "metadata": {},
   "outputs": [
    {
     "data": {
      "text/plain": [
       "0.013320011010141254"
      ]
     },
     "execution_count": 69,
     "metadata": {},
     "output_type": "execute_result"
    }
   ],
   "source": [
    "get_p_value(0.95, 5)"
   ]
  },
  {
   "cell_type": "markdown",
   "metadata": {},
   "source": [
    "Видно, что вероятность получить большую корреляцию между рядами из пяти случайных чисел, меньше, чем из трёх.\n",
    "\n",
    "В этом случае у нас вероятность получить ложную корреляцию выше $0.95$ всего лишь в районе $1\\%$ и это уже ниже порога в $5\\%$ — если мы изначально готовы к пяти процентам ложноположительных ошибок, то в этом случае мы можем сказать, что корреляция $0.95$ значима."
   ]
  },
  {
   "cell_type": "markdown",
   "metadata": {},
   "source": [
    "Конечною, чем больше у нас длина рядов, тем меньше вероятность получить большую корреляцию случайным образом:"
   ]
  },
  {
   "cell_type": "code",
   "execution_count": 83,
   "metadata": {},
   "outputs": [
    {
     "data": {
      "image/png": "[encoded data removed]",
      "text/plain": [
       "<Figure size 432x288 with 1 Axes>"
      ]
     },
     "metadata": {
      "needs_background": "light"
     },
     "output_type": "display_data"
    }
   ],
   "source": [
    "n = 10\n",
    "\n",
    "random_corrs = [get_random_corr(n) for el in range(100000)]\n",
    "\n",
    "plt.hist(random_corrs, bins=100)\n",
    "plt.title(f'Распределение коэффициентов корреляции \\n между двумя рядами из ${n}$ случайных чисел')\n",
    "plt.xlabel('Значение корреляции')\n",
    "plt.axvline(-0.95, c='red')\n",
    "plt.axvline(0.95, c='red', label='$|R|>=0.95$')\n",
    "plt.show()"
   ]
  },
  {
   "cell_type": "code",
   "execution_count": 84,
   "metadata": {},
   "outputs": [
    {
     "data": {
      "text/plain": [
       "4e-05"
      ]
     },
     "execution_count": 84,
     "metadata": {},
     "output_type": "execute_result"
    }
   ],
   "source": [
    "very_big_and_very_small_rs = [r for r in random_corrs if abs(r) >= 0.95]\n",
    "len(very_big_and_very_small_rs) / 100000"
   ]
  },
  {
   "cell_type": "code",
   "execution_count": 78,
   "metadata": {},
   "outputs": [
    {
     "data": {
      "text/plain": [
       "2.5737060546875074e-05"
      ]
     },
     "execution_count": 78,
     "metadata": {},
     "output_type": "execute_result"
    }
   ],
   "source": [
    "get_p_value(0.95, 10)"
   ]
  },
  {
   "cell_type": "markdown",
   "metadata": {},
   "source": [
    "Для десяти случайных чисел, вероятность корреляции выше $0.95$ (по модулю) уже меньше, чем $0.0001\\%$ (нам даже пришлось поднять число генерируемых коэфициентов корреляции с $10000$ до $100000$, поскольку при $10000$ у нас таких коэффициентов почти не возникало)."
   ]
  },
  {
   "cell_type": "markdown",
   "metadata": {},
   "source": [
    "Для сотни же случайных чисел, уже практически невозможно получить корреляцию выше $0.5$:"
   ]
  },
  {
   "cell_type": "code",
   "execution_count": 87,
   "metadata": {},
   "outputs": [
    {
     "data": {
      "image/png": "[encoded data removed]",
      "text/plain": [
       "<Figure size 432x288 with 1 Axes>"
      ]
     },
     "metadata": {
      "needs_background": "light"
     },
     "output_type": "display_data"
    }
   ],
   "source": [
    "n = 100\n",
    "\n",
    "random_corrs = [get_random_corr(n) for el in range(10000)]\n",
    "\n",
    "plt.hist(random_corrs, bins=100)\n",
    "plt.title(f'Распределение коэффициентов корреляции \\n между двумя рядами из ${n}$ случайных чисел')\n",
    "plt.xlabel('Значение корреляции')\n",
    "plt.axvline(-0.95, c='red')\n",
    "plt.axvline(0.95, c='red', label='$|R|>=0.95$')\n",
    "plt.show()"
   ]
  },
  {
   "cell_type": "markdown",
   "metadata": {},
   "source": [
    "Так что если у нас, при коррелировании двух очень длинных списков чисел, возникнет большая корреляци, мы поймём, что вероятность её случайного возникновения невероятно мала и с большой уверенностью можно утверждать, что мы не совершаем ошибку, говоря о наличии зависимостей."
   ]
  },
  {
   "cell_type": "markdown",
   "metadata": {},
   "source": [
    "Однако p-значение — не панацея. Не стоит бездумно применять его в любых ситуациях.\n",
    "\n",
    "Критике также подвергаются и исторически установленные пороги — многие научные журналы отказываются принимать статьи с порогом в пять процентов, считая его слишком большим, а некоторые современные исследования показывают, что желательно прекратить использовать даже однопроцентный."
   ]
  },
  {
   "cell_type": "markdown",
   "metadata": {},
   "source": [
    "На следующем семинаре мы рассмотрим альтернативные методы обнаружения и обозначения зависимости между двумя рядами чисел, иногда считающиеся более надёжными, нежели корреляция."
   ]
  }
 ],
 "metadata": {
  "kernelspec": {
   "display_name": "Python 3.9.7 64-bit",
   "language": "python",
   "name": "python3"
  },
  "language_info": {
   "codemirror_mode": {
    "name": "ipython",
    "version": 3
   },
   "file_extension": ".py",
   "mimetype": "text/x-python",
   "name": "python",
   "nbconvert_exporter": "python",
   "pygments_lexer": "ipython3",
   "version": "3.9.7"
  },
  "orig_nbformat": 4,
  "vscode": {
   "interpreter": {
    "hash": "aac4e10b784c8b68847773aa91e5a338c2143a5789fe517934784a07fa1bd409"
   }
  }
 },
 "nbformat": 4,
 "nbformat_minor": 2
}
