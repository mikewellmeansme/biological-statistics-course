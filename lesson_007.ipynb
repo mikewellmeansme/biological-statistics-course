{
 "cells": [
  {
   "cell_type": "markdown",
   "metadata": {},
   "source": [
    "# P-значение (P-value)"
   ]
  },
  {
   "cell_type": "markdown",
   "metadata": {},
   "source": [
    "В конце прошлого секминара мы задали вопрос: \"В какой момент корреляция начинает быть высокой?\"\n",
    "\n",
    "Хоть мы и знаем, что чем ближе коэффициент корреляции к единице (либо к минус единице), тем \"лучше\", так как это означает, что у нас имеется некая зависимость между двумя величинами.\n",
    "\n",
    "Однако каким образом нам определить величину корреляции, на которой мы можем уверенно сказать, что её достаточно, чтобы говорить о зависимости?"
   ]
  },
  {
   "cell_type": "markdown",
   "metadata": {},
   "source": [
    "Для того, чтобы ответить на этот вопрос в ведём понятие ошибки.\n",
    "\n",
    "Ошибка — это когда наше предположение не совпадает с действительностью.\n",
    "\n",
    "Предположим, есть какое-то утверждение, на котроте можно ответить либо \"Да\", либо \"Нет\". Например — определить является ли человек беременным.\n",
    "\n",
    "И у нас есть всего лишь два способа ошибиться в этом случае:\n",
    "\n",
    "Сказать не беременному человеку, что он беременный, — это называется \"ошибкой первого рода\", либо же ложноположительным результатом;\n",
    "\n",
    "И наоборот, сказать беременному человеку, что он не беременный, — это называется \"ошибкой второго рода\", либо же ложноотрицательным результатом;."
   ]
  },
  {
   "cell_type": "markdown",
   "metadata": {},
   "source": [
    "![error_types](images/error_types.png)"
   ]
  },
  {
   "cell_type": "markdown",
   "metadata": {},
   "source": [
    "Как мы видим из данной ситуации — ошибки второго рода, чаще всего, более опасны, чем ошибки первого рода.\n",
    "\n",
    "Сказать больному человеку, что он здоров зачастую бывает гораздо хуже, нежели чем сказать здоровому, что он болен, ведь в первом случае мы гарантированно не станем лечить того, кто в лечении однозначно нуждался. Именно поэтому ложноотрицательные срабатывания наиболее нежелательны как в медицине, так и в науке — представьте, что вы проводили большой, дорогой и сложный эксперимент, а потом решили, что он не имеет никакого смысла, в то время как на самом деле он очень даже имел. Вы мало того, что потратили время, силы и ресурсы, так ещё и упустили желаемый результат.\n",
    "\n",
    "Конечно, если мы очень боимся пропустить по-настоящему больных, было бы куда безопаснее говорить всем приходящим к врачу, что они больны и немедленно начинать лечение, в надежде, что пройдясь по пациентам широким фронтом, мы точно не упустим ни одного больного, одако в реальности у нас нет столько ресурсов, чтобы так поступать.\n",
    "\n",
    "Однако \"перебдеть\" всё ещё лучше, чем \"недобдеть\", именно поэтому в статистике принято фиксировать процент ошибок первого рода (т.е. количество ложноположительных срабатываний), с которыми мы согласно смириться.\n",
    "\n",
    "Процент ошибок первого рода, мы называем P-значением (P-value).\n",
    "\n",
    "Исторически сложилось, что пороговыми значениями P-значения в большинстве работ являются $0.05$, $0.01$ и $0.001$, то есть, соответственно, $5\\%$, $1\\%$ или $0.1\\%$ ошибок первого рода. Если в конкретном случае P-значение не превышает данные пороги, то считается, что наше утверждение скорее всего не ошибочное. В ином же случае, быть уверенным в правдивости утверждения мы не можем"
   ]
  },
  {
   "cell_type": "markdown",
   "metadata": {},
   "source": [
    "# Статистическа значимость корреляции"
   ]
  },
  {
   "cell_type": "markdown",
   "metadata": {},
   "source": [
    "Как всё выше сказанное связано с изначальным вопросом?\n",
    "\n",
    "\"В какой момент корреляция начинает быть высокой?\"\n",
    "\n",
    "Самым прямым: корреляция начинает быть высокой в тот момент, когда её p-значение меньше, чем установленный нами порог ошибки первого рода.\n",
    "\n",
    "Каким же образом нам вычислять p-значение для нашей корреляции? Всё, что у нас имеется — это два ряда чисел, для которых мы, по формуле, считаем корреляцию. Мы не знаем — есть ли в реальности зависимость между этими двумя рядами или нет, как мы можем говорить о том, ошиблись мы, сказав, что корреляция высокая (или, ещё говорят, статистически значимая) и два ряда зависят друг от друга, или нет?"
   ]
  },
  {
   "cell_type": "markdown",
   "metadata": {},
   "source": [
    "Чтобы решить эту проблему — пойдём от обратного.\n",
    "\n",
    "Создадим такую ситуацию, в которой мы гарантированно знаем, что никакой корреляции нет: сгенерируем два ряда случайных чисел.\n",
    "\n",
    "И посчитаем для них корреляцию.\n",
    "\n",
    "И сделаем так очень много раз.\n",
    "\n",
    "А потом проверим насколько часто в такой ситуации возникает статистически значимая корреляция\n",
    "\n",
    "(то есть, как часто у нас появляются достаточно большие коэффициенты корреляции в ситуации, когда гарантированно никаких зависимостей нет). "
   ]
  },
  {
   "cell_type": "markdown",
   "metadata": {},
   "source": [
    "Реализуем всё в виде программы.\n",
    "\n",
    "Для начала подключим требуемые пакеты: `matplotlib.pyplot` для работы с графиками"
   ]
  },
  {
   "cell_type": "code",
   "execution_count": 1,
   "metadata": {},
   "outputs": [],
   "source": [
    "import matplotlib.pyplot as plt"
   ]
  },
  {
   "cell_type": "markdown",
   "metadata": {},
   "source": [
    "И математический пакет `numpy`, для генерации рядов случайных чисел и вычисления их корреляции:"
   ]
  },
  {
   "cell_type": "code",
   "execution_count": null,
   "metadata": {},
   "outputs": [],
   "source": [
    "import numpy as np"
   ]
  },
  {
   "cell_type": "markdown",
   "metadata": {},
   "source": [
    "Пр помощи функции `np.random.rand`, мы можем генерировать ряды случайных чисел заданной длины:"
   ]
  },
  {
   "cell_type": "code",
   "execution_count": 12,
   "metadata": {},
   "outputs": [
    {
     "data": {
      "text/plain": [
       "array([0.31071202, 0.18683818, 0.82244622])"
      ]
     },
     "execution_count": 12,
     "metadata": {},
     "output_type": "execute_result"
    }
   ],
   "source": [
    "np.random.rand(3)"
   ]
  },
  {
   "cell_type": "markdown",
   "metadata": {},
   "source": [
    "А при помощи функции `np.corrcoef(x, y)` мы получаем корреляционную матрицу между величинами:"
   ]
  },
  {
   "cell_type": "code",
   "execution_count": 58,
   "metadata": {},
   "outputs": [
    {
     "data": {
      "text/plain": [
       "array([[1.        , 0.99447516],\n",
       "       [0.99447516, 1.        ]])"
      ]
     },
     "execution_count": 58,
     "metadata": {},
     "output_type": "execute_result"
    }
   ],
   "source": [
    "np.corrcoef(\n",
    "    [0.1, 0.2, 0.3, 0.4, 0.5, 0.6],\n",
    "    [1.1, 1.9, 3.3, 3.9, 4.8, 6.2]\n",
    ")"
   ]
  },
  {
   "cell_type": "markdown",
   "metadata": {},
   "source": [
    "Поскольку у нас всего два ряда чисел, нас интересует только корреляция между первым рядом и вторым. Как видим, она расположена либо в первой сроке и втором столбце корреляционной матрицы, либо во второй строке и первом столбце (корреляционная матрица симметрична — корреляция между $X$ и $Y$ равна корреляции между $Y$ и $X$. А корреляция между $X$ и $X$ равна единице, так же как и между $Y$ и $Y$).\n",
    "\n",
    "Поэтому, будем брать только элемент матрицы с индексами [0, 1] (первая строка, второй столбец — помним, что нумерация в Python идёт с нуля):"
   ]
  },
  {
   "cell_type": "code",
   "execution_count": 59,
   "metadata": {},
   "outputs": [
    {
     "data": {
      "text/plain": [
       "0.9944751561687871"
      ]
     },
     "execution_count": 59,
     "metadata": {},
     "output_type": "execute_result"
    }
   ],
   "source": [
    "np.corrcoef(\n",
    "    [0.1, 0.2, 0.3, 0.4, 0.5, 0.6],\n",
    "    [1.1, 1.9, 3.3, 3.9, 4.8, 6.2]\n",
    ")[0, 1]"
   ]
  },
  {
   "cell_type": "markdown",
   "metadata": {},
   "source": [
    "Напишем функцию, которая будет считать корреляцию, между двумя рядами случайных чисел, длины $n$:"
   ]
  },
  {
   "cell_type": "code",
   "execution_count": 36,
   "metadata": {},
   "outputs": [],
   "source": [
    "def get_random_corr(n=3):\n",
    "    return np.corrcoef(np.random.rand(n), np.random.rand(n))[0,1]"
   ]
  },
  {
   "cell_type": "markdown",
   "metadata": {},
   "source": [
    "А теперь "
   ]
  },
  {
   "cell_type": "code",
   "execution_count": 62,
   "metadata": {},
   "outputs": [
    {
     "data": {
      "image/png": "[encoded data removed]",
      "text/plain": [
       "<Figure size 432x288 with 1 Axes>"
      ]
     },
     "metadata": {
      "needs_background": "light"
     },
     "output_type": "display_data"
    }
   ],
   "source": [
    "n = 3\n",
    "\n",
    "random_corrs = [get_random_corr(n) for el in range(10000)]\n",
    "\n",
    "plt.hist(random_corrs, bins=30)\n",
    "plt.show()"
   ]
  },
  {
   "cell_type": "code",
   "execution_count": 63,
   "metadata": {},
   "outputs": [],
   "source": [
    "els = [el for el in random_corrs if el >= 0.99]"
   ]
  },
  {
   "cell_type": "code",
   "execution_count": 65,
   "metadata": {},
   "outputs": [
    {
     "data": {
      "text/plain": [
       "0.0476"
      ]
     },
     "execution_count": 65,
     "metadata": {},
     "output_type": "execute_result"
    }
   ],
   "source": [
    "len(els)/10000"
   ]
  },
  {
   "cell_type": "code",
   "execution_count": 66,
   "metadata": {},
   "outputs": [],
   "source": [
    "els = [el for el in random_corrs if el <= -0.99]"
   ]
  },
  {
   "cell_type": "code",
   "execution_count": 67,
   "metadata": {},
   "outputs": [
    {
     "data": {
      "text/plain": [
       "0.048"
      ]
     },
     "execution_count": 67,
     "metadata": {},
     "output_type": "execute_result"
    }
   ],
   "source": [
    "len(els)/10000"
   ]
  },
  {
   "cell_type": "code",
   "execution_count": null,
   "metadata": {},
   "outputs": [],
   "source": []
  }
 ],
 "metadata": {
  "kernelspec": {
   "display_name": "Python 3.9.7 64-bit",
   "language": "python",
   "name": "python3"
  },
  "language_info": {
   "codemirror_mode": {
    "name": "ipython",
    "version": 3
   },
   "file_extension": ".py",
   "mimetype": "text/x-python",
   "name": "python",
   "nbconvert_exporter": "python",
   "pygments_lexer": "ipython3",
   "version": "3.9.7"
  },
  "orig_nbformat": 4,
  "vscode": {
   "interpreter": {
    "hash": "aac4e10b784c8b68847773aa91e5a338c2143a5789fe517934784a07fa1bd409"
   }
  }
 },
 "nbformat": 4,
 "nbformat_minor": 2
}
