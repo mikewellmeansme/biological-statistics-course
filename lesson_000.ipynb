{
 "cells": [
  {
   "cell_type": "markdown",
   "metadata": {},
   "source": [
    "# Прикладная биологическая статистика и элементы программирования\n",
    "\n",
    "Михаил Сергеевич Жарков, mzharkov@sfu-kras.ru"
   ]
  },
  {
   "cell_type": "markdown",
   "metadata": {},
   "source": [
    "## Для чего нужен предмет?"
   ]
  },
  {
   "cell_type": "markdown",
   "metadata": {},
   "source": [
    "* Половина статистики придумана для того, чтобы сделать Guinness — лучшим пивом (Уильям Сили Госсет, он же Стьюдент), вторая половина — для нужд биологов (Карл Пирсон)\n",
    "\n",
    "* В виду особенности области, в биологии много цифр и хотелось бы знать, как они связаны. Мыши, трахеиды, активации генов и иже с ними."
   ]
  },
  {
   "cell_type": "markdown",
   "metadata": {},
   "source": [
    "Ресурсы:\n",
    "\n",
    "* Курс \"Программирование на Python\": https://stepik.org/course/67/syllabus \n",
    "\n",
    "* Канал StatQuest: https://www.youtube.com/c/joshstarmer/videos \n",
    "\n",
    "* Книга \"Статистика и котики\": https://t.me/progbook/2825 \n",
    "\n",
    "Где писать код:\n",
    "\n",
    "* Google Colab: https://colab.research.google.com/ "
   ]
  }
 ],
 "metadata": {
  "language_info": {
   "name": "python"
  },
  "orig_nbformat": 4
 },
 "nbformat": 4,
 "nbformat_minor": 2
}
