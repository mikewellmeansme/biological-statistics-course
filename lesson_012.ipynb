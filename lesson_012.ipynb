{
 "cells": [
  {
   "cell_type": "markdown",
   "metadata": {},
   "source": [
    "# Статистические критерии"
   ]
  },
  {
   "cell_type": "markdown",
   "metadata": {},
   "source": [
    "Подключаем библиотеки для работы с таблицами и графиками"
   ]
  },
  {
   "cell_type": "code",
   "execution_count": 1,
   "metadata": {},
   "outputs": [],
   "source": [
    "import pandas as pd\n",
    "import seaborn as sns"
   ]
  },
  {
   "cell_type": "markdown",
   "metadata": {},
   "source": [
    "Считаем таблицу сгруппированных данных, полученную на [шестом](lesson_006.ipynb) семенаре:"
   ]
  },
  {
   "cell_type": "code",
   "execution_count": 2,
   "metadata": {},
   "outputs": [],
   "source": [
    "grouped_df = pd.read_csv('https://raw.githubusercontent.com/mikewellmeansme/biological-statistics-course/master/data/grouped_002.csv')"
   ]
  },
  {
   "cell_type": "code",
   "execution_count": 3,
   "metadata": {},
   "outputs": [
    {
     "data": {
      "text/html": [
       "<div>\n",
       "<style scoped>\n",
       "    .dataframe tbody tr th:only-of-type {\n",
       "        vertical-align: middle;\n",
       "    }\n",
       "\n",
       "    .dataframe tbody tr th {\n",
       "        vertical-align: top;\n",
       "    }\n",
       "\n",
       "    .dataframe thead th {\n",
       "        text-align: right;\n",
       "    }\n",
       "</style>\n",
       "<table border=\"1\" class=\"dataframe\">\n",
       "  <thead>\n",
       "    <tr style=\"text-align: right;\">\n",
       "      <th></th>\n",
       "      <th>Year</th>\n",
       "      <th>Cells</th>\n",
       "      <th>Dmax</th>\n",
       "      <th>CWTmax</th>\n",
       "      <th>TRW</th>\n",
       "    </tr>\n",
       "  </thead>\n",
       "  <tbody>\n",
       "    <tr>\n",
       "      <th>0</th>\n",
       "      <td>1900</td>\n",
       "      <td>25</td>\n",
       "      <td>45.675826</td>\n",
       "      <td>3.3212</td>\n",
       "      <td>868.245102</td>\n",
       "    </tr>\n",
       "  </tbody>\n",
       "</table>\n",
       "</div>"
      ],
      "text/plain": [
       "   Year  Cells       Dmax  CWTmax         TRW\n",
       "0  1900     25  45.675826  3.3212  868.245102"
      ]
     },
     "execution_count": 3,
     "metadata": {},
     "output_type": "execute_result"
    }
   ],
   "source": [
    "grouped_df.head(1)"
   ]
  },
  {
   "cell_type": "markdown",
   "metadata": {},
   "source": [
    "## Тесты на нормальность"
   ]
  },
  {
   "cell_type": "markdown",
   "metadata": {},
   "source": [
    "Статистические критерии нормальности, нужны для того, чтобы формально определить взята ли наша выборка из нормального распределения,  или нет. \n",
    "\n",
    "$H_0$ — Выборка имеет нормальное распределение\n",
    "\n",
    "$H_1$ — Выборка имеет не нормальное распределение"
   ]
  },
  {
   "cell_type": "markdown",
   "metadata": {},
   "source": [
    "Из пакета `scipy` импортируем тест на нормальность распределения (Критерий Шапиро-Уилка):"
   ]
  },
  {
   "cell_type": "code",
   "execution_count": 4,
   "metadata": {},
   "outputs": [],
   "source": [
    "from scipy.stats import shapiro"
   ]
  },
  {
   "cell_type": "markdown",
   "metadata": {},
   "source": [
    "Посмотрим на то, как у нас выглядит распределение ширины годичных колец дерева:"
   ]
  },
  {
   "cell_type": "code",
   "execution_count": 5,
   "metadata": {},
   "outputs": [
    {
     "data": {
      "text/plain": [
       "<AxesSubplot:xlabel='TRW', ylabel='Count'>"
      ]
     },
     "execution_count": 5,
     "metadata": {},
     "output_type": "execute_result"
    },
    {
     "data": {
      "image/png": "[encoded data removed]",
      "text/plain": [
       "<Figure size 432x288 with 1 Axes>"
      ]
     },
     "metadata": {
      "needs_background": "light"
     },
     "output_type": "display_data"
    }
   ],
   "source": [
    "sns.histplot(grouped_df['TRW'], kde=True)"
   ]
  },
  {
   "cell_type": "markdown",
   "metadata": {},
   "source": [
    "Визуально видим, что оно далеко от нормальности. Давайте проверим это при помощи статистического критерия:"
   ]
  },
  {
   "cell_type": "code",
   "execution_count": 23,
   "metadata": {},
   "outputs": [
    {
     "name": "stdout",
     "output_type": "stream",
     "text": [
      "stat=0.870, p=0.000\n",
      "Распределение не нормальное\n"
     ]
    }
   ],
   "source": [
    "stat, p = shapiro(grouped_df['TRW'])\n",
    "print(f'stat={stat:.3f}, p={p:.3f}')\n",
    "if p > 0.05:\n",
    "\tprint('Распределение нормальное')\n",
    "else:\n",
    "\tprint('Распределение не нормальное')"
   ]
  },
  {
   "cell_type": "markdown",
   "metadata": {},
   "source": [
    "Функция `shapiro` возвращает два значения: значение статистики, и p-значение для этой статистики. Из прошлого занятия помним, что при малых p-значениях мы должны отвергнуть нулевую гипотезу.\n",
    "\n",
    "Поскольку в нашем случае p-значение меньше $0.05$, мы отвергаем нулевую гипотезу и говорим, что выборка имеет не нормальное распределение."
   ]
  },
  {
   "cell_type": "markdown",
   "metadata": {},
   "source": [
    "Теперь давайте попробуем получить нормальное распределение.\n",
    "\n",
    "Импортируем механизмы для построения линейной регрессии:"
   ]
  },
  {
   "cell_type": "code",
   "execution_count": 7,
   "metadata": {},
   "outputs": [],
   "source": [
    "from numpy import (\n",
    "    poly1d,\n",
    "    polyfit\n",
    ")"
   ]
  },
  {
   "cell_type": "markdown",
   "metadata": {},
   "source": [
    "И посчитаем отношение ширины годичного кольца в году к значению линейной регресии:"
   ]
  },
  {
   "cell_type": "code",
   "execution_count": 8,
   "metadata": {},
   "outputs": [],
   "source": [
    "x = grouped_df['Cells']\n",
    "y = grouped_df['TRW']\n",
    "coeffs = polyfit(x, y, deg=1)\n",
    "f = poly1d(coeffs)\n",
    "grouped_df['TRW/TRW(Cells)'] = grouped_df['TRW'] / f(grouped_df['Cells'])"
   ]
  },
  {
   "cell_type": "markdown",
   "metadata": {},
   "source": [
    "По факту, мы взяли и для каждого года поделили реальную ширину годичного кольца, на предсказанную по следующей линейной модели:"
   ]
  },
  {
   "cell_type": "code",
   "execution_count": 9,
   "metadata": {},
   "outputs": [
    {
     "data": {
      "text/plain": [
       "<AxesSubplot:xlabel='TRW', ylabel='Cells'>"
      ]
     },
     "execution_count": 9,
     "metadata": {},
     "output_type": "execute_result"
    },
    {
     "data": {
      "image/png": "[encoded data removed]",
      "text/plain": [
       "<Figure size 432x288 with 1 Axes>"
      ]
     },
     "metadata": {
      "needs_background": "light"
     },
     "output_type": "display_data"
    }
   ],
   "source": [
    "sns.regplot(\n",
    "    x='TRW',\n",
    "    y='Cells',\n",
    "    data=grouped_df,\n",
    "    scatter_kws={'edgecolor':'k', 'color':'w'},\n",
    "    line_kws={'color': 'k'}\n",
    ")"
   ]
  },
  {
   "cell_type": "markdown",
   "metadata": {},
   "source": [
    "Теперь посмотрим, как выглядит распределение отношений:"
   ]
  },
  {
   "cell_type": "code",
   "execution_count": 10,
   "metadata": {},
   "outputs": [
    {
     "data": {
      "text/plain": [
       "<AxesSubplot:xlabel='TRW/TRW(Cells)', ylabel='Count'>"
      ]
     },
     "execution_count": 10,
     "metadata": {},
     "output_type": "execute_result"
    },
    {
     "data": {
      "image/png": "[encoded data removed]",
      "text/plain": [
       "<Figure size 432x288 with 1 Axes>"
      ]
     },
     "metadata": {
      "needs_background": "light"
     },
     "output_type": "display_data"
    }
   ],
   "source": [
    "sns.histplot(grouped_df['TRW/TRW(Cells)'], kde=True)"
   ]
  },
  {
   "cell_type": "markdown",
   "metadata": {},
   "source": [
    "Видим, что визуально это распределение больше походит на нормальное. Но чтобы не быть голословными, давайте проверим его при помощи стат критерия:"
   ]
  },
  {
   "cell_type": "code",
   "execution_count": 22,
   "metadata": {},
   "outputs": [
    {
     "name": "stdout",
     "output_type": "stream",
     "text": [
      "stat=0.982, p=0.187\n",
      "Распределение нормальное\n"
     ]
    }
   ],
   "source": [
    "stat, p = shapiro(grouped_df['TRW/TRW(Cells)'])\n",
    "print(f'stat={stat:.3f}, p={p:.3f}')\n",
    "if p > 0.05:\n",
    "\tprint('Распределение нормальное')\n",
    "else:\n",
    "\tprint('Распределение не нормальное')"
   ]
  },
  {
   "cell_type": "markdown",
   "metadata": {},
   "source": [
    "Как видим, в этот раз p-значение больше $0.05$, то есть, отвергнуть нулевую гипотезу о нормальности распределения, не получается.\n",
    "\n",
    "Следовательно, мы говорим, что в этом случае распределение, с большой долей уверенности, нормальное."
   ]
  },
  {
   "cell_type": "markdown",
   "metadata": {},
   "source": [
    "Существует множество статистических критериев проверки нормальности распределения, но проще всегда использовать критерий Шапиро-Уилка — он имеет наибольшую мощность из всех критериев нормальности, а также требует лишь чтобы все наблюдения внутри выборки были независимыми и взятыми из одного распределения."
   ]
  },
  {
   "cell_type": "markdown",
   "metadata": {},
   "source": [
    "## Параметрические критерии"
   ]
  },
  {
   "cell_type": "markdown",
   "metadata": {},
   "source": [
    "Параметрические критерии нужны чтобы сравнивать между собою нормально распределённые величины. Чаще всего эти критерии также требуют равенство дисперсий.\n",
    "\n",
    "В реальности наши данные далеко не всегда нормально распределены."
   ]
  },
  {
   "cell_type": "markdown",
   "metadata": {},
   "source": [
    "Как и в случае с TRW, CWTmax не распределено нормально:"
   ]
  },
  {
   "cell_type": "code",
   "execution_count": 114,
   "metadata": {},
   "outputs": [
    {
     "data": {
      "text/plain": [
       "<AxesSubplot:xlabel='CWTmax', ylabel='Count'>"
      ]
     },
     "execution_count": 114,
     "metadata": {},
     "output_type": "execute_result"
    },
    {
     "data": {
      "image/png": "[encoded data removed]",
      "text/plain": [
       "<Figure size 432x288 with 1 Axes>"
      ]
     },
     "metadata": {
      "needs_background": "light"
     },
     "output_type": "display_data"
    }
   ],
   "source": [
    "sns.histplot(grouped_df['CWTmax'], kde=True)"
   ]
  },
  {
   "cell_type": "markdown",
   "metadata": {},
   "source": [
    "Однако если мы полсчитаем отношение CWTmax к линейной регресии, наше распределение получится более нормальным:"
   ]
  },
  {
   "cell_type": "code",
   "execution_count": 12,
   "metadata": {},
   "outputs": [
    {
     "data": {
      "text/plain": [
       "<AxesSubplot:xlabel='CWTmax', ylabel='Cells'>"
      ]
     },
     "execution_count": 12,
     "metadata": {},
     "output_type": "execute_result"
    },
    {
     "data": {
      "image/png": "[encoded data removed]",
      "text/plain": [
       "<Figure size 432x288 with 1 Axes>"
      ]
     },
     "metadata": {
      "needs_background": "light"
     },
     "output_type": "display_data"
    }
   ],
   "source": [
    "x = grouped_df['Cells']\n",
    "y = grouped_df['CWTmax']\n",
    "coeffs = polyfit(x, y, deg=1)\n",
    "f = poly1d(coeffs)\n",
    "grouped_df['CWTmax/CWTmax(Cells)'] = grouped_df['CWTmax'] / f(grouped_df['Cells'])\n",
    "sns.regplot(\n",
    "    x='CWTmax',\n",
    "    y='Cells',\n",
    "    data=grouped_df,\n",
    "    scatter_kws={'edgecolor':'k', 'color':'w'},\n",
    "    line_kws={'color': 'k'}\n",
    ")"
   ]
  },
  {
   "cell_type": "code",
   "execution_count": 13,
   "metadata": {},
   "outputs": [
    {
     "data": {
      "text/plain": [
       "<AxesSubplot:xlabel='CWTmax/CWTmax(Cells)', ylabel='Count'>"
      ]
     },
     "execution_count": 13,
     "metadata": {},
     "output_type": "execute_result"
    },
    {
     "data": {
      "image/png": "[encoded data removed]",
      "text/plain": [
       "<Figure size 432x288 with 1 Axes>"
      ]
     },
     "metadata": {
      "needs_background": "light"
     },
     "output_type": "display_data"
    }
   ],
   "source": [
    "sns.histplot(grouped_df['CWTmax/CWTmax(Cells)'], kde=True)"
   ]
  },
  {
   "cell_type": "markdown",
   "metadata": {},
   "source": [
    "Настолько, что даже по критерию нормальности оно будет определяться нормальным:"
   ]
  },
  {
   "cell_type": "code",
   "execution_count": 21,
   "metadata": {},
   "outputs": [
    {
     "name": "stdout",
     "output_type": "stream",
     "text": [
      "stat=0.985, p=0.330\n",
      "Распределение нормальное\n"
     ]
    }
   ],
   "source": [
    "stat, p = shapiro(grouped_df['CWTmax/CWTmax(Cells)'])\n",
    "print(f'stat={stat:.3f}, p={p:.3f}')\n",
    "if p > 0.05:\n",
    "\tprint('Распределение нормальное')\n",
    "else:\n",
    "\tprint('Распределение не нормальное')"
   ]
  },
  {
   "cell_type": "markdown",
   "metadata": {},
   "source": [
    "Чтобы сравнить два нормальных распределения по критерию Стьюдента либо при помощи дисперсионного анализа, требуется равенство дисперсий двух выборок (что тоже случается далеко не всегда):"
   ]
  },
  {
   "cell_type": "code",
   "execution_count": 104,
   "metadata": {},
   "outputs": [
    {
     "data": {
      "text/plain": [
       "0.01868782741262966"
      ]
     },
     "execution_count": 104,
     "metadata": {},
     "output_type": "execute_result"
    }
   ],
   "source": [
    "grouped_df['TRW/TRW(Cells)'].var()"
   ]
  },
  {
   "cell_type": "code",
   "execution_count": 105,
   "metadata": {},
   "outputs": [
    {
     "data": {
      "text/plain": [
       "0.025033507800842406"
      ]
     },
     "execution_count": 105,
     "metadata": {},
     "output_type": "execute_result"
    }
   ],
   "source": [
    "grouped_df['CWTmax/CWTmax(Cells)'].var()"
   ]
  },
  {
   "cell_type": "markdown",
   "metadata": {},
   "source": [
    "Как видим, в нашем случае, дисперсии не равны, но довольно близки друг к другу. Поскольку мы рассматриваем пример, скажем, что нам этого хватит.\n",
    "\n",
    "Сравним наши распределения визуально:"
   ]
  },
  {
   "cell_type": "code",
   "execution_count": 103,
   "metadata": {},
   "outputs": [
    {
     "data": {
      "text/plain": [
       "<AxesSubplot:xlabel='TRW/TRW(Cells)', ylabel='Density'>"
      ]
     },
     "execution_count": 103,
     "metadata": {},
     "output_type": "execute_result"
    },
    {
     "data": {
      "image/png": "[encoded data removed]",
      "text/plain": [
       "<Figure size 432x288 with 1 Axes>"
      ]
     },
     "metadata": {
      "needs_background": "light"
     },
     "output_type": "display_data"
    }
   ],
   "source": [
    "sns.kdeplot(grouped_df['TRW/TRW(Cells)'])\n",
    "sns.kdeplot(grouped_df['CWTmax/CWTmax(Cells)'])"
   ]
  },
  {
   "cell_type": "markdown",
   "metadata": {},
   "source": [
    "Конечно, общие формы схожи, но однозначно сказать, что распределения одинаковы мы не можем.\n",
    "\n",
    "Прибегнем к помощи критерия Стьюдента:"
   ]
  },
  {
   "cell_type": "markdown",
   "metadata": {},
   "source": [
    "$H_0$ — Средние значения двух выборок одинаковы\n",
    "\n",
    "$H_1$ — Средние значения двух выборок не одинаковы"
   ]
  },
  {
   "cell_type": "code",
   "execution_count": 15,
   "metadata": {},
   "outputs": [
    {
     "name": "stdout",
     "output_type": "stream",
     "text": [
      "stat=-0.464, p=0.643\n",
      "Распределения одинаковы\n"
     ]
    }
   ],
   "source": [
    "from scipy.stats import ttest_ind\n",
    "stat, p = ttest_ind(\n",
    "\tgrouped_df['TRW/TRW(Cells)'],\n",
    "\tgrouped_df['CWTmax/CWTmax(Cells)']\n",
    ")\n",
    "print(f'stat={stat:.3f}, p={p:.3f}')\n",
    "if p > 0.05:\n",
    "\tprint('Распределения одинаковы')\n",
    "else:\n",
    "\tprint('Распределения отличаются')"
   ]
  },
  {
   "cell_type": "markdown",
   "metadata": {},
   "source": [
    "Критерий Стьюдента утверждает, что выборки распределены нормально.\n",
    "\n",
    "Как и дисперсионный анализ (ANOVA):\n",
    "\n",
    "$H_0$ — Средние значения двух выборок одинаковы\n",
    "\n",
    "$H_1$ — Средние значения двух выборок не одинаковы"
   ]
  },
  {
   "cell_type": "code",
   "execution_count": 16,
   "metadata": {},
   "outputs": [
    {
     "name": "stdout",
     "output_type": "stream",
     "text": [
      "stat=0.216, p=0.643\n",
      "Распределения одинаковы\n"
     ]
    }
   ],
   "source": [
    "from scipy.stats import f_oneway\n",
    "stat, p = f_oneway(\n",
    "    grouped_df['TRW/TRW(Cells)'],\n",
    "\tgrouped_df['CWTmax/CWTmax(Cells)'])\n",
    "print('stat=%.3f, p=%.3f' % (stat, p))\n",
    "if p > 0.05:\n",
    "\tprint('Распределения одинаковы')\n",
    "else:\n",
    "\tprint('Распределения отличаются')"
   ]
  },
  {
   "cell_type": "markdown",
   "metadata": {},
   "source": [
    "Что это означает? Что отклонения ширин годичных колец от линейной модели, распределены примерно так же, как и отклонения толщин клеточных стенок от их линейной модели.\n",
    "\n",
    "Если подумать, то это весьма логично — метод наименьших квадратов пытается провести прямую линию, которая лучше всего бы описывала тенденцию в наших данных, тем самым невольно разделяя наши данные почти пополам — выше и ниже прямой линии.\n",
    "\n",
    "Мы не говорим, что любые отношения данных к их линейной модели будут распределены нормально (например это неверно для Dmax, в чём вы можете сами убедиться), но подобное встречается довольно часто."
   ]
  },
  {
   "cell_type": "markdown",
   "metadata": {},
   "source": [
    "## Непараметрические критерии"
   ]
  },
  {
   "cell_type": "markdown",
   "metadata": {},
   "source": [
    "Непараметрические критерии, нужны для сравнения выборок взятых из ненормальных распределений."
   ]
  },
  {
   "cell_type": "markdown",
   "metadata": {},
   "source": [
    "Считаем исходную таблицу из [шестого](lesson_006.ipynb) занятия (данные по клеточным размерам за 100 лет) и сохраним её в переменную `df`:"
   ]
  },
  {
   "cell_type": "code",
   "execution_count": 17,
   "metadata": {},
   "outputs": [],
   "source": [
    "df = pd.read_csv('https://raw.githubusercontent.com/mikewellmeansme/biological-statistics-course/master/data/002.csv')"
   ]
  },
  {
   "cell_type": "code",
   "execution_count": 18,
   "metadata": {},
   "outputs": [
    {
     "data": {
      "text/html": [
       "<div>\n",
       "<style scoped>\n",
       "    .dataframe tbody tr th:only-of-type {\n",
       "        vertical-align: middle;\n",
       "    }\n",
       "\n",
       "    .dataframe tbody tr th {\n",
       "        vertical-align: top;\n",
       "    }\n",
       "\n",
       "    .dataframe thead th {\n",
       "        text-align: right;\n",
       "    }\n",
       "</style>\n",
       "<table border=\"1\" class=\"dataframe\">\n",
       "  <thead>\n",
       "    <tr style=\"text-align: right;\">\n",
       "      <th></th>\n",
       "      <th>Year</th>\n",
       "      <th>№</th>\n",
       "      <th>D1</th>\n",
       "      <th>CWT1</th>\n",
       "      <th>D2</th>\n",
       "      <th>CWT2</th>\n",
       "      <th>D3</th>\n",
       "      <th>CWT3</th>\n",
       "      <th>D4</th>\n",
       "      <th>CWT4</th>\n",
       "      <th>D5</th>\n",
       "      <th>CWT5</th>\n",
       "    </tr>\n",
       "  </thead>\n",
       "  <tbody>\n",
       "    <tr>\n",
       "      <th>0</th>\n",
       "      <td>1900</td>\n",
       "      <td>1</td>\n",
       "      <td>29.732192</td>\n",
       "      <td>1.97862</td>\n",
       "      <td>30.939511</td>\n",
       "      <td>2.380663</td>\n",
       "      <td>52.044985</td>\n",
       "      <td>2.718184</td>\n",
       "      <td>50.164903</td>\n",
       "      <td>2.054598</td>\n",
       "      <td>43.016125</td>\n",
       "      <td>2.584435</td>\n",
       "    </tr>\n",
       "  </tbody>\n",
       "</table>\n",
       "</div>"
      ],
      "text/plain": [
       "   Year  №         D1     CWT1         D2      CWT2         D3      CWT3  \\\n",
       "0  1900  1  29.732192  1.97862  30.939511  2.380663  52.044985  2.718184   \n",
       "\n",
       "          D4      CWT4         D5      CWT5  \n",
       "0  50.164903  2.054598  43.016125  2.584435  "
      ]
     },
     "execution_count": 18,
     "metadata": {},
     "output_type": "execute_result"
    }
   ],
   "source": [
    "df.head(1)"
   ]
  },
  {
   "cell_type": "markdown",
   "metadata": {},
   "source": [
    "Посмотрим на то, как у нас распределены диаметры клеток в первых рядах:"
   ]
  },
  {
   "cell_type": "code",
   "execution_count": 25,
   "metadata": {},
   "outputs": [
    {
     "data": {
      "text/plain": [
       "<AxesSubplot:xlabel='D1', ylabel='Count'>"
      ]
     },
     "execution_count": 25,
     "metadata": {},
     "output_type": "execute_result"
    },
    {
     "data": {
      "image/png": "[encoded data removed]",
      "text/plain": [
       "<Figure size 432x288 with 1 Axes>"
      ]
     },
     "metadata": {
      "needs_background": "light"
     },
     "output_type": "display_data"
    }
   ],
   "source": [
    "sns.histplot(df['D1'], kde=True )"
   ]
  },
  {
   "cell_type": "markdown",
   "metadata": {},
   "source": [
    "Видим, что их распределение далеко от нормального:"
   ]
  },
  {
   "cell_type": "code",
   "execution_count": 20,
   "metadata": {},
   "outputs": [
    {
     "name": "stdout",
     "output_type": "stream",
     "text": [
      "stat=0.991, p=0.000\n",
      "Наспределение не нормальное\n"
     ]
    }
   ],
   "source": [
    "stat, p = shapiro(df['D1'])\n",
    "print(f'stat={stat:.3f}, p={p:.3f}')\n",
    "if p > 0.05:\n",
    "\tprint('Распределение нормальное')\n",
    "else:\n",
    "\tprint('Распределение не нормальное')"
   ]
  },
  {
   "cell_type": "markdown",
   "metadata": {},
   "source": [
    "И критерий Шапиро-Уилка это подтверждает. С толщинами клеточных стенок всё аналогично."
   ]
  },
  {
   "cell_type": "markdown",
   "metadata": {},
   "source": [
    "Если посмотрим на boxplot'ы `D1` и `CWT1`, увидим, что они полностью отличаются и по диапазону, и по размаху, и по медиане:"
   ]
  },
  {
   "cell_type": "code",
   "execution_count": 40,
   "metadata": {},
   "outputs": [
    {
     "data": {
      "text/plain": [
       "<AxesSubplot:xlabel='variable', ylabel='value'>"
      ]
     },
     "execution_count": 40,
     "metadata": {},
     "output_type": "execute_result"
    },
    {
     "data": {
      "image/png": "[encoded data removed]",
      "text/plain": [
       "<Figure size 432x288 with 1 Axes>"
      ]
     },
     "metadata": {
      "needs_background": "light"
     },
     "output_type": "display_data"
    }
   ],
   "source": [
    "sns.boxplot(\n",
    "    data=pd.melt(df[['CWT1', 'D1']]),\n",
    "    x='variable',\n",
    "    y='value'\n",
    ")"
   ]
  },
  {
   "cell_type": "markdown",
   "metadata": {},
   "source": [
    "То есть, `CWT1` и `D1` имеют разные распределения. Чтобы обозначить это фнормально прибегнем к критерию Манна-Уитни:"
   ]
  },
  {
   "cell_type": "markdown",
   "metadata": {},
   "source": [
    "$H_0$ — Распределения двух выборок одинаковы\n",
    "\n",
    "$H_1$ — Распределения двух выборок не одинаковы"
   ]
  },
  {
   "cell_type": "code",
   "execution_count": 36,
   "metadata": {},
   "outputs": [
    {
     "name": "stdout",
     "output_type": "stream",
     "text": [
      "stat=1533.000, p=0.000\n",
      "Распределения отличаются\n"
     ]
    }
   ],
   "source": [
    "from scipy.stats import mannwhitneyu\n",
    "\n",
    "stat, p = mannwhitneyu(df['CWT1'], df['D1'])\n",
    "print(f'stat={stat:.3f}, p={p:.3f}')\n",
    "if p > 0.05:\n",
    "\tprint('Распределения одинаковы')\n",
    "else:\n",
    "\tprint('Распределения отличаются')"
   ]
  },
  {
   "cell_type": "markdown",
   "metadata": {},
   "source": [
    "Поскольку p-значения для статистики критерия меньше $0.05$, то мы отвергаем нулевую гипотезу о равенстве распределений."
   ]
  },
  {
   "cell_type": "markdown",
   "metadata": {},
   "source": [
    "Однако у нас может возникнуть ситуация, когда сравнить нужно не два распределения, а больше, например `D1`-`D5`:"
   ]
  },
  {
   "cell_type": "code",
   "execution_count": 30,
   "metadata": {},
   "outputs": [
    {
     "data": {
      "text/plain": [
       "<AxesSubplot:xlabel='D1', ylabel='Density'>"
      ]
     },
     "execution_count": 30,
     "metadata": {},
     "output_type": "execute_result"
    },
    {
     "data": {
      "image/png": "[encoded data removed]",
      "text/plain": [
       "<Figure size 432x288 with 1 Axes>"
      ]
     },
     "metadata": {
      "needs_background": "light"
     },
     "output_type": "display_data"
    }
   ],
   "source": [
    "sns.kdeplot(df['D1'])\n",
    "sns.kdeplot(df['D2'])\n",
    "sns.kdeplot(df['D3'])\n",
    "sns.kdeplot(df['D4'])\n",
    "sns.kdeplot(df['D5'])"
   ]
  },
  {
   "cell_type": "markdown",
   "metadata": {},
   "source": [
    "Визуально мы видим, что они почти что идентичны"
   ]
  },
  {
   "cell_type": "code",
   "execution_count": 43,
   "metadata": {},
   "outputs": [
    {
     "data": {
      "text/plain": [
       "<AxesSubplot:xlabel='variable', ylabel='value'>"
      ]
     },
     "execution_count": 43,
     "metadata": {},
     "output_type": "execute_result"
    },
    {
     "data": {
      "image/png": "[encoded data removed]",
      "text/plain": [
       "<Figure size 432x288 with 1 Axes>"
      ]
     },
     "metadata": {
      "needs_background": "light"
     },
     "output_type": "display_data"
    }
   ],
   "source": [
    "sns.boxplot(\n",
    "    data=pd.melt(df[['D1', 'D2', 'D3', 'D4', 'D5']]),\n",
    "    x='variable',\n",
    "    y='value'\n",
    ")"
   ]
  },
  {
   "cell_type": "markdown",
   "metadata": {},
   "source": [
    "Даже boxplot'ы для них почти равны. Однако для того, чтобы формально обозначить равенство распределений, нам потребуется многомерный аналог критерия Манна-Уитни, критерий Краскела-Уолиса:"
   ]
  },
  {
   "cell_type": "markdown",
   "metadata": {},
   "source": [
    "$H_0$ — Распределения всех выборок одинаковы\n",
    "\n",
    "$H_1$ — Распределения двух или более выборок не одинаковы"
   ]
  },
  {
   "cell_type": "code",
   "execution_count": 41,
   "metadata": {},
   "outputs": [
    {
     "name": "stdout",
     "output_type": "stream",
     "text": [
      "stat=1.485, p=0.829\n",
      "Распределения одинаковы\n"
     ]
    }
   ],
   "source": [
    "from scipy.stats import kruskal\n",
    "stat, p = kruskal(\n",
    "\tdf['D1'],\n",
    "\tdf['D2'],\n",
    "\tdf['D3'],\n",
    "\tdf['D4'],\n",
    "\tdf['D5'],\n",
    ")\n",
    "print(f'stat={stat:.3f}, p={p:.3f}')\n",
    "if p > 0.05:\n",
    "\tprint('Распределения одинаковы')\n",
    "else:\n",
    "\tprint('Распределения отличаются')"
   ]
  },
  {
   "cell_type": "markdown",
   "metadata": {},
   "source": [
    "Как мы видим, этот критерий говорит о равенстве распределений всех выборок.\n",
    "\n",
    "Однако у такого критерия есть неприятная особенность: если мы захотим говорить об отличие выборок, а не об их равенстве, он сработает и в том случае, когда у нас будет иметься четыре выборки с одинаковым распределением и одна с отличным. Если мы хотим доказать взаимное неравенство выборок, лучше попарно сравнить их при помощи Манна-Уитни, или прибегнуть к иным критериям."
   ]
  },
  {
   "cell_type": "markdown",
   "metadata": {},
   "source": [
    "# Задание"
   ]
  },
  {
   "cell_type": "markdown",
   "metadata": {},
   "source": [
    "* Постройте гистограмму для `C1`;\n",
    "\n",
    "* Проверьте на нормальность распределение `C1`;\n",
    "\n",
    "* Постройте графики ядерных оценок плотности для `C1`-`C5` на одном полотне;\n",
    "\n",
    "* Сравните выборки `C1`-`C5` при помощи критери Краскела-Уолиса и объясните результат сравнения."
   ]
  },
  {
   "cell_type": "markdown",
   "metadata": {},
   "source": [
    "# Полезные ссылки"
   ]
  },
  {
   "cell_type": "markdown",
   "metadata": {},
   "source": [
    "[17 Statistical Hypothesis Tests in Python (Cheat Sheet)\n",
    "](https://machinelearningmastery.com/statistical-hypothesis-tests-in-python-cheat-sheet/) — шпаргалка по статистическим критериям в Python."
   ]
  }
 ],
 "metadata": {
  "kernelspec": {
   "display_name": "Python 3.9.7 64-bit",
   "language": "python",
   "name": "python3"
  },
  "language_info": {
   "codemirror_mode": {
    "name": "ipython",
    "version": 3
   },
   "file_extension": ".py",
   "mimetype": "text/x-python",
   "name": "python",
   "nbconvert_exporter": "python",
   "pygments_lexer": "ipython3",
   "version": "3.9.7"
  },
  "orig_nbformat": 4,
  "vscode": {
   "interpreter": {
    "hash": "aac4e10b784c8b68847773aa91e5a338c2143a5789fe517934784a07fa1bd409"
   }
  }
 },
 "nbformat": 4,
 "nbformat_minor": 2
}
