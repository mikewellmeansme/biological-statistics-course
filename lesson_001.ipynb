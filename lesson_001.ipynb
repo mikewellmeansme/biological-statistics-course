{
 "cells": [
  {
   "cell_type": "markdown",
   "metadata": {},
   "source": [
    "# Прикладная биологическая статистика и элементы программирования"
   ]
  },
  {
   "cell_type": "markdown",
   "metadata": {},
   "source": [
    "Михаил Сергеевич Жарков, mzharkov@sfu-kras.ru"
   ]
  },
  {
   "cell_type": "markdown",
   "metadata": {},
   "source": [
    "## Для чего нужен предмет?"
   ]
  },
  {
   "cell_type": "markdown",
   "metadata": {},
   "source": [
    "Биологические данные:"
   ]
  },
  {
   "cell_type": "markdown",
   "metadata": {},
   "source": [
    "![cells](images/cells.png)"
   ]
  },
  {
   "cell_type": "markdown",
   "metadata": {},
   "source": [
    "Подключаем библиотеку для работы с таблицами:"
   ]
  },
  {
   "cell_type": "code",
   "execution_count": 1,
   "metadata": {},
   "outputs": [],
   "source": [
    "import pandas as pd"
   ]
  },
  {
   "cell_type": "markdown",
   "metadata": {},
   "source": [
    "Считываем таблицу из файла:"
   ]
  },
  {
   "cell_type": "code",
   "execution_count": 2,
   "metadata": {},
   "outputs": [],
   "source": [
    "df = pd.read_csv('data/001.csv')"
   ]
  },
  {
   "cell_type": "code",
   "execution_count": 3,
   "metadata": {},
   "outputs": [
    {
     "data": {
      "text/html": [
       "<div>\n",
       "<style scoped>\n",
       "    .dataframe tbody tr th:only-of-type {\n",
       "        vertical-align: middle;\n",
       "    }\n",
       "\n",
       "    .dataframe tbody tr th {\n",
       "        vertical-align: top;\n",
       "    }\n",
       "\n",
       "    .dataframe thead th {\n",
       "        text-align: right;\n",
       "    }\n",
       "</style>\n",
       "<table border=\"1\" class=\"dataframe\">\n",
       "  <thead>\n",
       "    <tr style=\"text-align: right;\">\n",
       "      <th></th>\n",
       "      <th>ШГК</th>\n",
       "      <th>№</th>\n",
       "      <th>D1</th>\n",
       "      <th>CWT1</th>\n",
       "      <th>D2</th>\n",
       "      <th>CWT2</th>\n",
       "      <th>D3</th>\n",
       "      <th>CWT3</th>\n",
       "      <th>D4</th>\n",
       "      <th>CWT4</th>\n",
       "      <th>D5</th>\n",
       "      <th>CWT5</th>\n",
       "    </tr>\n",
       "  </thead>\n",
       "  <tbody>\n",
       "    <tr>\n",
       "      <th>0</th>\n",
       "      <td>736.48</td>\n",
       "      <td>1</td>\n",
       "      <td>60.94</td>\n",
       "      <td>3.41</td>\n",
       "      <td>48.31</td>\n",
       "      <td>3.00</td>\n",
       "      <td>47.41</td>\n",
       "      <td>2.59</td>\n",
       "      <td>45.16</td>\n",
       "      <td>2.98</td>\n",
       "      <td>56.27</td>\n",
       "      <td>3.20</td>\n",
       "    </tr>\n",
       "    <tr>\n",
       "      <th>1</th>\n",
       "      <td>736.48</td>\n",
       "      <td>2</td>\n",
       "      <td>46.25</td>\n",
       "      <td>2.88</td>\n",
       "      <td>49.87</td>\n",
       "      <td>2.76</td>\n",
       "      <td>43.09</td>\n",
       "      <td>2.37</td>\n",
       "      <td>57.10</td>\n",
       "      <td>2.98</td>\n",
       "      <td>54.02</td>\n",
       "      <td>3.10</td>\n",
       "    </tr>\n",
       "    <tr>\n",
       "      <th>2</th>\n",
       "      <td>736.48</td>\n",
       "      <td>3</td>\n",
       "      <td>43.97</td>\n",
       "      <td>2.60</td>\n",
       "      <td>40.03</td>\n",
       "      <td>2.47</td>\n",
       "      <td>41.99</td>\n",
       "      <td>2.46</td>\n",
       "      <td>45.41</td>\n",
       "      <td>2.68</td>\n",
       "      <td>52.01</td>\n",
       "      <td>2.91</td>\n",
       "    </tr>\n",
       "    <tr>\n",
       "      <th>3</th>\n",
       "      <td>736.48</td>\n",
       "      <td>4</td>\n",
       "      <td>43.79</td>\n",
       "      <td>2.72</td>\n",
       "      <td>37.90</td>\n",
       "      <td>2.58</td>\n",
       "      <td>48.53</td>\n",
       "      <td>3.11</td>\n",
       "      <td>45.44</td>\n",
       "      <td>2.47</td>\n",
       "      <td>46.50</td>\n",
       "      <td>3.00</td>\n",
       "    </tr>\n",
       "    <tr>\n",
       "      <th>4</th>\n",
       "      <td>736.48</td>\n",
       "      <td>5</td>\n",
       "      <td>46.49</td>\n",
       "      <td>2.37</td>\n",
       "      <td>35.87</td>\n",
       "      <td>2.63</td>\n",
       "      <td>47.12</td>\n",
       "      <td>3.11</td>\n",
       "      <td>46.95</td>\n",
       "      <td>2.56</td>\n",
       "      <td>35.02</td>\n",
       "      <td>2.74</td>\n",
       "    </tr>\n",
       "    <tr>\n",
       "      <th>5</th>\n",
       "      <td>736.48</td>\n",
       "      <td>6</td>\n",
       "      <td>44.58</td>\n",
       "      <td>2.47</td>\n",
       "      <td>36.99</td>\n",
       "      <td>2.40</td>\n",
       "      <td>50.88</td>\n",
       "      <td>2.57</td>\n",
       "      <td>44.32</td>\n",
       "      <td>2.77</td>\n",
       "      <td>34.27</td>\n",
       "      <td>2.35</td>\n",
       "    </tr>\n",
       "    <tr>\n",
       "      <th>6</th>\n",
       "      <td>736.48</td>\n",
       "      <td>7</td>\n",
       "      <td>39.24</td>\n",
       "      <td>2.58</td>\n",
       "      <td>39.28</td>\n",
       "      <td>2.24</td>\n",
       "      <td>48.80</td>\n",
       "      <td>2.24</td>\n",
       "      <td>36.26</td>\n",
       "      <td>2.78</td>\n",
       "      <td>37.55</td>\n",
       "      <td>2.25</td>\n",
       "    </tr>\n",
       "    <tr>\n",
       "      <th>7</th>\n",
       "      <td>736.48</td>\n",
       "      <td>8</td>\n",
       "      <td>43.51</td>\n",
       "      <td>2.57</td>\n",
       "      <td>43.29</td>\n",
       "      <td>2.33</td>\n",
       "      <td>40.92</td>\n",
       "      <td>2.35</td>\n",
       "      <td>35.80</td>\n",
       "      <td>2.56</td>\n",
       "      <td>37.28</td>\n",
       "      <td>2.32</td>\n",
       "    </tr>\n",
       "    <tr>\n",
       "      <th>8</th>\n",
       "      <td>736.48</td>\n",
       "      <td>9</td>\n",
       "      <td>43.09</td>\n",
       "      <td>2.78</td>\n",
       "      <td>39.01</td>\n",
       "      <td>2.54</td>\n",
       "      <td>35.39</td>\n",
       "      <td>2.35</td>\n",
       "      <td>36.21</td>\n",
       "      <td>2.77</td>\n",
       "      <td>34.62</td>\n",
       "      <td>2.28</td>\n",
       "    </tr>\n",
       "    <tr>\n",
       "      <th>9</th>\n",
       "      <td>736.48</td>\n",
       "      <td>10</td>\n",
       "      <td>42.00</td>\n",
       "      <td>2.67</td>\n",
       "      <td>35.05</td>\n",
       "      <td>2.55</td>\n",
       "      <td>32.26</td>\n",
       "      <td>2.47</td>\n",
       "      <td>35.60</td>\n",
       "      <td>2.46</td>\n",
       "      <td>33.08</td>\n",
       "      <td>2.05</td>\n",
       "    </tr>\n",
       "    <tr>\n",
       "      <th>10</th>\n",
       "      <td>736.48</td>\n",
       "      <td>11</td>\n",
       "      <td>40.08</td>\n",
       "      <td>2.57</td>\n",
       "      <td>39.63</td>\n",
       "      <td>2.32</td>\n",
       "      <td>34.98</td>\n",
       "      <td>2.79</td>\n",
       "      <td>42.42</td>\n",
       "      <td>2.03</td>\n",
       "      <td>35.85</td>\n",
       "      <td>1.93</td>\n",
       "    </tr>\n",
       "    <tr>\n",
       "      <th>11</th>\n",
       "      <td>736.48</td>\n",
       "      <td>12</td>\n",
       "      <td>37.08</td>\n",
       "      <td>2.78</td>\n",
       "      <td>39.01</td>\n",
       "      <td>2.03</td>\n",
       "      <td>29.62</td>\n",
       "      <td>3.09</td>\n",
       "      <td>38.14</td>\n",
       "      <td>2.03</td>\n",
       "      <td>38.26</td>\n",
       "      <td>1.98</td>\n",
       "    </tr>\n",
       "    <tr>\n",
       "      <th>12</th>\n",
       "      <td>736.48</td>\n",
       "      <td>13</td>\n",
       "      <td>35.18</td>\n",
       "      <td>2.88</td>\n",
       "      <td>32.08</td>\n",
       "      <td>2.16</td>\n",
       "      <td>34.76</td>\n",
       "      <td>3.11</td>\n",
       "      <td>39.21</td>\n",
       "      <td>1.92</td>\n",
       "      <td>37.96</td>\n",
       "      <td>2.23</td>\n",
       "    </tr>\n",
       "    <tr>\n",
       "      <th>13</th>\n",
       "      <td>736.48</td>\n",
       "      <td>14</td>\n",
       "      <td>30.48</td>\n",
       "      <td>2.88</td>\n",
       "      <td>30.37</td>\n",
       "      <td>2.55</td>\n",
       "      <td>36.90</td>\n",
       "      <td>2.68</td>\n",
       "      <td>35.20</td>\n",
       "      <td>1.82</td>\n",
       "      <td>35.55</td>\n",
       "      <td>2.42</td>\n",
       "    </tr>\n",
       "    <tr>\n",
       "      <th>14</th>\n",
       "      <td>736.48</td>\n",
       "      <td>15</td>\n",
       "      <td>24.32</td>\n",
       "      <td>2.78</td>\n",
       "      <td>29.31</td>\n",
       "      <td>2.67</td>\n",
       "      <td>31.98</td>\n",
       "      <td>2.35</td>\n",
       "      <td>26.29</td>\n",
       "      <td>1.82</td>\n",
       "      <td>31.55</td>\n",
       "      <td>2.31</td>\n",
       "    </tr>\n",
       "    <tr>\n",
       "      <th>15</th>\n",
       "      <td>736.48</td>\n",
       "      <td>16</td>\n",
       "      <td>21.11</td>\n",
       "      <td>2.67</td>\n",
       "      <td>23.01</td>\n",
       "      <td>2.74</td>\n",
       "      <td>20.05</td>\n",
       "      <td>2.35</td>\n",
       "      <td>25.16</td>\n",
       "      <td>2.14</td>\n",
       "      <td>27.35</td>\n",
       "      <td>2.52</td>\n",
       "    </tr>\n",
       "    <tr>\n",
       "      <th>16</th>\n",
       "      <td>736.48</td>\n",
       "      <td>17</td>\n",
       "      <td>16.20</td>\n",
       "      <td>2.99</td>\n",
       "      <td>20.37</td>\n",
       "      <td>3.08</td>\n",
       "      <td>22.01</td>\n",
       "      <td>2.67</td>\n",
       "      <td>20.72</td>\n",
       "      <td>3.32</td>\n",
       "      <td>21.32</td>\n",
       "      <td>3.21</td>\n",
       "    </tr>\n",
       "    <tr>\n",
       "      <th>17</th>\n",
       "      <td>736.48</td>\n",
       "      <td>18</td>\n",
       "      <td>14.09</td>\n",
       "      <td>3.41</td>\n",
       "      <td>18.41</td>\n",
       "      <td>3.44</td>\n",
       "      <td>20.89</td>\n",
       "      <td>2.99</td>\n",
       "      <td>19.65</td>\n",
       "      <td>3.86</td>\n",
       "      <td>20.50</td>\n",
       "      <td>3.52</td>\n",
       "    </tr>\n",
       "    <tr>\n",
       "      <th>18</th>\n",
       "      <td>736.48</td>\n",
       "      <td>19</td>\n",
       "      <td>14.72</td>\n",
       "      <td>3.52</td>\n",
       "      <td>16.41</td>\n",
       "      <td>3.35</td>\n",
       "      <td>18.13</td>\n",
       "      <td>3.31</td>\n",
       "      <td>16.64</td>\n",
       "      <td>3.00</td>\n",
       "      <td>20.11</td>\n",
       "      <td>3.58</td>\n",
       "    </tr>\n",
       "    <tr>\n",
       "      <th>19</th>\n",
       "      <td>736.48</td>\n",
       "      <td>20</td>\n",
       "      <td>13.45</td>\n",
       "      <td>3.31</td>\n",
       "      <td>16.52</td>\n",
       "      <td>3.57</td>\n",
       "      <td>17.06</td>\n",
       "      <td>3.20</td>\n",
       "      <td>12.63</td>\n",
       "      <td>2.67</td>\n",
       "      <td>20.93</td>\n",
       "      <td>3.90</td>\n",
       "    </tr>\n",
       "    <tr>\n",
       "      <th>20</th>\n",
       "      <td>736.48</td>\n",
       "      <td>21</td>\n",
       "      <td>13.75</td>\n",
       "      <td>3.25</td>\n",
       "      <td>16.44</td>\n",
       "      <td>3.53</td>\n",
       "      <td>15.63</td>\n",
       "      <td>3.12</td>\n",
       "      <td>14.50</td>\n",
       "      <td>2.99</td>\n",
       "      <td>18.02</td>\n",
       "      <td>4.24</td>\n",
       "    </tr>\n",
       "    <tr>\n",
       "      <th>21</th>\n",
       "      <td>736.48</td>\n",
       "      <td>22</td>\n",
       "      <td>12.26</td>\n",
       "      <td>3.15</td>\n",
       "      <td>13.50</td>\n",
       "      <td>2.84</td>\n",
       "      <td>11.79</td>\n",
       "      <td>2.91</td>\n",
       "      <td>10.69</td>\n",
       "      <td>2.99</td>\n",
       "      <td>14.74</td>\n",
       "      <td>3.96</td>\n",
       "    </tr>\n",
       "    <tr>\n",
       "      <th>22</th>\n",
       "      <td>736.48</td>\n",
       "      <td>23</td>\n",
       "      <td>10.77</td>\n",
       "      <td>3.00</td>\n",
       "      <td>11.03</td>\n",
       "      <td>2.67</td>\n",
       "      <td>9.18</td>\n",
       "      <td>2.45</td>\n",
       "      <td>8.63</td>\n",
       "      <td>2.35</td>\n",
       "      <td>13.11</td>\n",
       "      <td>3.15</td>\n",
       "    </tr>\n",
       "  </tbody>\n",
       "</table>\n",
       "</div>"
      ],
      "text/plain": [
       "       ШГК   №     D1  CWT1     D2  CWT2     D3  CWT3     D4  CWT4     D5  \\\n",
       "0   736.48   1  60.94  3.41  48.31  3.00  47.41  2.59  45.16  2.98  56.27   \n",
       "1   736.48   2  46.25  2.88  49.87  2.76  43.09  2.37  57.10  2.98  54.02   \n",
       "2   736.48   3  43.97  2.60  40.03  2.47  41.99  2.46  45.41  2.68  52.01   \n",
       "3   736.48   4  43.79  2.72  37.90  2.58  48.53  3.11  45.44  2.47  46.50   \n",
       "4   736.48   5  46.49  2.37  35.87  2.63  47.12  3.11  46.95  2.56  35.02   \n",
       "5   736.48   6  44.58  2.47  36.99  2.40  50.88  2.57  44.32  2.77  34.27   \n",
       "6   736.48   7  39.24  2.58  39.28  2.24  48.80  2.24  36.26  2.78  37.55   \n",
       "7   736.48   8  43.51  2.57  43.29  2.33  40.92  2.35  35.80  2.56  37.28   \n",
       "8   736.48   9  43.09  2.78  39.01  2.54  35.39  2.35  36.21  2.77  34.62   \n",
       "9   736.48  10  42.00  2.67  35.05  2.55  32.26  2.47  35.60  2.46  33.08   \n",
       "10  736.48  11  40.08  2.57  39.63  2.32  34.98  2.79  42.42  2.03  35.85   \n",
       "11  736.48  12  37.08  2.78  39.01  2.03  29.62  3.09  38.14  2.03  38.26   \n",
       "12  736.48  13  35.18  2.88  32.08  2.16  34.76  3.11  39.21  1.92  37.96   \n",
       "13  736.48  14  30.48  2.88  30.37  2.55  36.90  2.68  35.20  1.82  35.55   \n",
       "14  736.48  15  24.32  2.78  29.31  2.67  31.98  2.35  26.29  1.82  31.55   \n",
       "15  736.48  16  21.11  2.67  23.01  2.74  20.05  2.35  25.16  2.14  27.35   \n",
       "16  736.48  17  16.20  2.99  20.37  3.08  22.01  2.67  20.72  3.32  21.32   \n",
       "17  736.48  18  14.09  3.41  18.41  3.44  20.89  2.99  19.65  3.86  20.50   \n",
       "18  736.48  19  14.72  3.52  16.41  3.35  18.13  3.31  16.64  3.00  20.11   \n",
       "19  736.48  20  13.45  3.31  16.52  3.57  17.06  3.20  12.63  2.67  20.93   \n",
       "20  736.48  21  13.75  3.25  16.44  3.53  15.63  3.12  14.50  2.99  18.02   \n",
       "21  736.48  22  12.26  3.15  13.50  2.84  11.79  2.91  10.69  2.99  14.74   \n",
       "22  736.48  23  10.77  3.00  11.03  2.67   9.18  2.45   8.63  2.35  13.11   \n",
       "\n",
       "    CWT5  \n",
       "0   3.20  \n",
       "1   3.10  \n",
       "2   2.91  \n",
       "3   3.00  \n",
       "4   2.74  \n",
       "5   2.35  \n",
       "6   2.25  \n",
       "7   2.32  \n",
       "8   2.28  \n",
       "9   2.05  \n",
       "10  1.93  \n",
       "11  1.98  \n",
       "12  2.23  \n",
       "13  2.42  \n",
       "14  2.31  \n",
       "15  2.52  \n",
       "16  3.21  \n",
       "17  3.52  \n",
       "18  3.58  \n",
       "19  3.90  \n",
       "20  4.24  \n",
       "21  3.96  \n",
       "22  3.15  "
      ]
     },
     "execution_count": 3,
     "metadata": {},
     "output_type": "execute_result"
    }
   ],
   "source": [
    "df"
   ]
  },
  {
   "cell_type": "markdown",
   "metadata": {},
   "source": [
    "## Самостоятельное обучение"
   ]
  },
  {
   "cell_type": "markdown",
   "metadata": {},
   "source": [
    "Ресурсы:\n",
    "\n",
    "* Курс \"Программирование на Python\": https://stepik.org/course/67/syllabus \n",
    "\n",
    "* Канал StatQuest: https://www.youtube.com/c/joshstarmer/videos \n",
    "\n",
    "* Книга \"Статистика и котики\": https://t.me/progbook/2825 \n",
    "\n",
    "Где писать код:\n",
    "\n",
    "* Google Colab: https://colab.research.google.com/ "
   ]
  },
  {
   "cell_type": "markdown",
   "metadata": {},
   "source": [
    "## Основы математической логики"
   ]
  },
  {
   "cell_type": "markdown",
   "metadata": {},
   "source": [
    "### Конъюнкция («И», логическое умножение, and, &)"
   ]
  },
  {
   "cell_type": "markdown",
   "metadata": {},
   "source": [
    "![and_diagramma](images/and_diagramma.png)"
   ]
  },
  {
   "cell_type": "markdown",
   "metadata": {},
   "source": [
    "![and_table](images/and_table.png)"
   ]
  },
  {
   "cell_type": "code",
   "execution_count": 4,
   "metadata": {},
   "outputs": [
    {
     "data": {
      "text/html": [
       "<div>\n",
       "<style scoped>\n",
       "    .dataframe tbody tr th:only-of-type {\n",
       "        vertical-align: middle;\n",
       "    }\n",
       "\n",
       "    .dataframe tbody tr th {\n",
       "        vertical-align: top;\n",
       "    }\n",
       "\n",
       "    .dataframe thead th {\n",
       "        text-align: right;\n",
       "    }\n",
       "</style>\n",
       "<table border=\"1\" class=\"dataframe\">\n",
       "  <thead>\n",
       "    <tr style=\"text-align: right;\">\n",
       "      <th></th>\n",
       "      <th>ШГК</th>\n",
       "      <th>№</th>\n",
       "      <th>D1</th>\n",
       "      <th>CWT1</th>\n",
       "      <th>D2</th>\n",
       "      <th>CWT2</th>\n",
       "      <th>D3</th>\n",
       "      <th>CWT3</th>\n",
       "      <th>D4</th>\n",
       "      <th>CWT4</th>\n",
       "      <th>D5</th>\n",
       "      <th>CWT5</th>\n",
       "    </tr>\n",
       "  </thead>\n",
       "  <tbody>\n",
       "    <tr>\n",
       "      <th>1</th>\n",
       "      <td>736.48</td>\n",
       "      <td>2</td>\n",
       "      <td>46.25</td>\n",
       "      <td>2.88</td>\n",
       "      <td>49.87</td>\n",
       "      <td>2.76</td>\n",
       "      <td>43.09</td>\n",
       "      <td>2.37</td>\n",
       "      <td>57.10</td>\n",
       "      <td>2.98</td>\n",
       "      <td>54.02</td>\n",
       "      <td>3.10</td>\n",
       "    </tr>\n",
       "    <tr>\n",
       "      <th>2</th>\n",
       "      <td>736.48</td>\n",
       "      <td>3</td>\n",
       "      <td>43.97</td>\n",
       "      <td>2.60</td>\n",
       "      <td>40.03</td>\n",
       "      <td>2.47</td>\n",
       "      <td>41.99</td>\n",
       "      <td>2.46</td>\n",
       "      <td>45.41</td>\n",
       "      <td>2.68</td>\n",
       "      <td>52.01</td>\n",
       "      <td>2.91</td>\n",
       "    </tr>\n",
       "    <tr>\n",
       "      <th>3</th>\n",
       "      <td>736.48</td>\n",
       "      <td>4</td>\n",
       "      <td>43.79</td>\n",
       "      <td>2.72</td>\n",
       "      <td>37.90</td>\n",
       "      <td>2.58</td>\n",
       "      <td>48.53</td>\n",
       "      <td>3.11</td>\n",
       "      <td>45.44</td>\n",
       "      <td>2.47</td>\n",
       "      <td>46.50</td>\n",
       "      <td>3.00</td>\n",
       "    </tr>\n",
       "    <tr>\n",
       "      <th>4</th>\n",
       "      <td>736.48</td>\n",
       "      <td>5</td>\n",
       "      <td>46.49</td>\n",
       "      <td>2.37</td>\n",
       "      <td>35.87</td>\n",
       "      <td>2.63</td>\n",
       "      <td>47.12</td>\n",
       "      <td>3.11</td>\n",
       "      <td>46.95</td>\n",
       "      <td>2.56</td>\n",
       "      <td>35.02</td>\n",
       "      <td>2.74</td>\n",
       "    </tr>\n",
       "    <tr>\n",
       "      <th>5</th>\n",
       "      <td>736.48</td>\n",
       "      <td>6</td>\n",
       "      <td>44.58</td>\n",
       "      <td>2.47</td>\n",
       "      <td>36.99</td>\n",
       "      <td>2.40</td>\n",
       "      <td>50.88</td>\n",
       "      <td>2.57</td>\n",
       "      <td>44.32</td>\n",
       "      <td>2.77</td>\n",
       "      <td>34.27</td>\n",
       "      <td>2.35</td>\n",
       "    </tr>\n",
       "    <tr>\n",
       "      <th>7</th>\n",
       "      <td>736.48</td>\n",
       "      <td>8</td>\n",
       "      <td>43.51</td>\n",
       "      <td>2.57</td>\n",
       "      <td>43.29</td>\n",
       "      <td>2.33</td>\n",
       "      <td>40.92</td>\n",
       "      <td>2.35</td>\n",
       "      <td>35.80</td>\n",
       "      <td>2.56</td>\n",
       "      <td>37.28</td>\n",
       "      <td>2.32</td>\n",
       "    </tr>\n",
       "    <tr>\n",
       "      <th>8</th>\n",
       "      <td>736.48</td>\n",
       "      <td>9</td>\n",
       "      <td>43.09</td>\n",
       "      <td>2.78</td>\n",
       "      <td>39.01</td>\n",
       "      <td>2.54</td>\n",
       "      <td>35.39</td>\n",
       "      <td>2.35</td>\n",
       "      <td>36.21</td>\n",
       "      <td>2.77</td>\n",
       "      <td>34.62</td>\n",
       "      <td>2.28</td>\n",
       "    </tr>\n",
       "    <tr>\n",
       "      <th>9</th>\n",
       "      <td>736.48</td>\n",
       "      <td>10</td>\n",
       "      <td>42.00</td>\n",
       "      <td>2.67</td>\n",
       "      <td>35.05</td>\n",
       "      <td>2.55</td>\n",
       "      <td>32.26</td>\n",
       "      <td>2.47</td>\n",
       "      <td>35.60</td>\n",
       "      <td>2.46</td>\n",
       "      <td>33.08</td>\n",
       "      <td>2.05</td>\n",
       "    </tr>\n",
       "    <tr>\n",
       "      <th>10</th>\n",
       "      <td>736.48</td>\n",
       "      <td>11</td>\n",
       "      <td>40.08</td>\n",
       "      <td>2.57</td>\n",
       "      <td>39.63</td>\n",
       "      <td>2.32</td>\n",
       "      <td>34.98</td>\n",
       "      <td>2.79</td>\n",
       "      <td>42.42</td>\n",
       "      <td>2.03</td>\n",
       "      <td>35.85</td>\n",
       "      <td>1.93</td>\n",
       "    </tr>\n",
       "  </tbody>\n",
       "</table>\n",
       "</div>"
      ],
      "text/plain": [
       "       ШГК   №     D1  CWT1     D2  CWT2     D3  CWT3     D4  CWT4     D5  \\\n",
       "1   736.48   2  46.25  2.88  49.87  2.76  43.09  2.37  57.10  2.98  54.02   \n",
       "2   736.48   3  43.97  2.60  40.03  2.47  41.99  2.46  45.41  2.68  52.01   \n",
       "3   736.48   4  43.79  2.72  37.90  2.58  48.53  3.11  45.44  2.47  46.50   \n",
       "4   736.48   5  46.49  2.37  35.87  2.63  47.12  3.11  46.95  2.56  35.02   \n",
       "5   736.48   6  44.58  2.47  36.99  2.40  50.88  2.57  44.32  2.77  34.27   \n",
       "7   736.48   8  43.51  2.57  43.29  2.33  40.92  2.35  35.80  2.56  37.28   \n",
       "8   736.48   9  43.09  2.78  39.01  2.54  35.39  2.35  36.21  2.77  34.62   \n",
       "9   736.48  10  42.00  2.67  35.05  2.55  32.26  2.47  35.60  2.46  33.08   \n",
       "10  736.48  11  40.08  2.57  39.63  2.32  34.98  2.79  42.42  2.03  35.85   \n",
       "\n",
       "    CWT5  \n",
       "1   3.10  \n",
       "2   2.91  \n",
       "3   3.00  \n",
       "4   2.74  \n",
       "5   2.35  \n",
       "7   2.32  \n",
       "8   2.28  \n",
       "9   2.05  \n",
       "10  1.93  "
      ]
     },
     "execution_count": 4,
     "metadata": {},
     "output_type": "execute_result"
    }
   ],
   "source": [
    "df[(df['D1'] > 40) & (df['CWT1'] < 3)]"
   ]
  },
  {
   "cell_type": "markdown",
   "metadata": {},
   "source": [
    "### Дизъюнкция («ИЛИ», логическое сложение, or, |)"
   ]
  },
  {
   "cell_type": "markdown",
   "metadata": {},
   "source": [
    "![or_diagramma](images/or_diagramma.png)"
   ]
  },
  {
   "cell_type": "markdown",
   "metadata": {},
   "source": [
    "![or_table](images/or_table.png)"
   ]
  },
  {
   "cell_type": "code",
   "execution_count": 5,
   "metadata": {},
   "outputs": [
    {
     "data": {
      "text/html": [
       "<div>\n",
       "<style scoped>\n",
       "    .dataframe tbody tr th:only-of-type {\n",
       "        vertical-align: middle;\n",
       "    }\n",
       "\n",
       "    .dataframe tbody tr th {\n",
       "        vertical-align: top;\n",
       "    }\n",
       "\n",
       "    .dataframe thead th {\n",
       "        text-align: right;\n",
       "    }\n",
       "</style>\n",
       "<table border=\"1\" class=\"dataframe\">\n",
       "  <thead>\n",
       "    <tr style=\"text-align: right;\">\n",
       "      <th></th>\n",
       "      <th>ШГК</th>\n",
       "      <th>№</th>\n",
       "      <th>D1</th>\n",
       "      <th>CWT1</th>\n",
       "      <th>D2</th>\n",
       "      <th>CWT2</th>\n",
       "      <th>D3</th>\n",
       "      <th>CWT3</th>\n",
       "      <th>D4</th>\n",
       "      <th>CWT4</th>\n",
       "      <th>D5</th>\n",
       "      <th>CWT5</th>\n",
       "    </tr>\n",
       "  </thead>\n",
       "  <tbody>\n",
       "    <tr>\n",
       "      <th>4</th>\n",
       "      <td>736.48</td>\n",
       "      <td>5</td>\n",
       "      <td>46.49</td>\n",
       "      <td>2.37</td>\n",
       "      <td>35.87</td>\n",
       "      <td>2.63</td>\n",
       "      <td>47.12</td>\n",
       "      <td>3.11</td>\n",
       "      <td>46.95</td>\n",
       "      <td>2.56</td>\n",
       "      <td>35.02</td>\n",
       "      <td>2.74</td>\n",
       "    </tr>\n",
       "    <tr>\n",
       "      <th>5</th>\n",
       "      <td>736.48</td>\n",
       "      <td>6</td>\n",
       "      <td>44.58</td>\n",
       "      <td>2.47</td>\n",
       "      <td>36.99</td>\n",
       "      <td>2.40</td>\n",
       "      <td>50.88</td>\n",
       "      <td>2.57</td>\n",
       "      <td>44.32</td>\n",
       "      <td>2.77</td>\n",
       "      <td>34.27</td>\n",
       "      <td>2.35</td>\n",
       "    </tr>\n",
       "    <tr>\n",
       "      <th>6</th>\n",
       "      <td>736.48</td>\n",
       "      <td>7</td>\n",
       "      <td>39.24</td>\n",
       "      <td>2.58</td>\n",
       "      <td>39.28</td>\n",
       "      <td>2.24</td>\n",
       "      <td>48.80</td>\n",
       "      <td>2.24</td>\n",
       "      <td>36.26</td>\n",
       "      <td>2.78</td>\n",
       "      <td>37.55</td>\n",
       "      <td>2.25</td>\n",
       "    </tr>\n",
       "    <tr>\n",
       "      <th>7</th>\n",
       "      <td>736.48</td>\n",
       "      <td>8</td>\n",
       "      <td>43.51</td>\n",
       "      <td>2.57</td>\n",
       "      <td>43.29</td>\n",
       "      <td>2.33</td>\n",
       "      <td>40.92</td>\n",
       "      <td>2.35</td>\n",
       "      <td>35.80</td>\n",
       "      <td>2.56</td>\n",
       "      <td>37.28</td>\n",
       "      <td>2.32</td>\n",
       "    </tr>\n",
       "    <tr>\n",
       "      <th>10</th>\n",
       "      <td>736.48</td>\n",
       "      <td>11</td>\n",
       "      <td>40.08</td>\n",
       "      <td>2.57</td>\n",
       "      <td>39.63</td>\n",
       "      <td>2.32</td>\n",
       "      <td>34.98</td>\n",
       "      <td>2.79</td>\n",
       "      <td>42.42</td>\n",
       "      <td>2.03</td>\n",
       "      <td>35.85</td>\n",
       "      <td>1.93</td>\n",
       "    </tr>\n",
       "    <tr>\n",
       "      <th>17</th>\n",
       "      <td>736.48</td>\n",
       "      <td>18</td>\n",
       "      <td>14.09</td>\n",
       "      <td>3.41</td>\n",
       "      <td>18.41</td>\n",
       "      <td>3.44</td>\n",
       "      <td>20.89</td>\n",
       "      <td>2.99</td>\n",
       "      <td>19.65</td>\n",
       "      <td>3.86</td>\n",
       "      <td>20.50</td>\n",
       "      <td>3.52</td>\n",
       "    </tr>\n",
       "    <tr>\n",
       "      <th>18</th>\n",
       "      <td>736.48</td>\n",
       "      <td>19</td>\n",
       "      <td>14.72</td>\n",
       "      <td>3.52</td>\n",
       "      <td>16.41</td>\n",
       "      <td>3.35</td>\n",
       "      <td>18.13</td>\n",
       "      <td>3.31</td>\n",
       "      <td>16.64</td>\n",
       "      <td>3.00</td>\n",
       "      <td>20.11</td>\n",
       "      <td>3.58</td>\n",
       "    </tr>\n",
       "    <tr>\n",
       "      <th>19</th>\n",
       "      <td>736.48</td>\n",
       "      <td>20</td>\n",
       "      <td>13.45</td>\n",
       "      <td>3.31</td>\n",
       "      <td>16.52</td>\n",
       "      <td>3.57</td>\n",
       "      <td>17.06</td>\n",
       "      <td>3.20</td>\n",
       "      <td>12.63</td>\n",
       "      <td>2.67</td>\n",
       "      <td>20.93</td>\n",
       "      <td>3.90</td>\n",
       "    </tr>\n",
       "    <tr>\n",
       "      <th>20</th>\n",
       "      <td>736.48</td>\n",
       "      <td>21</td>\n",
       "      <td>13.75</td>\n",
       "      <td>3.25</td>\n",
       "      <td>16.44</td>\n",
       "      <td>3.53</td>\n",
       "      <td>15.63</td>\n",
       "      <td>3.12</td>\n",
       "      <td>14.50</td>\n",
       "      <td>2.99</td>\n",
       "      <td>18.02</td>\n",
       "      <td>4.24</td>\n",
       "    </tr>\n",
       "    <tr>\n",
       "      <th>21</th>\n",
       "      <td>736.48</td>\n",
       "      <td>22</td>\n",
       "      <td>12.26</td>\n",
       "      <td>3.15</td>\n",
       "      <td>13.50</td>\n",
       "      <td>2.84</td>\n",
       "      <td>11.79</td>\n",
       "      <td>2.91</td>\n",
       "      <td>10.69</td>\n",
       "      <td>2.99</td>\n",
       "      <td>14.74</td>\n",
       "      <td>3.96</td>\n",
       "    </tr>\n",
       "    <tr>\n",
       "      <th>22</th>\n",
       "      <td>736.48</td>\n",
       "      <td>23</td>\n",
       "      <td>10.77</td>\n",
       "      <td>3.00</td>\n",
       "      <td>11.03</td>\n",
       "      <td>2.67</td>\n",
       "      <td>9.18</td>\n",
       "      <td>2.45</td>\n",
       "      <td>8.63</td>\n",
       "      <td>2.35</td>\n",
       "      <td>13.11</td>\n",
       "      <td>3.15</td>\n",
       "    </tr>\n",
       "  </tbody>\n",
       "</table>\n",
       "</div>"
      ],
      "text/plain": [
       "       ШГК   №     D1  CWT1     D2  CWT2     D3  CWT3     D4  CWT4     D5  \\\n",
       "4   736.48   5  46.49  2.37  35.87  2.63  47.12  3.11  46.95  2.56  35.02   \n",
       "5   736.48   6  44.58  2.47  36.99  2.40  50.88  2.57  44.32  2.77  34.27   \n",
       "6   736.48   7  39.24  2.58  39.28  2.24  48.80  2.24  36.26  2.78  37.55   \n",
       "7   736.48   8  43.51  2.57  43.29  2.33  40.92  2.35  35.80  2.56  37.28   \n",
       "10  736.48  11  40.08  2.57  39.63  2.32  34.98  2.79  42.42  2.03  35.85   \n",
       "17  736.48  18  14.09  3.41  18.41  3.44  20.89  2.99  19.65  3.86  20.50   \n",
       "18  736.48  19  14.72  3.52  16.41  3.35  18.13  3.31  16.64  3.00  20.11   \n",
       "19  736.48  20  13.45  3.31  16.52  3.57  17.06  3.20  12.63  2.67  20.93   \n",
       "20  736.48  21  13.75  3.25  16.44  3.53  15.63  3.12  14.50  2.99  18.02   \n",
       "21  736.48  22  12.26  3.15  13.50  2.84  11.79  2.91  10.69  2.99  14.74   \n",
       "22  736.48  23  10.77  3.00  11.03  2.67   9.18  2.45   8.63  2.35  13.11   \n",
       "\n",
       "    CWT5  \n",
       "4   2.74  \n",
       "5   2.35  \n",
       "6   2.25  \n",
       "7   2.32  \n",
       "10  1.93  \n",
       "17  3.52  \n",
       "18  3.58  \n",
       "19  3.90  \n",
       "20  4.24  \n",
       "21  3.96  \n",
       "22  3.15  "
      ]
     },
     "execution_count": 5,
     "metadata": {},
     "output_type": "execute_result"
    }
   ],
   "source": [
    "df[(df['D1'] < 15) | (df['CWT1'] < 2.6)]"
   ]
  },
  {
   "cell_type": "markdown",
   "metadata": {},
   "source": [
    "### Отрицание («НЕ», not, ~)"
   ]
  },
  {
   "cell_type": "markdown",
   "metadata": {},
   "source": [
    "![not_diagramma](images/not_diagramma.png)"
   ]
  },
  {
   "cell_type": "markdown",
   "metadata": {},
   "source": [
    "![not_table](images/not_table.png)"
   ]
  },
  {
   "cell_type": "code",
   "execution_count": 6,
   "metadata": {},
   "outputs": [
    {
     "data": {
      "text/html": [
       "<div>\n",
       "<style scoped>\n",
       "    .dataframe tbody tr th:only-of-type {\n",
       "        vertical-align: middle;\n",
       "    }\n",
       "\n",
       "    .dataframe tbody tr th {\n",
       "        vertical-align: top;\n",
       "    }\n",
       "\n",
       "    .dataframe thead th {\n",
       "        text-align: right;\n",
       "    }\n",
       "</style>\n",
       "<table border=\"1\" class=\"dataframe\">\n",
       "  <thead>\n",
       "    <tr style=\"text-align: right;\">\n",
       "      <th></th>\n",
       "      <th>ШГК</th>\n",
       "      <th>№</th>\n",
       "      <th>D1</th>\n",
       "      <th>CWT1</th>\n",
       "      <th>D2</th>\n",
       "      <th>CWT2</th>\n",
       "      <th>D3</th>\n",
       "      <th>CWT3</th>\n",
       "      <th>D4</th>\n",
       "      <th>CWT4</th>\n",
       "      <th>D5</th>\n",
       "      <th>CWT5</th>\n",
       "    </tr>\n",
       "  </thead>\n",
       "  <tbody>\n",
       "    <tr>\n",
       "      <th>2</th>\n",
       "      <td>736.48</td>\n",
       "      <td>3</td>\n",
       "      <td>43.97</td>\n",
       "      <td>2.60</td>\n",
       "      <td>40.03</td>\n",
       "      <td>2.47</td>\n",
       "      <td>41.99</td>\n",
       "      <td>2.46</td>\n",
       "      <td>45.41</td>\n",
       "      <td>2.68</td>\n",
       "      <td>52.01</td>\n",
       "      <td>2.91</td>\n",
       "    </tr>\n",
       "    <tr>\n",
       "      <th>4</th>\n",
       "      <td>736.48</td>\n",
       "      <td>5</td>\n",
       "      <td>46.49</td>\n",
       "      <td>2.37</td>\n",
       "      <td>35.87</td>\n",
       "      <td>2.63</td>\n",
       "      <td>47.12</td>\n",
       "      <td>3.11</td>\n",
       "      <td>46.95</td>\n",
       "      <td>2.56</td>\n",
       "      <td>35.02</td>\n",
       "      <td>2.74</td>\n",
       "    </tr>\n",
       "    <tr>\n",
       "      <th>5</th>\n",
       "      <td>736.48</td>\n",
       "      <td>6</td>\n",
       "      <td>44.58</td>\n",
       "      <td>2.47</td>\n",
       "      <td>36.99</td>\n",
       "      <td>2.40</td>\n",
       "      <td>50.88</td>\n",
       "      <td>2.57</td>\n",
       "      <td>44.32</td>\n",
       "      <td>2.77</td>\n",
       "      <td>34.27</td>\n",
       "      <td>2.35</td>\n",
       "    </tr>\n",
       "    <tr>\n",
       "      <th>6</th>\n",
       "      <td>736.48</td>\n",
       "      <td>7</td>\n",
       "      <td>39.24</td>\n",
       "      <td>2.58</td>\n",
       "      <td>39.28</td>\n",
       "      <td>2.24</td>\n",
       "      <td>48.80</td>\n",
       "      <td>2.24</td>\n",
       "      <td>36.26</td>\n",
       "      <td>2.78</td>\n",
       "      <td>37.55</td>\n",
       "      <td>2.25</td>\n",
       "    </tr>\n",
       "    <tr>\n",
       "      <th>7</th>\n",
       "      <td>736.48</td>\n",
       "      <td>8</td>\n",
       "      <td>43.51</td>\n",
       "      <td>2.57</td>\n",
       "      <td>43.29</td>\n",
       "      <td>2.33</td>\n",
       "      <td>40.92</td>\n",
       "      <td>2.35</td>\n",
       "      <td>35.80</td>\n",
       "      <td>2.56</td>\n",
       "      <td>37.28</td>\n",
       "      <td>2.32</td>\n",
       "    </tr>\n",
       "    <tr>\n",
       "      <th>10</th>\n",
       "      <td>736.48</td>\n",
       "      <td>11</td>\n",
       "      <td>40.08</td>\n",
       "      <td>2.57</td>\n",
       "      <td>39.63</td>\n",
       "      <td>2.32</td>\n",
       "      <td>34.98</td>\n",
       "      <td>2.79</td>\n",
       "      <td>42.42</td>\n",
       "      <td>2.03</td>\n",
       "      <td>35.85</td>\n",
       "      <td>1.93</td>\n",
       "    </tr>\n",
       "  </tbody>\n",
       "</table>\n",
       "</div>"
      ],
      "text/plain": [
       "       ШГК   №     D1  CWT1     D2  CWT2     D3  CWT3     D4  CWT4     D5  \\\n",
       "2   736.48   3  43.97  2.60  40.03  2.47  41.99  2.46  45.41  2.68  52.01   \n",
       "4   736.48   5  46.49  2.37  35.87  2.63  47.12  3.11  46.95  2.56  35.02   \n",
       "5   736.48   6  44.58  2.47  36.99  2.40  50.88  2.57  44.32  2.77  34.27   \n",
       "6   736.48   7  39.24  2.58  39.28  2.24  48.80  2.24  36.26  2.78  37.55   \n",
       "7   736.48   8  43.51  2.57  43.29  2.33  40.92  2.35  35.80  2.56  37.28   \n",
       "10  736.48  11  40.08  2.57  39.63  2.32  34.98  2.79  42.42  2.03  35.85   \n",
       "\n",
       "    CWT5  \n",
       "2   2.91  \n",
       "4   2.74  \n",
       "5   2.35  \n",
       "6   2.25  \n",
       "7   2.32  \n",
       "10  1.93  "
      ]
     },
     "execution_count": 6,
     "metadata": {},
     "output_type": "execute_result"
    }
   ],
   "source": [
    "df[~(df['CWT1'] > 2.6)]"
   ]
  },
  {
   "cell_type": "markdown",
   "metadata": {},
   "source": [
    "## Основы алгоритмов"
   ]
  },
  {
   "cell_type": "markdown",
   "metadata": {},
   "source": [
    "Алгоритм – последовательность команд."
   ]
  },
  {
   "cell_type": "markdown",
   "metadata": {},
   "source": [
    "### Переменные"
   ]
  },
  {
   "cell_type": "markdown",
   "metadata": {},
   "source": [
    "Целые числа"
   ]
  },
  {
   "cell_type": "code",
   "execution_count": 7,
   "metadata": {},
   "outputs": [],
   "source": [
    "a = 1\n",
    "b = 2"
   ]
  },
  {
   "cell_type": "code",
   "execution_count": 8,
   "metadata": {},
   "outputs": [
    {
     "name": "stdout",
     "output_type": "stream",
     "text": [
      "a + b =  3\n",
      "a - b =  -1\n",
      "a * b =  2\n",
      "a / b =  0.5\n",
      "b ** 2 =  4\n"
     ]
    }
   ],
   "source": [
    "print('a + b = ', a + b)\n",
    "print('a - b = ', a - b)\n",
    "print('a * b = ', a * b)\n",
    "print('a / b = ', a / b)\n",
    "print('b ** 2 = ', b ** 2)"
   ]
  },
  {
   "cell_type": "code",
   "execution_count": 9,
   "metadata": {},
   "outputs": [
    {
     "name": "stdout",
     "output_type": "stream",
     "text": [
      "c =  3\n"
     ]
    }
   ],
   "source": [
    "c = a + b\n",
    "print('c = ', c)"
   ]
  },
  {
   "cell_type": "markdown",
   "metadata": {},
   "source": [
    "Действительные числа (числа с плавающей точкой)"
   ]
  },
  {
   "cell_type": "code",
   "execution_count": 10,
   "metadata": {},
   "outputs": [],
   "source": [
    "d = 10.3\n",
    "f = -0.7"
   ]
  },
  {
   "cell_type": "code",
   "execution_count": 11,
   "metadata": {},
   "outputs": [
    {
     "name": "stdout",
     "output_type": "stream",
     "text": [
      "d + f =  9.600000000000001\n",
      "d - f =  11.0\n",
      "d * f =  -7.21\n",
      "d / f =  -14.714285714285717\n",
      "f ** 2 =  0.48999999999999994\n"
     ]
    }
   ],
   "source": [
    "print('d + f = ', d + f)\n",
    "print('d - f = ', d - f)\n",
    "print('d * f = ', d * f)\n",
    "print('d / f = ', d / f)\n",
    "print('f ** 2 = ', f ** 2)"
   ]
  },
  {
   "cell_type": "code",
   "execution_count": 12,
   "metadata": {},
   "outputs": [
    {
     "name": "stdout",
     "output_type": "stream",
     "text": [
      "0.19544021994199468\n"
     ]
    }
   ],
   "source": [
    "e = d ** f\n",
    "print(e)"
   ]
  },
  {
   "cell_type": "markdown",
   "metadata": {},
   "source": [
    "Задание: Сложите 0.1 и 0.2. Выведете результат на экран."
   ]
  },
  {
   "cell_type": "markdown",
   "metadata": {},
   "source": [
    "Строки"
   ]
  },
  {
   "cell_type": "code",
   "execution_count": 13,
   "metadata": {},
   "outputs": [],
   "source": [
    "s1 = 'Текст'\n",
    "s2 = 'Text'"
   ]
  },
  {
   "cell_type": "code",
   "execution_count": 14,
   "metadata": {},
   "outputs": [
    {
     "name": "stdout",
     "output_type": "stream",
     "text": [
      "ТекстText\n",
      "Текст Text\n",
      "ТекстТекстТекстТекстТекст\n"
     ]
    }
   ],
   "source": [
    "print(s1 + s2)\n",
    "print(s1 + ' ' + s2)\n",
    "print(s1 * 5)"
   ]
  },
  {
   "cell_type": "code",
   "execution_count": 15,
   "metadata": {},
   "outputs": [
    {
     "data": {
      "text/plain": [
       "'Т'"
      ]
     },
     "execution_count": 15,
     "metadata": {},
     "output_type": "execute_result"
    }
   ],
   "source": [
    "s1[0]"
   ]
  },
  {
   "cell_type": "code",
   "execution_count": 16,
   "metadata": {},
   "outputs": [
    {
     "ename": "TypeError",
     "evalue": "'str' object does not support item assignment",
     "output_type": "error",
     "traceback": [
      "\u001b[1;31m---------------------------------------------------------------------------\u001b[0m",
      "\u001b[1;31mTypeError\u001b[0m                                 Traceback (most recent call last)",
      "\u001b[1;32m~\\AppData\\Local\\Temp/ipykernel_23404/1609746459.py\u001b[0m in \u001b[0;36m<module>\u001b[1;34m\u001b[0m\n\u001b[1;32m----> 1\u001b[1;33m \u001b[0ms1\u001b[0m\u001b[1;33m[\u001b[0m\u001b[1;36m0\u001b[0m\u001b[1;33m]\u001b[0m \u001b[1;33m=\u001b[0m \u001b[1;34m'O'\u001b[0m\u001b[1;33m\u001b[0m\u001b[1;33m\u001b[0m\u001b[0m\n\u001b[0m",
      "\u001b[1;31mTypeError\u001b[0m: 'str' object does not support item assignment"
     ]
    }
   ],
   "source": [
    "s1[0] = 'O'"
   ]
  },
  {
   "cell_type": "code",
   "execution_count": null,
   "metadata": {},
   "outputs": [
    {
     "data": {
      "text/plain": [
       "'Оекст'"
      ]
     },
     "execution_count": 39,
     "metadata": {},
     "output_type": "execute_result"
    }
   ],
   "source": [
    "s1.replace('Т', 'О')"
   ]
  },
  {
   "cell_type": "markdown",
   "metadata": {},
   "source": [
    "Списки"
   ]
  },
  {
   "cell_type": "code",
   "execution_count": 17,
   "metadata": {},
   "outputs": [],
   "source": [
    "l1 = [17, 1,  8, 3, 4, 89, 12, 4, 11, 34]\n",
    "l2 = [90.5, 50.6, -78.16]\n",
    "\n",
    "ugly_l = [1, 'str', 0.44, [1, 5, 3]]"
   ]
  },
  {
   "cell_type": "code",
   "execution_count": 18,
   "metadata": {},
   "outputs": [
    {
     "name": "stdout",
     "output_type": "stream",
     "text": [
      "[17, 1, 8, 3, 4, 89, 12, 4, 11, 34, 90.5, 50.6, -78.16]\n"
     ]
    }
   ],
   "source": [
    "print(l1 + l2)"
   ]
  },
  {
   "cell_type": "code",
   "execution_count": null,
   "metadata": {},
   "outputs": [],
   "source": [
    "print(l1*5)"
   ]
  },
  {
   "cell_type": "markdown",
   "metadata": {},
   "source": [
    "Срезы списков:\n",
    "\n",
    "имя_списка[начало (включительно): конец (не включительно): шаг]"
   ]
  },
  {
   "cell_type": "code",
   "execution_count": 19,
   "metadata": {},
   "outputs": [
    {
     "name": "stdout",
     "output_type": "stream",
     "text": [
      "Первый элемент: 17\n",
      "Последний элемент: 34\n",
      "Всё, после четвёртого элемента (включая четвёртый элемент) [3, 4, 89, 12, 4, 11, 34]\n",
      "Всё, до шестого элемента (не включая шестой элемент) [17, 1, 8, 3, 4]\n",
      "Всё с четвёртого по шестой элемент: [3, 4]\n",
      "Каждый второй элемент списка: [17, 8, 4, 12, 11]\n",
      "Каждый второй элемент списка, кроме первого и последнего: [1, 3, 89, 4]\n"
     ]
    }
   ],
   "source": [
    "print('Первый элемент:', l1[0])\n",
    "print('Последний элемент:', l1[-1])\n",
    "print('Всё, после четвёртого элемента (включая четвёртый элемент)', l1[3:])\n",
    "print('Всё, до шестого элемента (не включая шестой элемент)', l1[:5])\n",
    "print('Всё с четвёртого по шестой элемент:', l1[3:5])\n",
    "print('Каждый второй элемент списка:', l1[::2])\n",
    "print('Каждый второй элемент списка, кроме первого и последнего:', l1[1:-1:2])"
   ]
  },
  {
   "cell_type": "code",
   "execution_count": 20,
   "metadata": {},
   "outputs": [
    {
     "data": {
      "text/plain": [
       "[1, 3, 4, 4, 8, 11, 12, 17, 34, 89]"
      ]
     },
     "execution_count": 20,
     "metadata": {},
     "output_type": "execute_result"
    }
   ],
   "source": [
    "sorted(l1)"
   ]
  },
  {
   "cell_type": "markdown",
   "metadata": {},
   "source": [
    "Словари"
   ]
  },
  {
   "cell_type": "code",
   "execution_count": 1,
   "metadata": {},
   "outputs": [],
   "source": [
    "name_to_age = {\n",
    "    'Вася': 41,\n",
    "    'Петя': 94,\n",
    "    'Коля': 19\n",
    "}\n",
    "\n",
    "year_to_trw = {\n",
    "    1900: 770,\n",
    "    1901: 2400,\n",
    "    1902: 3400,\n",
    "    1903: 800,\n",
    "}"
   ]
  },
  {
   "cell_type": "code",
   "execution_count": 2,
   "metadata": {},
   "outputs": [
    {
     "data": {
      "text/plain": [
       "41"
      ]
     },
     "execution_count": 2,
     "metadata": {},
     "output_type": "execute_result"
    }
   ],
   "source": [
    "name_to_age['Вася']"
   ]
  },
  {
   "cell_type": "code",
   "execution_count": 3,
   "metadata": {},
   "outputs": [
    {
     "data": {
      "text/plain": [
       "3400"
      ]
     },
     "execution_count": 3,
     "metadata": {},
     "output_type": "execute_result"
    }
   ],
   "source": [
    "year_to_trw[1902]"
   ]
  },
  {
   "cell_type": "code",
   "execution_count": null,
   "metadata": {},
   "outputs": [],
   "source": []
  }
 ],
 "metadata": {
  "kernelspec": {
   "display_name": "Python 3.9.7 64-bit",
   "language": "python",
   "name": "python3"
  },
  "language_info": {
   "codemirror_mode": {
    "name": "ipython",
    "version": 3
   },
   "file_extension": ".py",
   "mimetype": "text/x-python",
   "name": "python",
   "nbconvert_exporter": "python",
   "pygments_lexer": "ipython3",
   "version": "3.9.7"
  },
  "orig_nbformat": 4,
  "vscode": {
   "interpreter": {
    "hash": "aac4e10b784c8b68847773aa91e5a338c2143a5789fe517934784a07fa1bd409"
   }
  }
 },
 "nbformat": 4,
 "nbformat_minor": 2
}
